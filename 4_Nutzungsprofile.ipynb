{
 "cells": [
  {
   "cell_type": "markdown",
   "metadata": {},
   "source": [
    "# Auswertung des (zeitlichen) Nutzungsverhalten"
   ]
  },
  {
   "cell_type": "code",
   "execution_count": 8,
   "metadata": {},
   "outputs": [
    {
     "name": "stderr",
     "output_type": "stream",
     "text": [
      "06.04.2022 20:09:54 -- INFO -- ------ Starte TinkerForge Update------\n",
      "06.04.2022 20:09:54 -- INFO -- MH wurde übersprungen.\n",
      "06.04.2022 20:09:54 -- INFO -- MW wurde übersprungen.\n",
      "06.04.2022 20:09:54 -- INFO -- LB wurde übersprungen.\n",
      "06.04.2022 20:09:54 -- INFO -- PM wurde übersprungen.\n",
      "06.04.2022 20:09:54 -- INFO -- WD wurde übersprungen.\n",
      "06.04.2022 20:09:54 -- INFO -- ------TinkerForge Update beendet!------\n",
      "06.04.2022 20:09:54 -- INFO -- Molline-Datenbank up-to-date. Kein Update notwendig.\n"
     ]
    },
    {
     "name": "stdout",
     "output_type": "stream",
     "text": [
      "The autoreload extension is already loaded. To reload it, use:\n",
      "  %reload_ext autoreload\n",
      "Starte Import der Datensätze - das kann etwas dauern...\n",
      "...Import beendet\n"
     ]
    }
   ],
   "source": [
    "import datetime as dt\n",
    "import os\n",
    "import re\n",
    "import locale\n",
    "locale.setlocale(locale.LC_ALL,'de_DE')\n",
    "from zoneinfo import ZoneInfo\n",
    "tz = ZoneInfo('Europe/Berlin')\n",
    "\n",
    "import numpy as np\n",
    "import pandas as pd\n",
    "\n",
    "%matplotlib inline\n",
    "%load_ext autoreload\n",
    "%autoreload 2\n",
    "\n",
    "import matplotlib as mpl\n",
    "import matplotlib.pyplot as plt\n",
    "import matplotlib.dates as mdates\n",
    "from matplotlib.gridspec import GridSpec\n",
    "from matplotlib.backends.backend_pdf import PdfPages\n",
    "\n",
    "### Import update_databases um die Datenbank zu aktualisieren wenn sie heute noch nicht aktualisiert wurde....\n",
    "#from src import update_databases\n",
    "from src.project_definitions import BUID, buid, WOHNUNGEN, ROOMS, dir_results\n",
    "from src.utilities import export, DIN, INDOC, eb_bbox, KOMPASS\n",
    "from src.sensor_reader import import_data\n",
    "from src.update_databases import up\n",
    "\n",
    "### update database ###\n",
    "up()\n",
    "\n",
    "#### Messdaten Import\n",
    "print('Starte Import der Datensätze - das kann etwas dauern...')\n",
    "IND = import_data(mode='IND')\n",
    "print('...Import beendet')"
   ]
  },
  {
   "cell_type": "code",
   "execution_count": 11,
   "metadata": {},
   "outputs": [],
   "source": [
    "##### USER INPUTS #####\n",
    "ex = True"
   ]
  },
  {
   "cell_type": "markdown",
   "metadata": {},
   "source": [
    "## Auswertung Fensterkontakt, Bewegungsmelder und Stromverbrauch pro Wohneinheit\n",
    "___\n",
    "Mittelwerte über den Tagesverlauf, stündliche Auflösung"
   ]
  },
  {
   "cell_type": "code",
   "execution_count": 12,
   "metadata": {},
   "outputs": [
    {
     "name": "stderr",
     "output_type": "stream",
     "text": [
      "C:\\Users\\gu98zes\\AppData\\Local\\Temp/ipykernel_10080/506128222.py:25: RuntimeWarning: More than 20 figures have been opened. Figures created through the pyplot interface (`matplotlib.pyplot.figure`) are retained until explicitly closed and may consume too much memory. (To control this warning, see the rcParam `figure.max_open_warning`).\n",
      "  fig, axs = plt.subplots(7,1,figsize=DIN['A4'])\n"
     ]
    },
    {
     "data": {
      "text/plain": [
       "<Figure size 595.276x841.89 with 0 Axes>"
      ]
     },
     "metadata": {},
     "output_type": "display_data"
    },
    {
     "data": {
      "text/plain": [
       "<Figure size 595.276x841.89 with 0 Axes>"
      ]
     },
     "metadata": {},
     "output_type": "display_data"
    },
    {
     "data": {
      "text/plain": [
       "<Figure size 595.276x841.89 with 0 Axes>"
      ]
     },
     "metadata": {},
     "output_type": "display_data"
    },
    {
     "data": {
      "text/plain": [
       "<Figure size 595.276x841.89 with 0 Axes>"
      ]
     },
     "metadata": {},
     "output_type": "display_data"
    },
    {
     "data": {
      "text/plain": [
       "<Figure size 595.276x841.89 with 0 Axes>"
      ]
     },
     "metadata": {},
     "output_type": "display_data"
    },
    {
     "data": {
      "text/plain": [
       "<Figure size 595.276x841.89 with 0 Axes>"
      ]
     },
     "metadata": {},
     "output_type": "display_data"
    },
    {
     "data": {
      "text/plain": [
       "<Figure size 595.276x841.89 with 0 Axes>"
      ]
     },
     "metadata": {},
     "output_type": "display_data"
    },
    {
     "data": {
      "text/plain": [
       "<Figure size 595.276x841.89 with 0 Axes>"
      ]
     },
     "metadata": {},
     "output_type": "display_data"
    },
    {
     "data": {
      "text/plain": [
       "<Figure size 595.276x841.89 with 0 Axes>"
      ]
     },
     "metadata": {},
     "output_type": "display_data"
    },
    {
     "data": {
      "text/plain": [
       "<Figure size 595.276x841.89 with 0 Axes>"
      ]
     },
     "metadata": {},
     "output_type": "display_data"
    },
    {
     "data": {
      "text/plain": [
       "<Figure size 595.276x841.89 with 0 Axes>"
      ]
     },
     "metadata": {},
     "output_type": "display_data"
    },
    {
     "data": {
      "text/plain": [
       "<Figure size 595.276x841.89 with 0 Axes>"
      ]
     },
     "metadata": {},
     "output_type": "display_data"
    },
    {
     "data": {
      "text/plain": [
       "<Figure size 595.276x841.89 with 0 Axes>"
      ]
     },
     "metadata": {},
     "output_type": "display_data"
    },
    {
     "data": {
      "text/plain": [
       "<Figure size 595.276x841.89 with 0 Axes>"
      ]
     },
     "metadata": {},
     "output_type": "display_data"
    },
    {
     "data": {
      "text/plain": [
       "<Figure size 595.276x841.89 with 0 Axes>"
      ]
     },
     "metadata": {},
     "output_type": "display_data"
    },
    {
     "data": {
      "text/plain": [
       "<Figure size 595.276x841.89 with 0 Axes>"
      ]
     },
     "metadata": {},
     "output_type": "display_data"
    },
    {
     "data": {
      "text/plain": [
       "<Figure size 595.276x841.89 with 0 Axes>"
      ]
     },
     "metadata": {},
     "output_type": "display_data"
    },
    {
     "data": {
      "text/plain": [
       "<Figure size 595.276x841.89 with 0 Axes>"
      ]
     },
     "metadata": {},
     "output_type": "display_data"
    },
    {
     "data": {
      "text/plain": [
       "<Figure size 595.276x841.89 with 0 Axes>"
      ]
     },
     "metadata": {},
     "output_type": "display_data"
    },
    {
     "data": {
      "text/plain": [
       "<Figure size 595.276x841.89 with 0 Axes>"
      ]
     },
     "metadata": {},
     "output_type": "display_data"
    },
    {
     "data": {
      "text/plain": [
       "<Figure size 595.276x841.89 with 0 Axes>"
      ]
     },
     "metadata": {},
     "output_type": "display_data"
    },
    {
     "data": {
      "text/plain": [
       "<Figure size 595.276x841.89 with 0 Axes>"
      ]
     },
     "metadata": {},
     "output_type": "display_data"
    },
    {
     "data": {
      "text/plain": [
       "<Figure size 595.276x841.89 with 0 Axes>"
      ]
     },
     "metadata": {},
     "output_type": "display_data"
    },
    {
     "data": {
      "text/plain": [
       "<Figure size 595.276x841.89 with 0 Axes>"
      ]
     },
     "metadata": {},
     "output_type": "display_data"
    },
    {
     "data": {
      "text/plain": [
       "<Figure size 595.276x841.89 with 0 Axes>"
      ]
     },
     "metadata": {},
     "output_type": "display_data"
    },
    {
     "data": {
      "text/plain": [
       "<Figure size 595.276x841.89 with 0 Axes>"
      ]
     },
     "metadata": {},
     "output_type": "display_data"
    },
    {
     "data": {
      "text/plain": [
       "<Figure size 595.276x841.89 with 0 Axes>"
      ]
     },
     "metadata": {},
     "output_type": "display_data"
    },
    {
     "data": {
      "text/plain": [
       "<Figure size 595.276x841.89 with 0 Axes>"
      ]
     },
     "metadata": {},
     "output_type": "display_data"
    },
    {
     "data": {
      "text/plain": [
       "<Figure size 595.276x841.89 with 0 Axes>"
      ]
     },
     "metadata": {},
     "output_type": "display_data"
    },
    {
     "data": {
      "text/plain": [
       "<Figure size 595.276x841.89 with 0 Axes>"
      ]
     },
     "metadata": {},
     "output_type": "display_data"
    },
    {
     "data": {
      "text/plain": [
       "<Figure size 595.276x841.89 with 0 Axes>"
      ]
     },
     "metadata": {},
     "output_type": "display_data"
    },
    {
     "data": {
      "text/plain": [
       "<Figure size 595.276x841.89 with 0 Axes>"
      ]
     },
     "metadata": {},
     "output_type": "display_data"
    },
    {
     "data": {
      "text/plain": [
       "<Figure size 595.276x841.89 with 0 Axes>"
      ]
     },
     "metadata": {},
     "output_type": "display_data"
    },
    {
     "data": {
      "text/plain": [
       "<Figure size 595.276x841.89 with 0 Axes>"
      ]
     },
     "metadata": {},
     "output_type": "display_data"
    },
    {
     "data": {
      "text/plain": [
       "<Figure size 595.276x841.89 with 0 Axes>"
      ]
     },
     "metadata": {},
     "output_type": "display_data"
    },
    {
     "data": {
      "text/plain": [
       "<Figure size 595.276x841.89 with 0 Axes>"
      ]
     },
     "metadata": {},
     "output_type": "display_data"
    },
    {
     "data": {
      "text/plain": [
       "<Figure size 595.276x841.89 with 0 Axes>"
      ]
     },
     "metadata": {},
     "output_type": "display_data"
    },
    {
     "data": {
      "text/plain": [
       "<Figure size 595.276x841.89 with 0 Axes>"
      ]
     },
     "metadata": {},
     "output_type": "display_data"
    },
    {
     "data": {
      "text/plain": [
       "<Figure size 595.276x841.89 with 0 Axes>"
      ]
     },
     "metadata": {},
     "output_type": "display_data"
    },
    {
     "data": {
      "text/plain": [
       "<Figure size 595.276x841.89 with 0 Axes>"
      ]
     },
     "metadata": {},
     "output_type": "display_data"
    },
    {
     "data": {
      "text/plain": [
       "<Figure size 595.276x841.89 with 0 Axes>"
      ]
     },
     "metadata": {},
     "output_type": "display_data"
    },
    {
     "data": {
      "text/plain": [
       "<Figure size 595.276x841.89 with 0 Axes>"
      ]
     },
     "metadata": {},
     "output_type": "display_data"
    },
    {
     "data": {
      "text/plain": [
       "<Figure size 595.276x841.89 with 0 Axes>"
      ]
     },
     "metadata": {},
     "output_type": "display_data"
    },
    {
     "data": {
      "text/plain": [
       "<Figure size 595.276x841.89 with 0 Axes>"
      ]
     },
     "metadata": {},
     "output_type": "display_data"
    },
    {
     "data": {
      "text/plain": [
       "<Figure size 595.276x841.89 with 0 Axes>"
      ]
     },
     "metadata": {},
     "output_type": "display_data"
    },
    {
     "data": {
      "text/plain": [
       "<Figure size 595.276x841.89 with 0 Axes>"
      ]
     },
     "metadata": {},
     "output_type": "display_data"
    },
    {
     "data": {
      "text/plain": [
       "<Figure size 595.276x841.89 with 0 Axes>"
      ]
     },
     "metadata": {},
     "output_type": "display_data"
    },
    {
     "data": {
      "text/plain": [
       "<Figure size 595.276x841.89 with 0 Axes>"
      ]
     },
     "metadata": {},
     "output_type": "display_data"
    },
    {
     "data": {
      "text/plain": [
       "<Figure size 595.276x841.89 with 0 Axes>"
      ]
     },
     "metadata": {},
     "output_type": "display_data"
    },
    {
     "data": {
      "text/plain": [
       "<Figure size 595.276x841.89 with 0 Axes>"
      ]
     },
     "metadata": {},
     "output_type": "display_data"
    },
    {
     "data": {
      "text/plain": [
       "<Figure size 595.276x841.89 with 0 Axes>"
      ]
     },
     "metadata": {},
     "output_type": "display_data"
    },
    {
     "data": {
      "text/plain": [
       "<Figure size 595.276x841.89 with 0 Axes>"
      ]
     },
     "metadata": {},
     "output_type": "display_data"
    },
    {
     "data": {
      "text/plain": [
       "<Figure size 595.276x841.89 with 0 Axes>"
      ]
     },
     "metadata": {},
     "output_type": "display_data"
    },
    {
     "data": {
      "text/plain": [
       "<Figure size 595.276x841.89 with 0 Axes>"
      ]
     },
     "metadata": {},
     "output_type": "display_data"
    },
    {
     "data": {
      "text/plain": [
       "<Figure size 595.276x841.89 with 0 Axes>"
      ]
     },
     "metadata": {},
     "output_type": "display_data"
    },
    {
     "data": {
      "text/plain": [
       "<Figure size 595.276x841.89 with 0 Axes>"
      ]
     },
     "metadata": {},
     "output_type": "display_data"
    },
    {
     "data": {
      "text/plain": [
       "<Figure size 595.276x841.89 with 0 Axes>"
      ]
     },
     "metadata": {},
     "output_type": "display_data"
    },
    {
     "data": {
      "text/plain": [
       "<Figure size 595.276x841.89 with 0 Axes>"
      ]
     },
     "metadata": {},
     "output_type": "display_data"
    },
    {
     "data": {
      "text/plain": [
       "<Figure size 595.276x841.89 with 0 Axes>"
      ]
     },
     "metadata": {},
     "output_type": "display_data"
    },
    {
     "data": {
      "text/plain": [
       "<Figure size 595.276x841.89 with 0 Axes>"
      ]
     },
     "metadata": {},
     "output_type": "display_data"
    },
    {
     "data": {
      "text/plain": [
       "<Figure size 595.276x841.89 with 0 Axes>"
      ]
     },
     "metadata": {},
     "output_type": "display_data"
    },
    {
     "data": {
      "text/plain": [
       "<Figure size 595.276x841.89 with 0 Axes>"
      ]
     },
     "metadata": {},
     "output_type": "display_data"
    },
    {
     "data": {
      "text/plain": [
       "<Figure size 595.276x841.89 with 0 Axes>"
      ]
     },
     "metadata": {},
     "output_type": "display_data"
    },
    {
     "data": {
      "text/plain": [
       "<Figure size 595.276x841.89 with 0 Axes>"
      ]
     },
     "metadata": {},
     "output_type": "display_data"
    },
    {
     "data": {
      "text/plain": [
       "<Figure size 595.276x841.89 with 0 Axes>"
      ]
     },
     "metadata": {},
     "output_type": "display_data"
    },
    {
     "data": {
      "text/plain": [
       "<Figure size 595.276x841.89 with 0 Axes>"
      ]
     },
     "metadata": {},
     "output_type": "display_data"
    }
   ],
   "source": [
    "plt.style.use('./src/stylesheets/eb3.mplstyle')\n",
    "\n",
    "MDs = {}\n",
    "WINs = {}\n",
    "ELs = {}\n",
    "path = os.path.join(dir_results, 'Nutzungsverhalten')\n",
    "if not os.path.exists(path): os.makedirs(path)\n",
    "\n",
    "\n",
    "_wohnungen = ['S','N']\n",
    "if not ex:\n",
    "    bui = 'MW'\n",
    "    buid = {bui : buid[bui]}\n",
    "    _wohnungen = ['N', 'S']\n",
    "    focus_month = dt.date(2022,2,1)\n",
    "\n",
    "for bui, color in buid.items():    \n",
    "    for app in _wohnungen:\n",
    "        with PdfPages(os.path.join(path, f'{bui}_{app}_Vergleich_reed_md_el_monatlich.pdf')) as pdf:\n",
    "            for name, group in IND[bui][app].groupby([IND[bui][app].index.year, IND[bui][app].index.month]):\n",
    "                date = dt.date(name[0], name[1], 1)\n",
    "                if not ex and date != focus_month:\n",
    "                    continue\n",
    "                else:\n",
    "                    fig, axs = plt.subplots(7,1,figsize=DIN['A4'])\n",
    "                    fig.suptitle(f'{BUID[bui]} | {WOHNUNGEN[app]} | {date.strftime(\"%B %Y\")}')\n",
    "\n",
    "                    # Bewegunsmelder Wohnzimmer\n",
    "                    ax = axs[0]\n",
    "                    room = 'WZ'\n",
    "                    dataset = (group[room].filter(like='_md').resample('H').max())\n",
    "                    dataset = dataset.groupby(dataset.index.hour).mean()\n",
    "                    MDs[(bui, app, room)] = dataset.mean(axis=1)\n",
    "\n",
    "                    dataset.mul(100).plot.bar(ax=ax,cmap = color)\n",
    "                    ax.legend(loc='center right',ncol=99,bbox_to_anchor=(1,1.1),frameon=False,labels=[f'{KOMPASS[col.split(\"_\")[0]]}fassade' for col in dataset.columns])\n",
    "                    ax.yaxis.set_major_formatter(mpl.ticker.PercentFormatter())\n",
    "                    ax.set_title(f'Bewegungsmelder Wohnzimmer')\n",
    "                    ax.set_ylim(0,100)\n",
    "                    ax.grid(axis=\"y\", ls='dotted')\n",
    "                    ax.grid(axis='x',which='both', linestyle='dotted')\n",
    "\n",
    "                    # Fenster Wohnzimmer\n",
    "                    ax = axs[4]\n",
    "                    dataset = group[room].filter(like='_reed').replace(['Closed', 'Open'],[0,1]).resample('H').sum()\n",
    "                    dataset = dataset.groupby(dataset.index.hour).mean()\n",
    "                    labels=[]\n",
    "                    for col in dataset.columns:\n",
    "                        ori = KOMPASS[col.split('_')[0]]\n",
    "                        size = re.search(r'\\[(.*?)\\]', col)[0]\n",
    "                        labels.append(f\"{ori} {size}\")\n",
    "                        WINs[(bui, app, room, col)] = dataset[col]\n",
    "\n",
    "                    dataset.plot.bar(ax=ax,cmap = color)\n",
    "                    ax.yaxis.set_major_formatter(mpl.ticker.PercentFormatter())\n",
    "                    ax.set_title(f'Fenster Wohnzimmer')\n",
    "                    ax.legend(loc='center right',ncol=99,bbox_to_anchor=(1,1.1),frameon=False,labels=labels)\n",
    "                    ax.set_ylim(0,60)\n",
    "                    ax.grid(axis=\"y\", ls='dotted')\n",
    "                    ax.grid(axis='x',which='both', linestyle='dotted')\n",
    "\n",
    "                    # Bewegunsmelder Flur\n",
    "                    ax = axs[1]\n",
    "                    room = 'F'\n",
    "                    dataset = (group[room].filter(like='_md').resample('H').max())\n",
    "                    dataset = dataset.groupby(dataset.index.hour).mean()\n",
    "                    MDs[(bui, app, room)] = dataset.mean(axis=1)\n",
    "                    dataset.mul(100).plot.bar(ax=ax,cmap = color)  \n",
    "                    ax.legend(labels = [f'{KOMPASS[col.split(\"_\")[0]]}fassade' for col in dataset.columns], loc='center right',ncol=99,bbox_to_anchor=(1,1.1),frameon=False)\n",
    "                    ax.yaxis.set_major_formatter(mpl.ticker.PercentFormatter())          \n",
    "                    ax.set_title(f'Bewegungsmelder Flur')\n",
    "                    ax.set_ylim(0,100)\n",
    "                    ax.grid(axis=\"y\", ls='dotted')\n",
    "                    ax.grid(axis='x',which='both', linestyle='dotted')\n",
    "\n",
    "                    #Fenster Flur\n",
    "                    ax = axs[2]\n",
    "                    room = 'F'\n",
    "                    dataset = group[room].filter(like='_reed').replace(['Closed', 'Open'],[0,1]).resample('H').mean()\n",
    "                    dataset = dataset.groupby(dataset.index.hour).mean()\n",
    "                    labels = []\n",
    "                    for col in dataset.columns:\n",
    "                        ori = KOMPASS[col.split('_')[0]]\n",
    "                        size = re.search(r'\\[(.*?)\\]', col)[0]\n",
    "                        labels.append(f\"{ori} {size}\")\n",
    "                        WINs[(bui, app, room, col)] = dataset[col]\n",
    "\n",
    "                    dataset.mul(100).plot.bar(ax=ax,cmap = color)\n",
    "                    ax.yaxis.set_major_formatter(mpl.ticker.PercentFormatter())\n",
    "                    \n",
    "                    ax.legend(loc='center right',ncol=99,bbox_to_anchor=(1,1.1),frameon=False,labels=labels)\n",
    "                    ax.set_title(f'Fenster Flur')\n",
    "                    ax.set_ylim(0,100)\n",
    "                    ax.grid(axis=\"y\", ls='dotted')\n",
    "                    ax.grid(axis='x',which='both', linestyle='dotted')\n",
    "\n",
    "                    #Fenster Küche\n",
    "                    ax = axs[3]\n",
    "                    room = 'K'\n",
    "                    dataset = group[room].filter(like='_reed').replace(['Closed', 'Open'],[0,1]).resample('H').mean()\n",
    "                    dataset = dataset.groupby(dataset.index.hour).mean()\n",
    "                    labels=[]\n",
    "                    for col in dataset.columns:\n",
    "                        ori = KOMPASS[col.split('_')[0]]\n",
    "                        size = re.search(r'\\[(.*?)\\]', col)[0]\n",
    "                        labels.append(f\"{ori} {size}\")\n",
    "                        WINs[(bui, app, room, col)] = dataset[col]\n",
    "\n",
    "                    dataset.mul(100).plot.bar(ax=ax,cmap = color)\n",
    "                    ax.yaxis.set_major_formatter(mpl.ticker.PercentFormatter())\n",
    "                    ax.legend(loc='center right',ncol=99,bbox_to_anchor=(1,1.1),frameon=False,labels=labels)\n",
    "                    ax.set_title(f'Fenster Küche')\n",
    "                    ax.set_ylim(0,100)\n",
    "                    ax.grid(axis=\"y\", ls='dotted')\n",
    "                    ax.grid(axis='x',which='both', linestyle='dotted')\n",
    "\n",
    "                    #Fenster Schlafzimmer\n",
    "                    ax = axs[5]\n",
    "                    room = 'SZ'\n",
    "                    dataset = group[room].filter(like='_reed').replace(['Closed', 'Open'],[0,1]).resample('H').mean()   \n",
    "                    dataset = dataset.groupby(dataset.index.hour).mean()\n",
    "                    labels = []\n",
    "                    for col in dataset.columns:\n",
    "                        ori = KOMPASS[col.split('_')[0]]\n",
    "                        size = re.search(r'\\[(.*?)\\]', col)[0]\n",
    "                        labels.append(f\"{ori} {size}\")\n",
    "                        WINs[(bui, app, room, col)] = dataset[col]  \n",
    "                    dataset.mul(100).plot.bar(ax=ax,cmap = color)\n",
    "                    ax.yaxis.set_major_formatter(mpl.ticker.PercentFormatter())\n",
    "                    ax.legend(loc='center right',ncol=99,bbox_to_anchor=(1,1.1),frameon=False,labels=labels)\n",
    "                    ax.set_title(f'Fenster Schlafzimmer')\n",
    "                    ax.set_ylim(0,100)\n",
    "                    ax.grid(axis=\"y\", ls='dotted')\n",
    "                    ax.grid(axis='x',which='both', linestyle='dotted')\n",
    "\n",
    "                    #Stromzähler\n",
    "                    ax = axs[6]\n",
    "                    room = ''\n",
    "                    dataset = group[room].filter(like='(W)').abs().sum(axis=1).resample('H').mean()\n",
    "                    dataset = dataset.groupby(dataset.index.hour).mean()\n",
    "                    ELs[(bui, app, room)] = dataset   \n",
    "                    dataset.mul(100).plot.bar(ax=ax,cmap = color, alpha = 0.5)\n",
    "                    ax.text(0.5,0.5,'Achtung!\\nStrommessungen durch fehlerhaften Messaufbau nicht aussagekräftig',\n",
    "                                style='normal', \n",
    "                                ha = 'center', \n",
    "                                va = 'center',\n",
    "                                transform=ax.transAxes,\n",
    "                                bbox=eb_bbox, \n",
    "                                )\n",
    "                    ax.set_title(f'Stromzähler')\n",
    "                    ax.set_ylabel(f'Wh')\n",
    "                    ax.grid(axis=\"y\", ls='dotted')\n",
    "                    ax.grid(axis='x',which='both', linestyle='dotted')\n",
    "                    \n",
    "                    fig.tight_layout()\n",
    "                    pdf.savefig(fig)\n",
    "                    if ex:\n",
    "                        plt.clf()"
   ]
  },
  {
   "cell_type": "markdown",
   "metadata": {},
   "source": [
    "## Lüftung\n",
    "___"
   ]
  },
  {
   "cell_type": "markdown",
   "metadata": {},
   "source": [
    "MIT VORSICHT ZU GENIESSEN.\n",
    "\n",
    "KEIN Plausibilitätscheck durchgeführt."
   ]
  },
  {
   "cell_type": "code",
   "execution_count": 13,
   "metadata": {},
   "outputs": [
    {
     "name": "stdout",
     "output_type": "stream",
     "text": [
      "\\\\nas.ads.mwn.de\\tuar\\l15\\private\\DATA\\FORSCHUNG\\04_Projekte\\2021\\Einfach_Bauen_3\\Daten\\3_auswertung\\Lüftungsverhalten\\LB_Übersicht.png saved!\n",
      "\\\\nas.ads.mwn.de\\tuar\\l15\\private\\DATA\\FORSCHUNG\\04_Projekte\\2021\\Einfach_Bauen_3\\Daten\\3_auswertung\\Lüftungsverhalten\\MH_Übersicht.png saved!\n",
      "\\\\nas.ads.mwn.de\\tuar\\l15\\private\\DATA\\FORSCHUNG\\04_Projekte\\2021\\Einfach_Bauen_3\\Daten\\3_auswertung\\Lüftungsverhalten\\MW_Übersicht.png saved!\n"
     ]
    }
   ],
   "source": [
    "start = '2021-09-02'\n",
    "end = '2022-03-31'\n",
    "\n",
    "for bui in BUID:\n",
    "    ind = IND[bui].loc['2021-09-02':]\n",
    "    fig = plt.figure(figsize=DIN['A4L'],constrained_layout=True)\n",
    "    gs = GridSpec(3, 4, figure=fig)\n",
    "    axs=[]\n",
    "\n",
    "    fig.suptitle('{}'.format(BUID[bui]),fontweight='bold')\n",
    "    for i, app in enumerate(WOHNUNGEN):\n",
    "        axs.append([])\n",
    "        dfs = []\n",
    "\n",
    "        for room in ROOMS:\n",
    "            try:\n",
    "                idx = []\n",
    "                df = ind[app][room].filter(like='reed')                    \n",
    "                \"\"\"for window in df.columns.str.split(' ',expand=True).droplevel(level=1).unique():\n",
    "                    if len(df.filter(like=window).columns) > 1:\n",
    "                        df.iloc[:,1] = df.filter(like=window).iloc[:,1].fillna(df.filter(like=window).iloc[:,0])\n",
    "                        df.drop(df.filter(like=window).iloc[:,0].name,axis=1,inplace=True)\"\"\"\n",
    "                df.replace(['Closed','Open'],[0,1],inplace=True)\n",
    "                for f,col in enumerate(df.columns):\n",
    "                    t = col.split(' ')\n",
    "                    ori = t[0].split('_')[0]\n",
    "                    idx.append((room,'{}{}_{}'.format(ori,f, t[1])))\n",
    "                df.columns = pd.MultiIndex.from_tuples(idx)\n",
    "                dfs.append(df)\n",
    "            except:\n",
    "                continue\n",
    "\n",
    "        df = pd.concat(dfs).resample('1min').max()\n",
    "\n",
    "        n=len(df.columns)\n",
    "        df1 = df.sum(axis=1)\n",
    "        df1 = df1[df1 > 0]\n",
    "        counts = df1.value_counts(normalize=True)\n",
    "        gl = round(df1.dropna().mean(),1)\n",
    "        ventkoeff = round(df.max(axis=1).value_counts(normalize=True)[1.0]*100,1)    #Anteil der Zeit in der Fenster geöffnet sind. Gewichtet nach Anzahl der Fenster.\n",
    "        \n",
    "        ### Histogramm\n",
    "        j=0\n",
    "        axs[i].append(fig.add_subplot(gs[i, 0]))\n",
    "        df3 = df.sum(axis=1)\n",
    "        df3.hist(ax = axs[i][j],bins=np.linspace(0,n+1,n+2), grid = False)\n",
    "        axs[i][j].set_xticks(np.linspace(0,n,n+1)+0.5)\n",
    "        axs[i][j].set_xticklabels(range(n+1))\n",
    "\n",
    "        axs[i][j].set_ylabel('Zeit [h]')\n",
    "        axs[i][j].set_title('Häufigkeitsverteilung ')\n",
    "        ###Timeline\n",
    "        j+=1\n",
    "        axs[i].append(fig.add_subplot(gs[i, 1:]))\n",
    "        axs[i][j].set_title('Wohnung {}'.format(WOHNUNGEN[app]),fontweight='bold')\n",
    "        axs[i][j].text(\n",
    "                0.0,\n",
    "                0.95, \n",
    "                'Fenster pro Wohnung: {}\\nZeit mit min. einem geöffnetem Fenster: {} %\\nDurschnittlich gleichzeitig geöffnete Fenster: {}\\nMaximal gleichzeitig geöffnete Fenster: {}'.format(n,ventkoeff,gl,int(df1.max())),      \n",
    "                fontsize = 'large', \n",
    "                style='normal', \n",
    "                ha = 'left', \n",
    "                va = 'top',\n",
    "                transform=axs[i][j].transAxes,\n",
    "                bbox=eb_bbox, \n",
    "                )\n",
    "        axs[i][j].set_ylim(0,24*60*n)\n",
    "        axs[i][j].set_ylabel('Zeit\\n' + r'$[n_{Fenster}*min_{geöffnet}]$')\n",
    "        df2 = df.sum(axis=1).resample('D').sum()\n",
    "        axs[i][j].bar(df2.index, df2)\n",
    "        axs[i][j].plot(df2.rolling('30D').mean(),'r--')\n",
    "\n",
    "    for ax in axs:\n",
    "        ax[1].xaxis.set_major_locator(mdates.MonthLocator())\n",
    "        ax[1].xaxis.set_major_formatter(mdates.DateFormatter('%b %y'))\n",
    "    if ex:\n",
    "        export(fig,filepath=os.path.join(dir_results,'Lüftungsverhalten'),filename=f'{bui}_Übersicht', extlist=['png'])"
   ]
  }
 ],
 "metadata": {
  "interpreter": {
   "hash": "59a70696c240545b1a70ae46b684ee7c051e707166acaec439211cc0efe87dd8"
  },
  "kernelspec": {
   "display_name": "Python 3.10.2 ('einfach-bauen')",
   "language": "python",
   "name": "python3"
  },
  "language_info": {
   "codemirror_mode": {
    "name": "ipython",
    "version": 3
   },
   "file_extension": ".py",
   "mimetype": "text/x-python",
   "name": "python",
   "nbconvert_exporter": "python",
   "pygments_lexer": "ipython3",
   "version": "3.10.0"
  },
  "orig_nbformat": 4
 },
 "nbformat": 4,
 "nbformat_minor": 2
}
