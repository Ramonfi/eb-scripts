{
 "cells": [
  {
   "cell_type": "markdown",
   "metadata": {},
   "source": [
    "BITTE FENSTER NICHT SCHLIESSEN!\n",
    "\n",
    "PLEASE DO NOT CLOSE!!\n",
    "\n",
    "#####Additional Sensor Logging########\n",
    "\n",
    "18.01.2022\n",
    "Roman"
   ]
  },
  {
   "cell_type": "code",
   "execution_count": 19,
   "metadata": {},
   "outputs": [],
   "source": [
    "HOST = \"localhost\"\n",
    "PORT = 4223\n",
    "uids = {'LB_SWK':'NHT','LB_Roof_insulated':'NH2','LB_Roof_uninsulated':'NR8'}\n",
    "\n",
    "from tinkerforge.ip_connection import IPConnection\n",
    "from tinkerforge.bricklet_humidity_v2 import BrickletHumidityV2\n",
    "import pandas as pd\n",
    "import datetime as dt\n",
    "import time\n",
    "import os\n",
    "import logging\n",
    "import numpy as np"
   ]
  },
  {
   "cell_type": "code",
   "execution_count": 23,
   "metadata": {},
   "outputs": [],
   "source": [
    "logging.basicConfig(\n",
    "        format='%(asctime)s -- %(levelname)s -- %(message)s', \n",
    "        datefmt='%d.%m.%Y %H:%M:%S', \n",
    "        level=logging.INFO,\n",
    "        #encoding='utf-8',\n",
    "        handlers=[\n",
    "            logging.FileHandler(\"LB_addtional.log\"),\n",
    "            logging.StreamHandler()]\n",
    "    )\n",
    "today = dt.date.today()\n",
    "workingdir = f'E:/Data-Sync/Dropbox/1_rohdaten/LB_additional'\n",
    "logname = f'knollerlogger_{str(today)}.csv'\n",
    "\n",
    "current_logfile = os.path.join(workingdir, logname)\n",
    "\n",
    "if os.path.isdir(workingdir) == False:\n",
    "    os.makedirs(workingdir)"
   ]
  },
  {
   "cell_type": "code",
   "execution_count": 24,
   "metadata": {},
   "outputs": [
    {
     "name": "stderr",
     "output_type": "stream",
     "text": [
      "18.01.2022 09:28:42 -- WARNING -- [Errno 2] File E:/Data-Sync/Dropbox/1_rohdaten/MH_additional\\knollerlogger_2022-01-18.csv does not exist: 'E:/Data-Sync/Dropbox/1_rohdaten/MH_additional\\\\knollerlogger_2022-01-18.csv'\n",
      "18.01.2022 09:28:42 -- INFO -- new logfile will be created...\n"
     ]
    }
   ],
   "source": [
    "try:\n",
    "    df = pd.read_csv(current_logfile,\n",
    "                     parse_dates=['Datetime'],\n",
    "                     infer_datetime_format=True,\n",
    "                     index_col='Datetime'\n",
    "                     )\n",
    "    logging.info('database loaded')\n",
    "except FileNotFoundError as e:\n",
    "    logging.warning(e)\n",
    "    logging.info(f'new logfile will be created...')\n",
    "    df = pd.DataFrame()"
   ]
  },
  {
   "cell_type": "code",
   "execution_count": 25,
   "metadata": {},
   "outputs": [],
   "source": [
    "#setup sensors\n",
    "for id, uid in uids.items():\n",
    "        try:\n",
    "            ipcon = IPConnection() # Create IP connection\n",
    "            h = BrickletHumidityV2(uid, ipcon) # Create device object\n",
    "            ipcon.connect(HOST, PORT) # Connect to brickd\n",
    "        except Exception as e:\n",
    "            logging.warning(e)\n",
    "            logging.info(f'Verbindung zu UID: {uid} konnte nicht hergestellt werden.')\n",
    "            continue\n",
    "        h.set_moving_average_configuration(60,60)\n",
    "        h.set_status_led_config(0)"
   ]
  },
  {
   "cell_type": "code",
   "execution_count": null,
   "metadata": {},
   "outputs": [
    {
     "name": "stderr",
     "output_type": "stream",
     "text": [
      "18.01.2022 09:28:44 -- INFO -- Aufzeichnung gestartet!\n"
     ]
    },
    {
     "name": "stdout",
     "output_type": "stream",
     "text": [
      "2022-01-18 09:30:44.873299 : {'MH-SWK_Tair': 21.11, 'MH-SWK_RH': 57.1}}\r"
     ]
    }
   ],
   "source": [
    "logging.info(f'Aufzeichnung gestartet!')\n",
    "while True:\n",
    "    try:\n",
    "        temp = {}\n",
    "        today = dt.date.today()\n",
    "        df = df.loc[today:]\n",
    "        for id, uid in uids.items():\n",
    "            try:\n",
    "                ipcon = IPConnection() # Create IP connection\n",
    "                h = BrickletHumidityV2(uid, ipcon) # Create device object\n",
    "                ipcon.connect(HOST, PORT) # Connect to brickd\n",
    "                temp[f'{id}_Tair'] = h.get_temperature()/100.0\n",
    "                temp[f'{id}_RH'] =  h.get_humidity()/100.0\n",
    "                ipcon.disconnect()\n",
    "            except Exception as e:\n",
    "                logging.warning(e)\n",
    "                temp[f'{id}_Tair'] = np.NaN\n",
    "                temp[f'{id}_RH'] =  np.NaN\n",
    "                logging.info(f'Verbindung zu UID: {uid} konnte nicht hergestellt werden.')\n",
    "                continue\n",
    "\n",
    "\n",
    "        df_temp = pd.DataFrame.from_dict(temp,orient='index',columns=[dt.datetime.now()]).T\n",
    "        df_temp.index.name = 'Datetime'\n",
    "        df = df.append(df_temp)\n",
    "        df.to_csv(current_logfile)\n",
    "        print(f'{dt.datetime.now()} : {temp}',end='\\r')\n",
    "        time.sleep(60)\n",
    "    except Exception as e:\n",
    "        logging.warning(e)"
   ]
  },
  {
   "cell_type": "code",
   "execution_count": null,
   "metadata": {},
   "outputs": [],
   "source": []
  }
 ],
 "metadata": {
  "kernelspec": {
   "display_name": "Python 3",
   "language": "python",
   "name": "python3"
  },
  "language_info": {
   "codemirror_mode": {
    "name": "ipython",
    "version": 3
   },
   "file_extension": ".py",
   "mimetype": "text/x-python",
   "name": "python",
   "nbconvert_exporter": "python",
   "pygments_lexer": "ipython3",
   "version": "3.7.6"
  }
 },
 "nbformat": 4,
 "nbformat_minor": 4
}
