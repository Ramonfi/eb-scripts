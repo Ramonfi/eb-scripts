{
 "cells": [
  {
   "cell_type": "code",
   "execution_count": 1,
   "metadata": {},
   "outputs": [
    {
     "name": "stdout",
     "output_type": "stream",
     "text": [
      "Tinkerforge up-to-date\n",
      "EnergyMeter up-to-date\n"
     ]
    }
   ],
   "source": [
    "import pandas as pd\n",
    "import numpy as np\n",
    "import datetime as dt\n",
    "import os\n",
    "import matplotlib.pyplot as plt\n",
    "import logging as log\n",
    "import src.config as config\n",
    "import sys\n",
    "import src.utilities as ut\n",
    "from src.update_databases import tinkerforge_update\n",
    "\n",
    "%matplotlib inline\n",
    "%load_ext autoreload\n",
    "%autoreload 2"
   ]
  },
  {
   "cell_type": "code",
   "execution_count": 3,
   "metadata": {},
   "outputs": [
    {
     "name": "stderr",
     "output_type": "stream",
     "text": [
      "21.02.2022 22:22:39 -- INFO -- ------ Starte TinkerForge Update------\n",
      "21.02.2022 22:22:39 -- INFO -- LB wurde übersprungen.\n",
      "21.02.2022 22:22:39 -- INFO -- MH: Suche vorhandene Datenbank.\n"
     ]
    },
    {
     "name": "stdout",
     "output_type": "stream",
     "text": [
      "Tinkerforge up-to-date\n",
      "EnergyMeter up-to-date\n"
     ]
    },
    {
     "name": "stderr",
     "output_type": "stream",
     "text": [
      "21.02.2022 22:22:49 -- INFO -- MH: Datenbank geöffnet, letzter Eintrag vom 2022-02-21!\n",
      "21.02.2022 22:22:50 -- INFO -- MH: Durchsuche Dropbox nach neuen Datensätzen.\n"
     ]
    },
    {
     "name": "stdout",
     "output_type": "stream",
     "text": [
      "finished!                                                                                                                  \r"
     ]
    },
    {
     "name": "stderr",
     "output_type": "stream",
     "text": [
      "21.02.2022 22:22:55 -- INFO -- MW: Suche vorhandene Datenbank.\n",
      "21.02.2022 22:23:05 -- INFO -- MW: Datenbank geöffnet, letzter Eintrag vom 2022-02-18!\n",
      "21.02.2022 22:23:05 -- INFO -- Ziegelhaus liefert seit 17.02.2022 (4 Tage(n)) keine neuen Daten mehr.\n",
      "21.02.2022 22:23:05 -- INFO -- MW: Durchsuche Dropbox nach neuen Datensätzen.\n"
     ]
    },
    {
     "name": "stdout",
     "output_type": "stream",
     "text": [
      "finished!                                                                                                                  \r"
     ]
    },
    {
     "name": "stderr",
     "output_type": "stream",
     "text": [
      "21.02.2022 22:23:09 -- INFO -- WD: Suche vorhandene Datenbank.\n",
      "21.02.2022 22:23:10 -- INFO -- WD: Datenbank geöffnet, letzter Eintrag vom 2022-02-21!\n",
      "21.02.2022 22:23:11 -- INFO -- WD: Durchsuche Dropbox nach neuen Datensätzen.\n"
     ]
    },
    {
     "name": "stdout",
     "output_type": "stream",
     "text": [
      "finished!                                                                                                                  \r"
     ]
    },
    {
     "name": "stderr",
     "output_type": "stream",
     "text": [
      "21.02.2022 22:23:15 -- INFO -- PM: Suche vorhandene Datenbank.\n",
      "21.02.2022 22:23:16 -- INFO -- PM: Datenbank geöffnet, letzter Eintrag vom 2022-02-21!\n",
      "21.02.2022 22:23:16 -- INFO -- PM: Durchsuche Dropbox nach neuen Datensätzen.\n"
     ]
    },
    {
     "name": "stdout",
     "output_type": "stream",
     "text": [
      "finished!                                                                                                                  \r"
     ]
    },
    {
     "name": "stderr",
     "output_type": "stream",
     "text": [
      "21.02.2022 22:23:22 -- INFO -- Offline Benachrichtigung gesendet!\n",
      "21.02.2022 22:23:22 -- INFO -- ------TinkerForge Update beendet!------\n"
     ]
    },
    {
     "name": "stdout",
     "output_type": "stream",
     "text": [
      "Message sent!\n"
     ]
    }
   ],
   "source": [
    "logpath = './logs'\n",
    "onlyfiles = [os.path.join(logpath, f) for f in os.listdir(logpath) if os.path.isfile(os.path.join(logpath, f))]\n",
    "onlyfiles.sort(key=lambda x: os.path.getmtime(x))\n",
    "onlyfiles.reverse()\n",
    "tf_skip = []\n",
    "em_skip = False\n",
    "for logfile in onlyfiles:\n",
    "    with open(logfile,encoding='latin-1') as f:\n",
    "        f = f.read().splitlines()\n",
    "        f.reverse()\n",
    "        data = []\n",
    "        for line in f:\n",
    "            line = line.split(' -- ')\n",
    "            if 'TinkerForge Datenbanken exportiert!' in line[2]:\n",
    "                timecode = line[0].strip()\n",
    "                bui = line[2].split(':')[0].strip()\n",
    "                info = line[2].split('|')\n",
    "                start = dt.datetime.strptime(info[1].strip(), \"%Y-%m-%d %H:%M:%S\")\n",
    "                end = dt.datetime.strptime(info[2].strip(), \"%Y-%m-%d %H:%M:%S\")\n",
    "                if end.date() < (dt.date.today() - dt.timedelta(1)):\n",
    "                    tf_skip.append(bui)\n",
    "            elif 'Moline Datenbanken exportiert!' in line[2]:\n",
    "                timecode = line[0].strip()\n",
    "                bui = line[2].split(':')[0].strip()\n",
    "                info = line[2].split('|')\n",
    "                start = dt.datetime.strptime(info[1].strip(), \"%Y-%m-%d %H:%M:%S\")\n",
    "                end = dt.datetime.strptime(info[2].strip(), \"%Y-%m-%d %H:%M:%S\")\n",
    "                if end.date() < (dt.date.today() - dt.timedelta(1)):\n",
    "                    em_skip = True\n",
    "if tf_skip != buid:\n",
    "    tinkerforge_update(skip=tf_skip)\n",
    "if not em_skip:\n",
    "    moline_update()\n"
   ]
  }
 ],
 "metadata": {
  "interpreter": {
   "hash": "59a70696c240545b1a70ae46b684ee7c051e707166acaec439211cc0efe87dd8"
  },
  "kernelspec": {
   "display_name": "Python 3.10.2 ('einfach-bauen')",
   "language": "python",
   "name": "python3"
  },
  "language_info": {
   "codemirror_mode": {
    "name": "ipython",
    "version": 3
   },
   "file_extension": ".py",
   "mimetype": "text/x-python",
   "name": "python",
   "nbconvert_exporter": "python",
   "pygments_lexer": "ipython3",
   "version": "3.10.2"
  },
  "orig_nbformat": 4
 },
 "nbformat": 4,
 "nbformat_minor": 2
}
