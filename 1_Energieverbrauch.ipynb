{
 "cells": [
  {
   "cell_type": "markdown",
   "metadata": {},
   "source": [
    "# **Auswertung der Energieverbrauchsmessung**\n",
    "___"
   ]
  },
  {
   "cell_type": "code",
   "execution_count": 1,
   "metadata": {},
   "outputs": [
    {
     "name": "stderr",
     "output_type": "stream",
     "text": [
      "24.03.2022 14:21:23 -- INFO -- ------ Starte TinkerForge Update------\n",
      "24.03.2022 14:21:23 -- INFO -- MH: Suche vorhandene Datenbank.\n",
      "24.03.2022 14:21:38 -- INFO -- MH: Datenbank geöffnet, letzter Eintrag vom 2022-03-21!\n",
      "24.03.2022 14:21:38 -- INFO -- MH: Durchsuche Dropbox nach neuen Datensätzen.\n"
     ]
    },
    {
     "name": "stdout",
     "output_type": "stream",
     "text": [
      "loading <|||||||||||||||||||||||||||||||||||||||||||||||||||||||||||||||||||||||||||||-----------------------> 77 %       \r"
     ]
    },
    {
     "name": "stderr",
     "output_type": "stream",
     "text": [
      "24.03.2022 14:21:42 -- INFO -- MH: Neue Messdaten vom 2022-03-21 gefunden!\n"
     ]
    },
    {
     "name": "stdout",
     "output_type": "stream",
     "text": [
      "loading <||||||||||||||||||||||||||||||||||||||||||||||||||||||||||||||||||||||||||||||||||||||||------------> 88 %       \r"
     ]
    },
    {
     "name": "stderr",
     "output_type": "stream",
     "text": [
      "24.03.2022 14:21:43 -- INFO -- MH: Neue Messdaten vom 2022-03-22 gefunden!\n"
     ]
    },
    {
     "name": "stdout",
     "output_type": "stream",
     "text": [
      "finished!                                                                                                                  \r"
     ]
    },
    {
     "name": "stderr",
     "output_type": "stream",
     "text": [
      "24.03.2022 14:21:44 -- INFO -- MH: Neue Messdaten vom 2022-03-23 gefunden!\n",
      "24.03.2022 14:22:42 -- INFO -- MH: Führe Post Processing durch\n",
      "24.03.2022 14:23:04 -- INFO -- MH: Starte Export!\n",
      "24.03.2022 14:24:18 -- INFO -- MH: TinkerForge Datenbank exportiert! | 2021-02-08 11:00:51 | 2022-03-24 00:07:58\n",
      "24.03.2022 14:24:18 -- INFO -- MW: Suche vorhandene Datenbank.\n",
      "24.03.2022 14:24:36 -- INFO -- MW: Datenbank geöffnet, letzter Eintrag vom 2022-03-21!\n",
      "24.03.2022 14:24:36 -- INFO -- MW: Durchsuche Dropbox nach neuen Datensätzen.\n"
     ]
    },
    {
     "name": "stdout",
     "output_type": "stream",
     "text": [
      "loading <|||||||||||||||||||||||||||||||||||||||||||||||||||||||||||||||||||||||||||||-----------------------> 77 %       \r"
     ]
    },
    {
     "name": "stderr",
     "output_type": "stream",
     "text": [
      "24.03.2022 14:24:42 -- INFO -- MW: Neue Messdaten vom 2022-03-21 gefunden!\n"
     ]
    },
    {
     "name": "stdout",
     "output_type": "stream",
     "text": [
      "loading <||||||||||||||||||||||||||||||||||||||||||||||||||||||||||||||||||||||||||||||||||||||||------------> 88 %       \r"
     ]
    },
    {
     "name": "stderr",
     "output_type": "stream",
     "text": [
      "24.03.2022 14:24:43 -- INFO -- MW: Neue Messdaten vom 2022-03-22 gefunden!\n"
     ]
    },
    {
     "name": "stdout",
     "output_type": "stream",
     "text": [
      "finished!                                                                                                                  \r"
     ]
    },
    {
     "name": "stderr",
     "output_type": "stream",
     "text": [
      "24.03.2022 14:24:45 -- INFO -- MW: Neue Messdaten vom 2022-03-23 gefunden!\n",
      "24.03.2022 14:25:39 -- INFO -- MW: Führe Post Processing durch\n",
      "24.03.2022 14:25:47 -- INFO -- MW: Starte Export!\n",
      "24.03.2022 14:26:51 -- INFO -- MW: TinkerForge Datenbank exportiert! | 2021-02-23 17:19:00 | 2022-03-24 00:07:21\n",
      "24.03.2022 14:26:51 -- INFO -- LB: Suche vorhandene Datenbank.\n",
      "24.03.2022 14:27:04 -- INFO -- LB: Datenbank geöffnet, letzter Eintrag vom 2022-03-16!\n",
      "24.03.2022 14:27:04 -- INFO -- LB: Durchsuche Dropbox nach neuen Datensätzen.\n"
     ]
    },
    {
     "name": "stdout",
     "output_type": "stream",
     "text": [
      "loading <||||||||||||||||||||||||||||||||||||||||||||||||||--------------------------------------------------> 50 %       \r"
     ]
    },
    {
     "name": "stderr",
     "output_type": "stream",
     "text": [
      "24.03.2022 14:27:09 -- INFO -- LB: Neue Messdaten vom 2022-03-16 gefunden!\n"
     ]
    },
    {
     "name": "stdout",
     "output_type": "stream",
     "text": [
      "loading <|||||||||||||||||||||||||||||||||||||||||||||||||||||||||-------------------------------------------> 57 %       \r"
     ]
    },
    {
     "name": "stderr",
     "output_type": "stream",
     "text": [
      "24.03.2022 14:27:10 -- INFO -- LB: Neue Messdaten vom 2022-03-17 gefunden!\n"
     ]
    },
    {
     "name": "stdout",
     "output_type": "stream",
     "text": [
      "loading <||||||||||||||||||||||||||||||||||||||||||||||||||||||||||||||||------------------------------------> 64 %       \r"
     ]
    },
    {
     "name": "stderr",
     "output_type": "stream",
     "text": [
      "24.03.2022 14:27:11 -- INFO -- LB: Neue Messdaten vom 2022-03-18 gefunden!\n"
     ]
    },
    {
     "name": "stdout",
     "output_type": "stream",
     "text": [
      "loading <|||||||||||||||||||||||||||||||||||||||||||||||||||||||||||||||||||||||-----------------------------> 71 %       \r"
     ]
    },
    {
     "name": "stderr",
     "output_type": "stream",
     "text": [
      "24.03.2022 14:27:12 -- INFO -- LB: Neue Messdaten vom 2022-03-19 gefunden!\n"
     ]
    },
    {
     "name": "stdout",
     "output_type": "stream",
     "text": [
      "loading <||||||||||||||||||||||||||||||||||||||||||||||||||||||||||||||||||||||||||||||----------------------> 78 %       \r"
     ]
    },
    {
     "name": "stderr",
     "output_type": "stream",
     "text": [
      "24.03.2022 14:27:14 -- INFO -- LB: Neue Messdaten vom 2022-03-20 gefunden!\n"
     ]
    },
    {
     "name": "stdout",
     "output_type": "stream",
     "text": [
      "loading <|||||||||||||||||||||||||||||||||||||||||||||||||||||||||||||||||||||||||||||||||||||---------------> 85 %       \r"
     ]
    },
    {
     "name": "stderr",
     "output_type": "stream",
     "text": [
      "24.03.2022 14:27:15 -- INFO -- LB: Neue Messdaten vom 2022-03-21 gefunden!\n"
     ]
    },
    {
     "name": "stdout",
     "output_type": "stream",
     "text": [
      "loading <||||||||||||||||||||||||||||||||||||||||||||||||||||||||||||||||||||||||||||||||||||||||||||--------> 92 %       \r"
     ]
    },
    {
     "name": "stderr",
     "output_type": "stream",
     "text": [
      "24.03.2022 14:27:16 -- INFO -- LB: Neue Messdaten vom 2022-03-22 gefunden!\n"
     ]
    },
    {
     "name": "stdout",
     "output_type": "stream",
     "text": [
      "finished!                                                                                                                  \r"
     ]
    },
    {
     "name": "stderr",
     "output_type": "stream",
     "text": [
      "24.03.2022 14:27:18 -- INFO -- LB: Neue Messdaten vom 2022-03-23 gefunden!\n",
      "24.03.2022 14:28:06 -- INFO -- LB: Führe Post Processing durch\n",
      "24.03.2022 14:28:18 -- INFO -- LB: Starte Export!\n",
      "24.03.2022 14:29:27 -- INFO -- LB: TinkerForge Datenbank exportiert! | 2021-03-08 11:15:55 | 2022-03-24 00:08:47\n",
      "24.03.2022 14:29:27 -- INFO -- PM: Suche vorhandene Datenbank.\n",
      "24.03.2022 14:29:28 -- INFO -- PM: Datenbank geöffnet, letzter Eintrag vom 2022-03-16!\n",
      "24.03.2022 14:29:28 -- INFO -- PM: Durchsuche Dropbox nach neuen Datensätzen.\n"
     ]
    },
    {
     "name": "stdout",
     "output_type": "stream",
     "text": [
      "loading <||||||||||||||||||||||||||||||||||||||||||||||||||--------------------------------------------------> 50 %       \r"
     ]
    },
    {
     "name": "stderr",
     "output_type": "stream",
     "text": [
      "24.03.2022 14:29:37 -- INFO -- PM: Neue Messdaten vom 2022-03-16 gefunden!\n"
     ]
    },
    {
     "name": "stdout",
     "output_type": "stream",
     "text": [
      "loading <|||||||||||||||||||||||||||||||||||||||||||||||||||||||||-------------------------------------------> 57 %       \r"
     ]
    },
    {
     "name": "stderr",
     "output_type": "stream",
     "text": [
      "24.03.2022 14:29:38 -- INFO -- PM: Neue Messdaten vom 2022-03-17 gefunden!\n"
     ]
    },
    {
     "name": "stdout",
     "output_type": "stream",
     "text": [
      "loading <||||||||||||||||||||||||||||||||||||||||||||||||||||||||||||||||------------------------------------> 64 %       \r"
     ]
    },
    {
     "name": "stderr",
     "output_type": "stream",
     "text": [
      "24.03.2022 14:29:39 -- INFO -- PM: Neue Messdaten vom 2022-03-18 gefunden!\n"
     ]
    },
    {
     "name": "stdout",
     "output_type": "stream",
     "text": [
      "loading <|||||||||||||||||||||||||||||||||||||||||||||||||||||||||||||||||||||||-----------------------------> 71 %       \r"
     ]
    },
    {
     "name": "stderr",
     "output_type": "stream",
     "text": [
      "24.03.2022 14:29:40 -- INFO -- PM: Neue Messdaten vom 2022-03-19 gefunden!\n"
     ]
    },
    {
     "name": "stdout",
     "output_type": "stream",
     "text": [
      "loading <||||||||||||||||||||||||||||||||||||||||||||||||||||||||||||||||||||||||||||||----------------------> 78 %       \r"
     ]
    },
    {
     "name": "stderr",
     "output_type": "stream",
     "text": [
      "24.03.2022 14:29:41 -- INFO -- PM: Neue Messdaten vom 2022-03-20 gefunden!\n"
     ]
    },
    {
     "name": "stdout",
     "output_type": "stream",
     "text": [
      "loading <|||||||||||||||||||||||||||||||||||||||||||||||||||||||||||||||||||||||||||||||||||||---------------> 85 %       \r"
     ]
    },
    {
     "name": "stderr",
     "output_type": "stream",
     "text": [
      "24.03.2022 14:29:42 -- INFO -- PM: Neue Messdaten vom 2022-03-21 gefunden!\n"
     ]
    },
    {
     "name": "stdout",
     "output_type": "stream",
     "text": [
      "loading <||||||||||||||||||||||||||||||||||||||||||||||||||||||||||||||||||||||||||||||||||||||||||||--------> 92 %       \r"
     ]
    },
    {
     "name": "stderr",
     "output_type": "stream",
     "text": [
      "24.03.2022 14:29:43 -- INFO -- PM: Neue Messdaten vom 2022-03-22 gefunden!\n"
     ]
    },
    {
     "name": "stdout",
     "output_type": "stream",
     "text": [
      "finished!                                                                                                                  \r"
     ]
    },
    {
     "name": "stderr",
     "output_type": "stream",
     "text": [
      "24.03.2022 14:29:43 -- INFO -- PM: Neue Messdaten vom 2022-03-23 gefunden!\n",
      "24.03.2022 14:29:46 -- INFO -- PM: Führe Post Processing durch\n",
      "24.03.2022 14:29:47 -- INFO -- PM: Starte Export!\n",
      "24.03.2022 14:29:51 -- INFO -- PM: TinkerForge Datenbank exportiert! | 2021-03-08 11:15:55 | 2022-03-24 00:08:47\n",
      "24.03.2022 14:29:51 -- INFO -- WD: Suche vorhandene Datenbank.\n",
      "24.03.2022 14:29:53 -- INFO -- WD: Datenbank geöffnet, letzter Eintrag vom 2022-03-16!\n",
      "24.03.2022 14:29:53 -- INFO -- WD: Durchsuche Dropbox nach neuen Datensätzen.\n"
     ]
    },
    {
     "name": "stdout",
     "output_type": "stream",
     "text": [
      "loading <||||||||||||||||||||||||||||||||||||||||||||||||||--------------------------------------------------> 50 %       \r"
     ]
    },
    {
     "name": "stderr",
     "output_type": "stream",
     "text": [
      "24.03.2022 14:29:58 -- INFO -- WD: Neue Messdaten vom 2022-03-16 gefunden!\n"
     ]
    },
    {
     "name": "stdout",
     "output_type": "stream",
     "text": [
      "loading <|||||||||||||||||||||||||||||||||||||||||||||||||||||||||-------------------------------------------> 57 %       \r"
     ]
    },
    {
     "name": "stderr",
     "output_type": "stream",
     "text": [
      "24.03.2022 14:29:59 -- INFO -- WD: Neue Messdaten vom 2022-03-17 gefunden!\n"
     ]
    },
    {
     "name": "stdout",
     "output_type": "stream",
     "text": [
      "loading <||||||||||||||||||||||||||||||||||||||||||||||||||||||||||||||||------------------------------------> 64 %       \r"
     ]
    },
    {
     "name": "stderr",
     "output_type": "stream",
     "text": [
      "24.03.2022 14:30:00 -- INFO -- WD: Neue Messdaten vom 2022-03-18 gefunden!\n"
     ]
    },
    {
     "name": "stdout",
     "output_type": "stream",
     "text": [
      "loading <|||||||||||||||||||||||||||||||||||||||||||||||||||||||||||||||||||||||-----------------------------> 71 %       \r"
     ]
    },
    {
     "name": "stderr",
     "output_type": "stream",
     "text": [
      "24.03.2022 14:30:00 -- INFO -- WD: Neue Messdaten vom 2022-03-19 gefunden!\n"
     ]
    },
    {
     "name": "stdout",
     "output_type": "stream",
     "text": [
      "loading <||||||||||||||||||||||||||||||||||||||||||||||||||||||||||||||||||||||||||||||----------------------> 78 %       \r"
     ]
    },
    {
     "name": "stderr",
     "output_type": "stream",
     "text": [
      "24.03.2022 14:30:01 -- INFO -- WD: Neue Messdaten vom 2022-03-20 gefunden!\n"
     ]
    },
    {
     "name": "stdout",
     "output_type": "stream",
     "text": [
      "loading <|||||||||||||||||||||||||||||||||||||||||||||||||||||||||||||||||||||||||||||||||||||---------------> 85 %       \r"
     ]
    },
    {
     "name": "stderr",
     "output_type": "stream",
     "text": [
      "24.03.2022 14:30:02 -- INFO -- WD: Neue Messdaten vom 2022-03-21 gefunden!\n"
     ]
    },
    {
     "name": "stdout",
     "output_type": "stream",
     "text": [
      "loading <||||||||||||||||||||||||||||||||||||||||||||||||||||||||||||||||||||||||||||||||||||||||||||--------> 92 %       \r"
     ]
    },
    {
     "name": "stderr",
     "output_type": "stream",
     "text": [
      "24.03.2022 14:30:03 -- INFO -- WD: Neue Messdaten vom 2022-03-22 gefunden!\n"
     ]
    },
    {
     "name": "stdout",
     "output_type": "stream",
     "text": [
      "finished!                                                                                                                  \r"
     ]
    },
    {
     "name": "stderr",
     "output_type": "stream",
     "text": [
      "24.03.2022 14:30:03 -- INFO -- WD: Neue Messdaten vom 2022-03-23 gefunden!\n",
      "24.03.2022 14:30:07 -- INFO -- WD: Führe Post Processing durch\n",
      "24.03.2022 14:30:08 -- INFO -- WD: Starte Export!\n",
      "24.03.2022 14:30:15 -- INFO -- WD: TinkerForge Datenbank exportiert! | 2021-03-08 11:18:55 | 2022-03-24 00:08:47\n",
      "24.03.2022 14:30:15 -- INFO -- ------TinkerForge Update beendet!------\n",
      "24.03.2022 14:30:15 -- INFO -- ------ Starte Moline Update ------\n",
      "24.03.2022 14:30:17 -- INFO -- Reading files...\n"
     ]
    },
    {
     "name": "stdout",
     "output_type": "stream",
     "text": [
      "finished!                                                                                                                  \r"
     ]
    },
    {
     "name": "stderr",
     "output_type": "stream",
     "text": [
      "24.03.2022 14:31:41 -- INFO -- Reading files finished.\n",
      "24.03.2022 14:31:41 -- INFO -- Starting postprocessing.\n",
      "24.03.2022 14:32:48 -- INFO -- Postprocessing finished.\n",
      "24.03.2022 14:32:48 -- INFO -- Starting export to directory: C:\\Users\\Roman\\workspace\\eb-scripts\\eb-data\\2_datenbank.\n",
      "24.03.2022 14:33:21 -- INFO -- Molline Datenbanken exportiert! | 2021-09-02 00:00:00 | 2022-03-23 23:00:02\n",
      "24.03.2022 14:33:21 -- INFO -- ------ Molline Update beendet ------\n"
     ]
    },
    {
     "name": "stdout",
     "output_type": "stream",
     "text": [
      "Importiere Datenbanken...\n",
      "Datenbanken importiert!\n"
     ]
    }
   ],
   "source": [
    "#fuer graphische Darstellung\n",
    "%matplotlib inline\n",
    "\n",
    "#automatische Aktualisierung von Bibliotheken\n",
    "%load_ext autoreload    \n",
    "%autoreload 2\n",
    "\n",
    "import datetime as dt\n",
    "import os               #Pfade\n",
    "import locale           #Spracheinstellung: Deutsch (DE)\n",
    "locale.setlocale(locale.LC_ALL,'de_DE')\n",
    "\n",
    "import numpy as np      #Datenmanagement Bibliothek (matritx operationen)\n",
    "import pandas as pd     #Datenmanagement Bibliothek (wie excel)\n",
    "\n",
    "import matplotlib as mpl\n",
    "import matplotlib.pyplot as plt\n",
    "plt.style.use(\".\\src\\stylesheets\\eb3.mplstyle\")     #Style-Vorlagendatei (z.B. Grids, Achsen, Schriftgroeße, etc.)\n",
    "\n",
    "#eigene Bibliotheken (importiert aus src)\n",
    "from src.project_definitions import BUID, AREA, WOHNUNGEN, ROOMS, dir_results, area\n",
    "from src.utilities import recolor_lines, export, truncate_colormap, DIN, INDOC, eb_bbox\n",
    "from src.update_databases import up\n",
    "from src.sensor_reader import import_data\n",
    "\n",
    "### update databases ###\n",
    "up(send=False)\n",
    "\n",
    "### import databases ###\n",
    "print('Importiere Datenbanken...')\n",
    "IND, AMB, EM = import_data()\n",
    "print('Datenbanken importiert!')\n",
    "\n",
    "### export results? True = Export Graphiken für alle Räume + Bauweisen (dauert!) / False = macht nur eine definierte Variante ###\n",
    "ex  = False\n",
    "\n",
    "### result path ###\n",
    "exdir = os.path.join(dir_results,'Energiebedarf')\n",
    "if not os.path.isdir(exdir):\n",
    "    os.makedirs(exdir)"
   ]
  },
  {
   "cell_type": "markdown",
   "metadata": {},
   "source": [
    "# **Energieverbrauch**"
   ]
  },
  {
   "cell_type": "markdown",
   "metadata": {},
   "source": [
    "## **WÄRME**"
   ]
  },
  {
   "cell_type": "markdown",
   "metadata": {},
   "source": [
    "### **Wärmeenergie (total)**\n"
   ]
  },
  {
   "cell_type": "markdown",
   "metadata": {},
   "source": [
    "gesamter Zeitraum\n",
    "____"
   ]
  },
  {
   "cell_type": "code",
   "execution_count": 25,
   "metadata": {},
   "outputs": [
    {
     "data": {
      "image/png": "[encoded data removed]",
      "text/plain": [
       "<Figure size 453.543x340.157 with 1 Axes>"
      ]
     },
     "metadata": {
      "needs_background": "light"
     },
     "output_type": "display_data"
    }
   ],
   "source": [
    "idx = pd.IndexSlice\n",
    "df = EM.loc(axis=1)[idx[:, [\"N\", \"O\", 'S'],'HQ','H']].droplevel([2,3],axis=1)\n",
    "df = df.resample('365d').last() - df.resample('365d').first()\n",
    "df.reset_index(drop=True).round(2)\n",
    "fig,ax = plt.subplots(figsize=INDOC)\n",
    "df.stack().T.droplevel(0,axis=1).plot.bar(ax=ax,cmap = 'Accent')\n",
    "ax.set_title(f'Totaler Energieverbrauch\\nZeitraum: {(EM.index.min().strftime(\"%d.%m.%Y\"))} bis {EM.index.max().strftime(\"%d.%m.%Y\")}', fontweight = 'bold')\n",
    "ax.set_ylabel('[kWh]')\n",
    "ax.set_xticklabels(['Leichtbeton', 'Holzmassiv', 'Ziegelmauerwerk'], rotation=0)\n",
    "ax.grid(False)\n",
    "ax.legend(labels=['Nord','Ost','Süd'],loc='center right',ncol=99,bbox_to_anchor=(1,1.03),frameon=False)\n",
    "xticks=[]\n",
    "for bar in ax.patches:\n",
    "    xticks.append(bar.get_x())\n",
    "    ax.text(\n",
    "        bar.get_x() + bar.get_width() / 2,\n",
    "        bar.get_height()*0.5 + bar.get_y(),\n",
    "        f\"{round(bar.get_height(),0):.0f}\",\n",
    "        ha='center',\n",
    "        color='w',\n",
    "        weight='bold',\n",
    "        )\n",
    "\n",
    "fig.tight_layout()\n",
    "if ex:\n",
    "    export(fig,exdir,'Wärmeenergieverbrauch',extlist=['pdf'], show=True)"
   ]
  },
  {
   "cell_type": "markdown",
   "metadata": {},
   "source": [
    "### **Wärmeenergie (spezifisch)**\n"
   ]
  },
  {
   "cell_type": "markdown",
   "metadata": {},
   "source": [
    "Winter\n",
    "____"
   ]
  },
  {
   "cell_type": "code",
   "execution_count": 26,
   "metadata": {},
   "outputs": [
    {
     "data": {
      "image/png": "[encoded data removed]",
      "text/plain": [
       "<Figure size 453.543x340.157 with 1 Axes>"
      ]
     },
     "metadata": {
      "needs_background": "light"
     },
     "output_type": "display_data"
    }
   ],
   "source": [
    "idx = pd.IndexSlice\n",
    "startdate = dt.datetime(2021,9,2)\n",
    "enddate = dt.datetime(2022,2,22)\n",
    "df = EM.loc(axis=1)[idx[:, [\"N\", \"O\", 'S'],'HQ','H']].droplevel([2,3],axis=1)\n",
    "df = df.loc[startdate:enddate]\n",
    "df = df.resample('5000d').last() - df.resample('5000d').first()\n",
    "df = df.reset_index(drop=True).div(AREA,level=1).round(2)\n",
    "fig,ax = plt.subplots(figsize=INDOC)\n",
    "df.stack().T.droplevel(0,axis=1).plot.bar(ax=ax,cmap = 'Accent')\n",
    "ax.set_title(f'Spezifischer Energieverbrauch\\nZeitraum: {(startdate.strftime(\"%d.%m.%Y\"))} bis {enddate.strftime(\"%d.%m.%Y\")}', fontweight = 'bold')\n",
    "ax.set_ylabel('[kWh]')\n",
    "ax.set_xticklabels(['Leichtbeton', 'Holzmassiv', 'Ziegelmauerwerk'], rotation=0)\n",
    "ax.grid(False)\n",
    "ax.legend(labels=['Nord','Ost','Süd'],loc='center right',ncol=99,bbox_to_anchor=(1,1.03),frameon=False)\n",
    "xticks=[]\n",
    "for bar in ax.patches:\n",
    "    xticks.append(bar.get_x())\n",
    "    ax.text(\n",
    "        bar.get_x() + bar.get_width() / 2,\n",
    "        bar.get_height()*0.5 + bar.get_y(),\n",
    "        f\"{round(bar.get_height(),0):.0f}\",\n",
    "        ha='center',\n",
    "        color='w',\n",
    "        weight='bold',\n",
    "        )\n",
    "\n",
    "fig.tight_layout()\n",
    "if ex:\n",
    "    export(fig,exdir,'Wärmeenergieverbrauch_spezifisch_Winter',extlist=['pdf'], show=True)"
   ]
  },
  {
   "cell_type": "markdown",
   "metadata": {},
   "source": [
    "gesamter Zeitraum\n",
    "___"
   ]
  },
  {
   "cell_type": "code",
   "execution_count": 27,
   "metadata": {},
   "outputs": [
    {
     "data": {
      "image/png": "[encoded data removed]",
      "text/plain": [
       "<Figure size 453.543x340.157 with 1 Axes>"
      ]
     },
     "metadata": {
      "needs_background": "light"
     },
     "output_type": "display_data"
    }
   ],
   "source": [
    "idx = pd.IndexSlice\n",
    "df = EM.loc(axis=1)[idx[:, [\"N\", \"O\",'S'],'HQ','H']].droplevel([2,3],axis=1)\n",
    "df = df.resample('365d').last() - df.resample('365d').first()\n",
    "df = df.reset_index(drop=True).div(AREA,level=1).round(2)\n",
    "fig,ax = plt.subplots(figsize=INDOC)\n",
    "df.stack().T.droplevel(0,axis=1).plot.bar(ax=ax,cmap = 'Accent')\n",
    "ax.set_title(f'Spezifischer Energieverbrauch\\nZeitraum: {(EM.index.min().strftime(\"%d.%m.%Y\"))} bis {EM.index.max().strftime(\"%d.%m.%Y\")}', fontweight = 'bold', y=1.08)\n",
    "ax.set_ylabel('[kWh / m²]')\n",
    "ax.set_xticklabels(['Leichtbeton', 'Holzmassiv', 'Ziegelmauerwerk'], rotation=0)\n",
    "ax.grid(False)\n",
    "ax.legend(labels=['Nord','Ost','Süd'],loc='center right',ncol=99,bbox_to_anchor=(1,1.03),frameon=False)\n",
    "xticks=[]\n",
    "for bar in ax.patches:\n",
    "    xticks.append(bar.get_x())\n",
    "    ax.text(\n",
    "        bar.get_x() + bar.get_width() / 2,\n",
    "        bar.get_height()*0.5 + bar.get_y(),\n",
    "        f\"{bar.get_height():.0f}\",\n",
    "        ha='center',\n",
    "        color='w',\n",
    "        weight='bold',\n",
    "        )\n",
    "\n",
    "fig.tight_layout()\n",
    "if ex:\n",
    "    export(fig,exdir,'spezifischer_Wärmeenergieverbrauch',extlist=['pdf'], show=True)"
   ]
  },
  {
   "cell_type": "markdown",
   "metadata": {},
   "source": [
    "### **Wärmeenergie (kumuliert)**"
   ]
  },
  {
   "cell_type": "markdown",
   "metadata": {},
   "source": [
    "gesamter Zeitraum\n",
    "____"
   ]
  },
  {
   "cell_type": "code",
   "execution_count": 28,
   "metadata": {},
   "outputs": [
    {
     "data": {
      "image/png": "[encoded data removed]",
      "text/plain": [
       "<Figure size 453.543x340.157 with 3 Axes>"
      ]
     },
     "metadata": {
      "needs_background": "light"
     },
     "output_type": "display_data"
    }
   ],
   "source": [
    "fig, axs = plt.subplots(1,3,sharex=True, sharey=True,figsize=INDOC)\n",
    "fig.suptitle(f'Wärmemengenzähler',y=1.01)\n",
    "for b, bui in enumerate(BUID):\n",
    "    df = EM.loc(axis=1)[idx[bui,['N','O','S'],'HQ','H']].droplevel([0,2,3],axis=1).resample('H').last()\n",
    "    (df - df.min()).plot(ax=axs[b], cmap = 'Accent')\n",
    "    axs[b].legend(labels=['Nord','Ost','Süd'],loc='center right',ncol=99,bbox_to_anchor=(1,1.03),frameon=False)\n",
    "    axs[b].set_title(f'{BUID[bui]}',y=1.05)\n",
    "axs[0].set_ylabel(f'[kWh]')\n",
    "if ex:\n",
    "    export(fig,exdir,'Wärmeenergieverbrauch_kumuliert',extlist=['pdf'], show=True)"
   ]
  },
  {
   "cell_type": "markdown",
   "metadata": {},
   "source": [
    "## **STROM**"
   ]
  },
  {
   "cell_type": "markdown",
   "metadata": {},
   "source": [
    "### Stromverbrauch (spezifisch)"
   ]
  },
  {
   "cell_type": "code",
   "execution_count": 29,
   "metadata": {},
   "outputs": [
    {
     "data": {
      "image/png": "[encoded data removed]",
      "text/plain": [
       "<Figure size 453.543x340.157 with 1 Axes>"
      ]
     },
     "metadata": {
      "needs_background": "light"
     },
     "output_type": "display_data"
    }
   ],
   "source": [
    "Normalize = True\n",
    "\n",
    "Stromverbrauch = pd.read_csv('.\\src\\Stromzähler.csv', header=[0,1], index_col=[0], sep=';')\n",
    "Stromverbrauch.index = pd.to_datetime(Stromverbrauch.index,format='%d.%m.%Y')\n",
    "if Normalize:\n",
    "    start = dt.datetime(2021,6,1)\n",
    "    dfs=[]\n",
    "    idx=[]\n",
    "    for name, group in Stromverbrauch.groupby(level=[0,1],axis=1):\n",
    "        group = group.dropna()\n",
    "        deltaT = group.index.max()-group.index.min()\n",
    "        df = (group.max() / deltaT.days) * (group.index.max().date() - start.date()).days\n",
    "        cols = df.index\n",
    "        idx.extend(cols)\n",
    "        dfs.append(df.values)\n",
    "    idx = pd.MultiIndex.from_tuples(idx)\n",
    "    date = group.index\n",
    "    df = pd.DataFrame(dfs, index=idx, columns=[group.index.max()]).T\n",
    "else:\n",
    "    df = pd.DataFrame(Stromverbrauch.loc[Stromverbrauch.index.max(),:]).T\n",
    "    date = Stromverbrauch.index\n",
    "\n",
    "df = df.reset_index(drop=True).div(AREA,level=1).round(2)\n",
    "\n",
    "\n",
    "df = df.stack().T.droplevel(0,axis=1)\n",
    "\n",
    "fig,ax = plt.subplots(figsize=INDOC)\n",
    "df.plot.bar(ax=ax,cmap = 'Accent')\n",
    "\n",
    "if Normalize:\n",
    "    title = 'Spezifischer Stromverbrauch (normalisiert)'\n",
    "    fname = 'normalisiert'\n",
    "    ax.set_title(f'{title}\\nZeitraum: {start.strftime(\"%d.%m.%Y\")} bis {date.max().strftime(\"%d.%m.%Y\")}', fontweight = 'bold')\n",
    "else:\n",
    "    title = 'Spezifischer Stromverbrauch (absolut)'\n",
    "    fname = 'absolut'\n",
    "    ax.set_title(f'{title}\\nletztes Ablesedatum: {date.max().strftime(\"%d.%m.%Y\")}', fontweight = 'bold')\n",
    "ax.set_ylabel('[kWh / m²]')\n",
    "ax.set_xticklabels(['Leichtbeton', 'Holzmassiv', 'Ziegelmauerwerk'], rotation=0)\n",
    "ax.grid(False)\n",
    "ax.legend(labels=['Nord','Ost','Süd'],loc='center right',ncol=99,bbox_to_anchor=(1,1.03),frameon=False)\n",
    "xticks=[]\n",
    "for bar in ax.patches:\n",
    "    xticks.append(bar.get_x())\n",
    "\n",
    "    ax.text(\n",
    "        bar.get_x() + bar.get_width() / 2,\n",
    "        bar.get_height()*0.5 + bar.get_y(),\n",
    "        f\"{round(bar.get_height(),0):.0f}\",\n",
    "        ha='center',\n",
    "        color='w',\n",
    "        weight='bold',\n",
    "        )\n",
    "\n",
    "fig.tight_layout()\n",
    "if ex:\n",
    "    export(fig,exdir,f'Stromverbrauch_spezifisch_{fname}',extlist=['pdf'], show=True)"
   ]
  },
  {
   "cell_type": "markdown",
   "metadata": {},
   "source": [
    "### Stromverbrauch (gesamt)"
   ]
  },
  {
   "cell_type": "code",
   "execution_count": 32,
   "metadata": {},
   "outputs": [
    {
     "data": {
      "image/png": "[encoded data removed]",
      "text/plain": [
       "<Figure size 453.543x340.157 with 1 Axes>"
      ]
     },
     "metadata": {
      "needs_background": "light"
     },
     "output_type": "display_data"
    }
   ],
   "source": [
    "Normalize = True\n",
    "\n",
    "Stromverbrauch = pd.read_csv('.\\src\\Stromzähler.csv', header=[0,1], index_col=[0], sep=';')\n",
    "Stromverbrauch.index = pd.to_datetime(Stromverbrauch.index,format='%d.%m.%Y')\n",
    "if Normalize:\n",
    "    start = dt.datetime(2021,6,1)\n",
    "    dfs=[]\n",
    "    idx=[]\n",
    "    for name, group in Stromverbrauch.groupby(level=[0,1],axis=1):\n",
    "        group = group.dropna()\n",
    "        deltaT = group.index.max() - group.index.min()\n",
    "        df = (group.max() / deltaT.days) * (group.index.max().date() - start.date()).days\n",
    "        cols = df.index\n",
    "        idx.extend(cols)\n",
    "        dfs.append(df.values)\n",
    "    idx = pd.MultiIndex.from_tuples(idx)\n",
    "    date = group.index\n",
    "    df = pd.DataFrame(dfs, index=idx, columns=[group.index.max()]).T\n",
    "else:\n",
    "    df = pd.DataFrame(Stromverbrauch.loc[Stromverbrauch.index.max(),:]).T\n",
    "    date = Stromverbrauch.index\n",
    "\n",
    "df = df.stack().T.droplevel(0,axis=1)\n",
    "\n",
    "fig,ax = plt.subplots(figsize=INDOC)\n",
    "df.plot.bar(ax=ax,cmap = 'Accent')\n",
    "\n",
    "if Normalize:\n",
    "    title = 'Totaler Stromverbrauch (normalisiert)'\n",
    "    fname = 'normalisiert'\n",
    "    ax.set_title(f'{title}\\nZeitraum: {start.strftime(\"%d.%m.%Y\")} bis {date.max().strftime(\"%d.%m.%Y\")}', fontweight = 'bold')\n",
    "else:\n",
    "    title = 'Totaler Stromverbrauch (absolut)'\n",
    "    fname = 'absolut'\n",
    "    ax.set_title(f'{title}\\nletztes Ablesedatum: {date.max().strftime(\"%d.%m.%Y\")}', fontweight = 'bold')\n",
    "ax.set_ylabel('[kWh / m²]')\n",
    "ax.set_xticklabels(['Leichtbeton', 'Holzmassiv', 'Ziegelmauerwerk'], rotation=0)\n",
    "ax.grid(False)\n",
    "ax.legend(labels=['Nord','Ost','Süd'],loc='center right',ncol=99,bbox_to_anchor=(1,1.03),frameon=False)\n",
    "xticks=[]\n",
    "for bar in ax.patches:\n",
    "    xticks.append(bar.get_x())\n",
    "\n",
    "    ax.text(\n",
    "        bar.get_x() + bar.get_width() / 2,\n",
    "        bar.get_height()*0.5 + bar.get_y(),\n",
    "        f\"{round(bar.get_height(),0):.0f}\",\n",
    "        ha='center',\n",
    "        color='w',\n",
    "        weight='bold',\n",
    "        )\n",
    "\n",
    "fig.tight_layout()\n",
    "if ex:\n",
    "    export(fig,exdir,f'Stromverbrauch_total_{fname}',extlist=['pdf'], show=True)"
   ]
  },
  {
   "cell_type": "markdown",
   "metadata": {},
   "source": [
    "### Stromverbrauch (Winter)"
   ]
  },
  {
   "cell_type": "code",
   "execution_count": 33,
   "metadata": {},
   "outputs": [
    {
     "data": {
      "image/png": "[encoded data removed]",
      "text/plain": [
       "<Figure size 453.543x340.157 with 1 Axes>"
      ]
     },
     "metadata": {
      "needs_background": "light"
     },
     "output_type": "display_data"
    }
   ],
   "source": [
    "Normalize = True\n",
    "\n",
    "Stromverbrauch = pd.read_csv('.\\src\\Stromzähler.csv', header=[0,1], index_col=[0], sep=';')\n",
    "Stromverbrauch.index = pd.to_datetime(Stromverbrauch.index,format='%d.%m.%Y')\n",
    "if Normalize:\n",
    "    start = dt.datetime(2021,9,2)\n",
    "    dfs=[]\n",
    "    idx=[]\n",
    "    for name, group in Stromverbrauch.groupby(level=[0,1],axis=1):\n",
    "        group = group.dropna()\n",
    "        deltaT = group.index.max()-group.index.min()\n",
    "        df = (group.max() / deltaT.days) * (group.index.max().date() - start.date()).days\n",
    "        cols = df.index\n",
    "        idx.extend(cols)\n",
    "        dfs.append(df.values)\n",
    "    idx = pd.MultiIndex.from_tuples(idx)\n",
    "    date = group.index\n",
    "    df = pd.DataFrame(dfs, index=idx, columns=[group.index.max()]).T\n",
    "else:\n",
    "    df = pd.DataFrame(Stromverbrauch.loc[Stromverbrauch.index.max(),:]).T\n",
    "    date = Stromverbrauch.index\n",
    "\n",
    "df = df.stack().T.droplevel(0,axis=1)\n",
    "\n",
    "fig,ax = plt.subplots(figsize=INDOC)\n",
    "df.plot.bar(ax=ax,cmap = 'Accent')\n",
    "\n",
    "if Normalize:\n",
    "    title = 'Totaler Stromverbrauch (Winter)'\n",
    "    fname = 'Winter'\n",
    "    ax.set_title(f'{title}\\nZeitraum: {start.strftime(\"%d.%m.%Y\")} bis {date.max().strftime(\"%d.%m.%Y\")}', fontweight = 'bold')\n",
    "else:\n",
    "    title = 'Totaler Stromverbrauch (absolut)'\n",
    "    fname = 'absolut'\n",
    "    ax.set_title(f'{title}\\nletztes Ablesedatum: {date.max().strftime(\"%d.%m.%Y\")}', fontweight = 'bold')\n",
    "ax.set_ylabel('[kWh / m²]')\n",
    "ax.set_xticklabels(['Leichtbeton', 'Holzmassiv', 'Ziegelmauerwerk'], rotation=0)\n",
    "ax.grid(False)\n",
    "ax.legend(labels=['Nord','Ost','Süd'],loc='center right',ncol=99,bbox_to_anchor=(1,1.03),frameon=False)\n",
    "xticks=[]\n",
    "for bar in ax.patches:\n",
    "    xticks.append(bar.get_x())\n",
    "\n",
    "    ax.text(\n",
    "        bar.get_x() + bar.get_width() / 2,\n",
    "        bar.get_height()*0.5 + bar.get_y(),\n",
    "        f\"{round(bar.get_height(),0):.0f}\",\n",
    "        ha='center',\n",
    "        color='w',\n",
    "        weight='bold',\n",
    "        )\n",
    "\n",
    "fig.tight_layout()\n",
    "if ex:\n",
    "    export(fig,exdir,f'Stromverbrauch_total_{fname}',extlist=['pdf'], show=True)"
   ]
  },
  {
   "cell_type": "code",
   "execution_count": 34,
   "metadata": {},
   "outputs": [],
   "source": [
    "plt.style.use('./src/stylesheets/eb3_präsi.mplstyle')"
   ]
  },
  {
   "cell_type": "code",
   "execution_count": 35,
   "metadata": {},
   "outputs": [
    {
     "data": {
      "image/png": "[encoded data removed]",
      "text/plain": [
       "<Figure size 568.8x338.4 with 1 Axes>"
      ]
     },
     "metadata": {
      "needs_background": "light"
     },
     "output_type": "display_data"
    }
   ],
   "source": [
    "Normalize = True\n",
    "\n",
    "idx = pd.IndexSlice\n",
    "\n",
    "# Beobachtungszeitraum\n",
    "startdate = dt.datetime(2021,9,2)\n",
    "enddate = dt.datetime(2022,2,22)\n",
    "\n",
    "# Wärme\n",
    "df1 = EM.loc(axis=1)[idx[:, [\"N\", \"O\", 'S'],'HQ','H']].droplevel([2,3],axis=1)\n",
    "\n",
    "## Umrechnung auf den Beobachtungszeitraum\n",
    "df1 = df1.loc[startdate:enddate]\n",
    "df1 = df1.resample('5000d').last() - df1.resample('5000d').first()\n",
    "\n",
    "## Umrechung auf Wohnfläche\n",
    "df1 = df1.reset_index(drop=True).div(AREA,level=1).round(2)\n",
    "df1 = df1.stack().T.droplevel(0,axis=1)\n",
    "\n",
    "# Strom\n",
    "Stromverbrauch = pd.read_csv('.\\src\\Stromzähler.csv', header=[0,1], index_col=[0], sep=';')\n",
    "Stromverbrauch.index = pd.to_datetime(Stromverbrauch.index,format='%d.%m.%Y')\n",
    "\n",
    "# Umrechnung auf Beobachtungszeitraum\n",
    "if Normalize:\n",
    "    sollT = enddate.date() - startdate.date()\n",
    "    dfs=[]\n",
    "    idx=[]\n",
    "    for name, group in Stromverbrauch.groupby(level=[0,1],axis=1):\n",
    "        group = group.dropna()\n",
    "        deltaT = group.index.max() - group.index.min()\n",
    "        df = (group.max() / deltaT.days) * sollT.days\n",
    "        cols = df.index\n",
    "        idx.extend(cols)\n",
    "        dfs.append(df.values)\n",
    "    idx = pd.MultiIndex.from_tuples(idx)\n",
    "    df = pd.DataFrame(dfs, index=idx, columns=[group.index.max()]).T\n",
    "else:\n",
    "    df = pd.DataFrame(Stromverbrauch.loc[Stromverbrauch.index.max(),:]).T\n",
    "\n",
    "df = df.reset_index(drop=True).div(AREA,level=1).round(2)\n",
    "df = df.stack().T.droplevel(0,axis=1)\n",
    "df = pd.concat([df1.unstack(), df.unstack()], axis=1, keys=['Wärme','Strom'])\n",
    "\n",
    "fig, ax = plt.subplots()\n",
    "xticks = []\n",
    "xlabels = []\n",
    "xmajor = []\n",
    "for i, app in enumerate(df.index.get_level_values(0).unique()):\n",
    "    xmajor.append(WOHNUNGEN[app])\n",
    "    for j, bui in zip([-0.25,0,0.25], BUID):\n",
    "        w1, = ax.bar(i+j, df.loc[(app, bui)]['Wärme'], width=0.25, color=mpl.cm.Accent(0))\n",
    "        w2, = ax.bar(i+j, df.loc[(app, bui)]['Strom'], width=0.25, bottom=df.loc[(app, bui)]['Wärme'], color=mpl.cm.Accent(100))\n",
    "        xticks.append(i+j)\n",
    "        xlabels.append(bui)\n",
    "\n",
    "for bar in ax.patches:\n",
    "    ax.text(\n",
    "        bar.get_x() + bar.get_width() / 2,\n",
    "        bar.get_height()*0.5 + bar.get_y(),\n",
    "        f\"{round(bar.get_height(),0):.0f}\",\n",
    "        ha='center',\n",
    "        color='w',\n",
    "        weight='bold',\n",
    "        )\n",
    "        \n",
    "ax.set_xticks(xticks, minor=True)\n",
    "ax.set_xticklabels(xlabels, minor=True)\n",
    "ax.xaxis.remove_overlapping_locs = False\n",
    "ax.set_xticks([0,1,2], minor=False)\n",
    "ax.set_xticklabels(xmajor, minor=False)\n",
    "ax.tick_params(axis='x', which='major', length=16, width=0)\n",
    "\n",
    "ax.grid(False, which='both')\n",
    "ax.legend(handles=[w1, w2], labels = ['Wärme', 'Strom'], loc='center right',ncol=99,bbox_to_anchor=(1,1.03),frameon=False)\n",
    "fig.suptitle(f'Spezifischer Energieverbrauch')\n",
    "ax.set_title(f'Zeitraum: {startdate.strftime(\"%d.%m.%Y\")} bis {enddate.strftime(\"%d.%m.%Y\")}', fontweight = 'normal')\n",
    "ax.set_ylabel('[kWh / m²]')\n",
    "fig.tight_layout()"
   ]
  },
  {
   "cell_type": "code",
   "execution_count": 37,
   "metadata": {},
   "outputs": [
    {
     "data": {
      "image/png": "[encoded data removed]",
      "text/plain": [
       "<Figure size 568.8x338.4 with 1 Axes>"
      ]
     },
     "metadata": {
      "needs_background": "light"
     },
     "output_type": "display_data"
    }
   ],
   "source": [
    "fig, ax = plt.subplots()\n",
    "xticks = []\n",
    "xlabels = []\n",
    "xmajor = []\n",
    "for i, app in zip([-0.25,0,0.25], df.index.get_level_values(0).unique()):\n",
    "    \n",
    "    for j, bui in enumerate(BUID):\n",
    "        w1, = ax.bar(i+j, df.loc[(app, bui)]['Wärme'], width=0.25, color=mpl.cm.Accent(0))\n",
    "        w2, = ax.bar(i+j, df.loc[(app, bui)]['Strom'], width=0.25, bottom=df.loc[(app, bui)]['Wärme'], color=mpl.cm.Accent(100))\n",
    "        xticks.append(i+j)\n",
    "        xlabels.append(app)\n",
    "        xmajor.append(BUID[bui])\n",
    "\n",
    "for bar in ax.patches:\n",
    "    ax.text(\n",
    "        bar.get_x() + bar.get_width() / 2,\n",
    "        bar.get_height()*0.5 + bar.get_y(),\n",
    "        f\"{bar.get_height():.0f}\",\n",
    "        ha='center',\n",
    "        color='w',\n",
    "        weight='bold',\n",
    "        )\n",
    "\n",
    "ax.set_xticks(xticks, minor=True)\n",
    "ax.set_xticklabels(xlabels, minor=True)\n",
    "ax.xaxis.remove_overlapping_locs = False\n",
    "\n",
    "ax.set_xticks([0,1,2], minor=False)\n",
    "ax.set_xticklabels(list(set(xmajor)), minor=False)\n",
    "ax.tick_params(axis='x', which='major', length=16, width=0)\n",
    "\n",
    "ax.grid(False, which='both')\n",
    "ax.legend(handles=[w1, w2], labels = ['Wärme', 'Strom'], loc='center right',ncol=99,bbox_to_anchor=(1,1.03),frameon=False)\n",
    "fig.suptitle(f'Spezifischer Energieverbrauch')\n",
    "ax.set_title(f'Zeitraum: {startdate.strftime(\"%d.%m.%Y\")} bis {enddate.strftime(\"%d.%m.%Y\")}', fontweight = 'normal')\n",
    "ax.set_ylabel('[kWh / m²]')\n",
    "fig.tight_layout()"
   ]
  }
 ],
 "metadata": {
  "interpreter": {
   "hash": "5a5fe53256759dcdd48ffbd2c915e7ab490daaf277174ef64b4f449a91655156"
  },
  "kernelspec": {
   "display_name": "Python 3.8.8 64-bit ('base': conda)",
   "language": "python",
   "name": "python3"
  },
  "language_info": {
   "codemirror_mode": {
    "name": "ipython",
    "version": 3
   },
   "file_extension": ".py",
   "mimetype": "text/x-python",
   "name": "python",
   "nbconvert_exporter": "python",
   "pygments_lexer": "ipython3",
   "version": "3.10.2"
  },
  "orig_nbformat": 4
 },
 "nbformat": 4,
 "nbformat_minor": 2
}
