{
 "cells": [
  {
   "cell_type": "markdown",
   "metadata": {},
   "source": [
    "# **Auswertung der Energieverbrauchsmessung**\n",
    "___"
   ]
  },
  {
   "cell_type": "code",
   "execution_count": 4,
   "metadata": {},
   "outputs": [
    {
     "name": "stderr",
     "output_type": "stream",
     "text": [
      "06.04.2022 15:25:00 -- INFO -- ------ Starte TinkerForge Update------\n"
     ]
    },
    {
     "name": "stdout",
     "output_type": "stream",
     "text": [
      "The autoreload extension is already loaded. To reload it, use:\n",
      "  %reload_ext autoreload\n"
     ]
    },
    {
     "name": "stderr",
     "output_type": "stream",
     "text": [
      "06.04.2022 15:25:00 -- INFO -- MH wurde übersprungen.\n",
      "06.04.2022 15:25:00 -- INFO -- MW wurde übersprungen.\n",
      "06.04.2022 15:25:00 -- INFO -- LB wurde übersprungen.\n",
      "06.04.2022 15:25:00 -- INFO -- PM wurde übersprungen.\n",
      "06.04.2022 15:25:00 -- INFO -- WD wurde übersprungen.\n",
      "06.04.2022 15:25:00 -- INFO -- ------TinkerForge Update beendet!------\n",
      "06.04.2022 15:25:00 -- INFO -- Molline-Datenbank up-to-date. Kein Update notwendig.\n"
     ]
    }
   ],
   "source": [
    "#fuer graphische Darstellung\n",
    "%matplotlib inline\n",
    "\n",
    "#automatische Aktualisierung von Bibliotheken\n",
    "%load_ext autoreload    \n",
    "%autoreload 2\n",
    "\n",
    "import datetime as dt\n",
    "import os               #Pfade\n",
    "import locale           #Spracheinstellung: Deutsch (DE)\n",
    "locale.setlocale(locale.LC_ALL,'de_DE')\n",
    "from zoneinfo import ZoneInfo\n",
    "tz = ZoneInfo('Europe/Berlin')\n",
    "\n",
    "import numpy as np      #Datenmanagement Bibliothek (matritx operationen)\n",
    "import pandas as pd     #Datenmanagement Bibliothek (wie excel)\n",
    "\n",
    "import matplotlib as mpl\n",
    "import matplotlib.pyplot as plt\n",
    "plt.style.use(\".\\src\\stylesheets\\eb3.mplstyle\")     #Style-Vorlagendatei (z.B. Grids, Achsen, Schriftgroeße, etc.)\n",
    "\n",
    "#eigene Bibliotheken (importiert aus src)\n",
    "from src.project_definitions import BUID, AREA, WOHNUNGEN, ROOMS, dir_results, area\n",
    "from src.utilities import recolor_lines, export, truncate_colormap, DIN, INDOC, eb_bbox\n",
    "from src.update_databases import up\n",
    "from src.sensor_reader import import_data\n",
    "\n",
    "### update databases ###\n",
    "up()\n",
    "\n",
    "### import databases ###\n",
    "IND, AMB, EM = import_data()\n",
    "\n",
    "### export results? True = Export Graphiken für alle Räume + Bauweisen (dauert!) / False = macht nur eine definierte Variante ###\n",
    "ex  = True\n",
    "\n",
    "### result path ###\n",
    "exdir = os.path.join(dir_results,'Energiebedarf')\n",
    "if not os.path.isdir(exdir):\n",
    "    os.makedirs(exdir)"
   ]
  },
  {
   "cell_type": "markdown",
   "metadata": {},
   "source": [
    "# **Energieverbrauch**"
   ]
  },
  {
   "cell_type": "markdown",
   "metadata": {},
   "source": [
    "## **WÄRME**"
   ]
  },
  {
   "cell_type": "markdown",
   "metadata": {},
   "source": [
    "### **Wärmeenergie (total)**\n"
   ]
  },
  {
   "cell_type": "markdown",
   "metadata": {},
   "source": [
    "gesamter Zeitraum\n",
    "____"
   ]
  },
  {
   "cell_type": "code",
   "execution_count": 5,
   "metadata": {},
   "outputs": [
    {
     "name": "stdout",
     "output_type": "stream",
     "text": [
      "\\\\nas.ads.mwn.de\\tuar\\l15\\private\\DATA\\FORSCHUNG\\04_Projekte\\2021\\Einfach_Bauen_3\\Daten\\3_auswertung\\Energiebedarf\\Wärmeenergieverbrauch.pdf saved!\n"
     ]
    },
    {
     "data": {
      "image/png": "[encoded data removed]",
      "text/plain": [
       "<Figure size 453.543x340.157 with 1 Axes>"
      ]
     },
     "metadata": {
      "needs_background": "light"
     },
     "output_type": "display_data"
    }
   ],
   "source": [
    "idx = pd.IndexSlice\n",
    "df = EM.loc(axis=1)[idx[:, [\"N\", \"O\", 'S'],'HQ','H']].droplevel([2,3],axis=1)\n",
    "df = df.resample('365d').last() - df.resample('365d').first()\n",
    "df.reset_index(drop=True).round(2)\n",
    "fig,ax = plt.subplots(figsize=INDOC)\n",
    "df.stack().T.droplevel(0,axis=1).plot.bar(ax=ax,cmap = 'Accent')\n",
    "ax.set_title(f'Totaler Energieverbrauch\\nZeitraum: {(EM.index.min().strftime(\"%d.%m.%Y\"))} bis {EM.index.max().strftime(\"%d.%m.%Y\")}', fontweight = 'bold')\n",
    "ax.set_ylabel('[kWh]')\n",
    "ax.set_xticklabels(['Leichtbeton', 'Holzmassiv', 'Ziegelmauerwerk'], rotation=0)\n",
    "ax.grid(False)\n",
    "ax.legend(labels=['Nord','Ost','Süd'],loc='center right',ncol=99,bbox_to_anchor=(1,1.03),frameon=False)\n",
    "xticks=[]\n",
    "for bar in ax.patches:\n",
    "    xticks.append(bar.get_x())\n",
    "    ax.text(\n",
    "        bar.get_x() + bar.get_width() / 2,\n",
    "        bar.get_height()*0.5 + bar.get_y(),\n",
    "        f\"{round(bar.get_height(),0):.0f}\",\n",
    "        ha='center',\n",
    "        color='w',\n",
    "        weight='bold',\n",
    "        )\n",
    "\n",
    "fig.tight_layout()\n",
    "if ex:\n",
    "    export(fig,exdir,'Wärmeenergieverbrauch',extlist=['pdf'], show=True)"
   ]
  },
  {
   "cell_type": "markdown",
   "metadata": {},
   "source": [
    "### **Wärmeenergie (spezifisch)**\n"
   ]
  },
  {
   "cell_type": "markdown",
   "metadata": {},
   "source": [
    "Winter\n",
    "____"
   ]
  },
  {
   "cell_type": "code",
   "execution_count": 6,
   "metadata": {},
   "outputs": [
    {
     "ename": "TypeError",
     "evalue": "'tz' is an invalid keyword argument for this function",
     "output_type": "error",
     "traceback": [
      "\u001b[1;31m---------------------------------------------------------------------------\u001b[0m",
      "\u001b[1;31mTypeError\u001b[0m                                 Traceback (most recent call last)",
      "\u001b[1;32m~\\AppData\\Local\\Temp/ipykernel_8524/2032547460.py\u001b[0m in \u001b[0;36m<module>\u001b[1;34m\u001b[0m\n\u001b[0;32m      1\u001b[0m \u001b[0midx\u001b[0m \u001b[1;33m=\u001b[0m \u001b[0mpd\u001b[0m\u001b[1;33m.\u001b[0m\u001b[0mIndexSlice\u001b[0m\u001b[1;33m\u001b[0m\u001b[1;33m\u001b[0m\u001b[0m\n\u001b[1;32m----> 2\u001b[1;33m \u001b[0mstartdate\u001b[0m \u001b[1;33m=\u001b[0m \u001b[0mdt\u001b[0m\u001b[1;33m.\u001b[0m\u001b[0mdatetime\u001b[0m\u001b[1;33m(\u001b[0m\u001b[1;36m2021\u001b[0m\u001b[1;33m,\u001b[0m\u001b[1;36m9\u001b[0m\u001b[1;33m,\u001b[0m\u001b[1;36m2\u001b[0m\u001b[1;33m,\u001b[0m\u001b[0mtz\u001b[0m\u001b[1;33m=\u001b[0m\u001b[0mtz\u001b[0m\u001b[1;33m)\u001b[0m\u001b[1;33m\u001b[0m\u001b[1;33m\u001b[0m\u001b[0m\n\u001b[0m\u001b[0;32m      3\u001b[0m \u001b[0menddate\u001b[0m \u001b[1;33m=\u001b[0m \u001b[0mdt\u001b[0m\u001b[1;33m.\u001b[0m\u001b[0mdatetime\u001b[0m\u001b[1;33m(\u001b[0m\u001b[1;36m2022\u001b[0m\u001b[1;33m,\u001b[0m\u001b[1;36m2\u001b[0m\u001b[1;33m,\u001b[0m\u001b[1;36m22\u001b[0m\u001b[1;33m)\u001b[0m\u001b[1;33m\u001b[0m\u001b[1;33m\u001b[0m\u001b[0m\n\u001b[0;32m      4\u001b[0m \u001b[0mdf\u001b[0m \u001b[1;33m=\u001b[0m \u001b[0mEM\u001b[0m\u001b[1;33m.\u001b[0m\u001b[0mloc\u001b[0m\u001b[1;33m(\u001b[0m\u001b[0maxis\u001b[0m\u001b[1;33m=\u001b[0m\u001b[1;36m1\u001b[0m\u001b[1;33m)\u001b[0m\u001b[1;33m[\u001b[0m\u001b[0midx\u001b[0m\u001b[1;33m[\u001b[0m\u001b[1;33m:\u001b[0m\u001b[1;33m,\u001b[0m \u001b[1;33m[\u001b[0m\u001b[1;34m\"N\"\u001b[0m\u001b[1;33m,\u001b[0m \u001b[1;34m\"O\"\u001b[0m\u001b[1;33m,\u001b[0m \u001b[1;34m'S'\u001b[0m\u001b[1;33m]\u001b[0m\u001b[1;33m,\u001b[0m\u001b[1;34m'HQ'\u001b[0m\u001b[1;33m,\u001b[0m\u001b[1;34m'H'\u001b[0m\u001b[1;33m]\u001b[0m\u001b[1;33m]\u001b[0m\u001b[1;33m.\u001b[0m\u001b[0mdroplevel\u001b[0m\u001b[1;33m(\u001b[0m\u001b[1;33m[\u001b[0m\u001b[1;36m2\u001b[0m\u001b[1;33m,\u001b[0m\u001b[1;36m3\u001b[0m\u001b[1;33m]\u001b[0m\u001b[1;33m,\u001b[0m\u001b[0maxis\u001b[0m\u001b[1;33m=\u001b[0m\u001b[1;36m1\u001b[0m\u001b[1;33m)\u001b[0m\u001b[1;33m\u001b[0m\u001b[1;33m\u001b[0m\u001b[0m\n\u001b[0;32m      5\u001b[0m \u001b[0mdf\u001b[0m \u001b[1;33m=\u001b[0m \u001b[0mdf\u001b[0m\u001b[1;33m.\u001b[0m\u001b[0mloc\u001b[0m\u001b[1;33m[\u001b[0m\u001b[0mstartdate\u001b[0m\u001b[1;33m:\u001b[0m\u001b[0menddate\u001b[0m\u001b[1;33m]\u001b[0m\u001b[1;33m\u001b[0m\u001b[1;33m\u001b[0m\u001b[0m\n",
      "\u001b[1;31mTypeError\u001b[0m: 'tz' is an invalid keyword argument for this function"
     ]
    }
   ],
   "source": [
    "idx = pd.IndexSlice\n",
    "startdate = dt.datetime(2021,9,2,tz=tz)\n",
    "enddate = dt.datetime(2022,2,22)\n",
    "df = EM.loc(axis=1)[idx[:, [\"N\", \"O\", 'S'],'HQ','H']].droplevel([2,3],axis=1)\n",
    "df = df.loc[startdate:enddate]\n",
    "df = df.resample('5000d').last() - df.resample('5000d').first()\n",
    "df = df.reset_index(drop=True).div(AREA,level=1).round(2)\n",
    "fig,ax = plt.subplots(figsize=INDOC)\n",
    "df.stack().T.droplevel(0,axis=1).plot.bar(ax=ax,cmap = 'Accent')\n",
    "ax.set_title(f'Spezifischer Energieverbrauch\\nZeitraum: {(startdate.strftime(\"%d.%m.%Y\"))} bis {enddate.strftime(\"%d.%m.%Y\")}', fontweight = 'bold')\n",
    "ax.set_ylabel('[kWh]')\n",
    "ax.set_xticklabels(['Leichtbeton', 'Holzmassiv', 'Ziegelmauerwerk'], rotation=0)\n",
    "ax.grid(False)\n",
    "ax.legend(labels=['Nord','Ost','Süd'],loc='center right',ncol=99,bbox_to_anchor=(1,1.03),frameon=False)\n",
    "xticks=[]\n",
    "for bar in ax.patches:\n",
    "    xticks.append(bar.get_x())\n",
    "    ax.text(\n",
    "        bar.get_x() + bar.get_width() / 2,\n",
    "        bar.get_height()*0.5 + bar.get_y(),\n",
    "        f\"{round(bar.get_height(),0):.0f}\",\n",
    "        ha='center',\n",
    "        color='w',\n",
    "        weight='bold',\n",
    "        )\n",
    "\n",
    "fig.tight_layout()\n",
    "if ex:\n",
    "    export(fig,exdir,'Wärmeenergieverbrauch_spezifisch_Winter',extlist=['pdf'], show=True)"
   ]
  },
  {
   "cell_type": "markdown",
   "metadata": {},
   "source": [
    "gesamter Zeitraum\n",
    "___"
   ]
  },
  {
   "cell_type": "code",
   "execution_count": null,
   "metadata": {},
   "outputs": [
    {
     "name": "stdout",
     "output_type": "stream",
     "text": [
      "\\\\nas.ads.mwn.de\\tuar\\l15\\private\\DATA\\FORSCHUNG\\04_Projekte\\2021\\Einfach_Bauen_3\\Daten\\3_auswertung\\Energiebedarf\\spezifischer_Wärmeenergieverbrauch.pdf saved!\n"
     ]
    },
    {
     "data": {
      "image/png": "[encoded data removed]",
      "text/plain": [
       "<Figure size 453.543x340.157 with 1 Axes>"
      ]
     },
     "metadata": {
      "needs_background": "light"
     },
     "output_type": "display_data"
    }
   ],
   "source": [
    "idx = pd.IndexSlice\n",
    "df = EM.loc(axis=1)[idx[:, [\"N\", \"O\",'S'],'HQ','H']].droplevel([2,3],axis=1)\n",
    "df = df.resample('365d').last() - df.resample('365d').first()\n",
    "df = df.reset_index(drop=True).div(AREA,level=1).round(2)\n",
    "fig,ax = plt.subplots(figsize=INDOC)\n",
    "df.stack().T.droplevel(0,axis=1).plot.bar(ax=ax,cmap = 'Accent')\n",
    "ax.set_title(f'Spezifischer Energieverbrauch\\nZeitraum: {(EM.index.min().strftime(\"%d.%m.%Y\"))} bis {EM.index.max().strftime(\"%d.%m.%Y\")}', fontweight = 'bold', y=1.08)\n",
    "ax.set_ylabel('[kWh / m²]')\n",
    "ax.set_xticklabels(['Leichtbeton', 'Holzmassiv', 'Ziegelmauerwerk'], rotation=0)\n",
    "ax.grid(False)\n",
    "ax.legend(labels=['Nord','Ost','Süd'],loc='center right',ncol=99,bbox_to_anchor=(1,1.03),frameon=False)\n",
    "xticks=[]\n",
    "for bar in ax.patches:\n",
    "    xticks.append(bar.get_x())\n",
    "    ax.text(\n",
    "        bar.get_x() + bar.get_width() / 2,\n",
    "        bar.get_height()*0.5 + bar.get_y(),\n",
    "        f\"{bar.get_height():.0f}\",\n",
    "        ha='center',\n",
    "        color='w',\n",
    "        weight='bold',\n",
    "        )\n",
    "\n",
    "fig.tight_layout()\n",
    "if ex:\n",
    "    export(fig,exdir,'spezifischer_Wärmeenergieverbrauch',extlist=['pdf'], show=True)"
   ]
  },
  {
   "cell_type": "markdown",
   "metadata": {},
   "source": [
    "### **Wärmeenergie (kumuliert)**"
   ]
  },
  {
   "cell_type": "markdown",
   "metadata": {},
   "source": [
    "gesamter Zeitraum\n",
    "____"
   ]
  },
  {
   "cell_type": "code",
   "execution_count": null,
   "metadata": {},
   "outputs": [
    {
     "name": "stdout",
     "output_type": "stream",
     "text": [
      "\\\\nas.ads.mwn.de\\tuar\\l15\\private\\DATA\\FORSCHUNG\\04_Projekte\\2021\\Einfach_Bauen_3\\Daten\\3_auswertung\\Energiebedarf\\Wärmeenergieverbrauch_kumuliert.pdf saved!\n"
     ]
    },
    {
     "data": {
      "image/png": "[encoded data removed]",
      "text/plain": [
       "<Figure size 453.543x340.157 with 3 Axes>"
      ]
     },
     "metadata": {
      "needs_background": "light"
     },
     "output_type": "display_data"
    }
   ],
   "source": [
    "fig, axs = plt.subplots(1,3,sharex=True, sharey=True,figsize=INDOC)\n",
    "fig.suptitle(f'Wärmemengenzähler',y=1.01)\n",
    "for b, bui in enumerate(BUID):\n",
    "    df = EM.loc(axis=1)[idx[bui,['N','O','S'],'HQ','H']].droplevel([0,2,3],axis=1).resample('H').last()\n",
    "    (df - df.min()).plot(ax=axs[b], cmap = 'Accent')\n",
    "    axs[b].legend(labels=['Nord','Ost','Süd'],loc='center right',ncol=99,bbox_to_anchor=(1,1.03),frameon=False)\n",
    "    axs[b].set_title(f'{BUID[bui]}',y=1.05)\n",
    "axs[0].set_ylabel(f'[kWh]')\n",
    "if ex:\n",
    "    export(fig,exdir,'Wärmeenergieverbrauch_kumuliert',extlist=['pdf'], show=True)"
   ]
  },
  {
   "cell_type": "markdown",
   "metadata": {},
   "source": [
    "## **STROM**"
   ]
  },
  {
   "cell_type": "markdown",
   "metadata": {},
   "source": [
    "### Stromverbrauch (spezifisch)"
   ]
  },
  {
   "cell_type": "code",
   "execution_count": null,
   "metadata": {},
   "outputs": [
    {
     "name": "stdout",
     "output_type": "stream",
     "text": [
      "\\\\nas.ads.mwn.de\\tuar\\l15\\private\\DATA\\FORSCHUNG\\04_Projekte\\2021\\Einfach_Bauen_3\\Daten\\3_auswertung\\Energiebedarf\\Stromverbrauch_spezifisch_normalisiert.pdf saved!\n"
     ]
    },
    {
     "data": {
      "image/png": "[encoded data removed]",
      "text/plain": [
       "<Figure size 453.543x340.157 with 1 Axes>"
      ]
     },
     "metadata": {
      "needs_background": "light"
     },
     "output_type": "display_data"
    }
   ],
   "source": [
    "Normalize = True\n",
    "\n",
    "Stromverbrauch = pd.read_csv('.\\src\\Stromzähler.csv', header=[0,1], index_col=[0], sep=';')\n",
    "Stromverbrauch.index = pd.to_datetime(Stromverbrauch.index,format='%d.%m.%Y')\n",
    "if Normalize:\n",
    "    start = dt.datetime(2021,6,1)\n",
    "    sollT = dt.date.today()-start.date()\n",
    "    dfs=[]\n",
    "    idx=[]\n",
    "    for name, group in Stromverbrauch.groupby(level=[0,1],axis=1):\n",
    "        group = group.dropna()\n",
    "        deltaT = group.index.max()-group.index.min()\n",
    "        df = (group.max() / deltaT.days) * sollT.days\n",
    "        cols = df.index\n",
    "        idx.extend(cols)\n",
    "        dfs.append(df.values)\n",
    "    idx = pd.MultiIndex.from_tuples(idx)\n",
    "    date = group.index\n",
    "    df = pd.DataFrame(dfs, index=idx, columns=[group.index.max()]).T\n",
    "else:\n",
    "    df = pd.DataFrame(Stromverbrauch.loc[Stromverbrauch.index.max(),:]).T\n",
    "    date = Stromverbrauch.index\n",
    "\n",
    "df = df.reset_index(drop=True).div(AREA,level=1).round(2)\n",
    "\n",
    "\n",
    "df = df.stack().T.droplevel(0,axis=1)\n",
    "\n",
    "fig,ax = plt.subplots(figsize=INDOC)\n",
    "df.plot.bar(ax=ax,cmap = 'Accent')\n",
    "\n",
    "if Normalize:\n",
    "    title = 'Spezifischer Stromverbrauch (normalisiert)'\n",
    "    fname = 'normalisiert'\n",
    "    ax.set_title(f'{title}\\nZeitraum: {start.strftime(\"%d.%m.%Y\")} bis {date.max().strftime(\"%d.%m.%Y\")}', fontweight = 'bold')\n",
    "else:\n",
    "    title = 'Spezifischer Stromverbrauch (absolut)'\n",
    "    fname = 'absolut'\n",
    "    ax.set_title(f'{title}\\nletztes Ablesedatum: {date.max().strftime(\"%d.%m.%Y\")}', fontweight = 'bold')\n",
    "ax.set_ylabel('[kWh / m²]')\n",
    "ax.set_xticklabels(['Leichtbeton', 'Holzmassiv', 'Ziegelmauerwerk'], rotation=0)\n",
    "ax.grid(False)\n",
    "ax.legend(labels=['Nord','Ost','Süd'],loc='center right',ncol=99,bbox_to_anchor=(1,1.03),frameon=False)\n",
    "xticks=[]\n",
    "for bar in ax.patches:\n",
    "    xticks.append(bar.get_x())\n",
    "\n",
    "    ax.text(\n",
    "        bar.get_x() + bar.get_width() / 2,\n",
    "        bar.get_height()*0.5 + bar.get_y(),\n",
    "        f\"{round(bar.get_height(),0):.0f}\",\n",
    "        ha='center',\n",
    "        color='w',\n",
    "        weight='bold',\n",
    "        )\n",
    "\n",
    "fig.tight_layout()\n",
    "if ex:\n",
    "    export(fig,exdir,f'Stromverbrauch_spezifisch_{fname}',extlist=['pdf'], show=True)"
   ]
  },
  {
   "cell_type": "markdown",
   "metadata": {},
   "source": [
    "### Stromverbrauch (gesamt)"
   ]
  },
  {
   "cell_type": "code",
   "execution_count": null,
   "metadata": {},
   "outputs": [
    {
     "name": "stdout",
     "output_type": "stream",
     "text": [
      "\\\\nas.ads.mwn.de\\tuar\\l15\\private\\DATA\\FORSCHUNG\\04_Projekte\\2021\\Einfach_Bauen_3\\Daten\\3_auswertung\\Energiebedarf\\Stromverbrauch_total_normalisiert.pdf saved!\n"
     ]
    },
    {
     "data": {
      "image/png": "[encoded data removed]",
      "text/plain": [
       "<Figure size 453.543x340.157 with 1 Axes>"
      ]
     },
     "metadata": {
      "needs_background": "light"
     },
     "output_type": "display_data"
    }
   ],
   "source": [
    "Normalize = True\n",
    "\n",
    "Stromverbrauch = pd.read_csv('.\\src\\Stromzähler.csv', header=[0,1], index_col=[0], sep=';')\n",
    "Stromverbrauch.index = pd.to_datetime(Stromverbrauch.index,format='%d.%m.%Y')\n",
    "if Normalize:\n",
    "    start = dt.datetime(2021,6,1)\n",
    "    sollT = dt.date.today()-start.date()\n",
    "    dfs=[]\n",
    "    idx=[]\n",
    "    for name, group in Stromverbrauch.groupby(level=[0,1],axis=1):\n",
    "        group = group.dropna()\n",
    "        deltaT = group.index.max()-group.index.min()\n",
    "        df = (group.max() / deltaT.days) * sollT.days\n",
    "        cols = df.index\n",
    "        idx.extend(cols)\n",
    "        dfs.append(df.values)\n",
    "    idx = pd.MultiIndex.from_tuples(idx)\n",
    "    date = group.index\n",
    "    df = pd.DataFrame(dfs, index=idx, columns=[group.index.max()]).T\n",
    "else:\n",
    "    df = pd.DataFrame(Stromverbrauch.loc[Stromverbrauch.index.max(),:]).T\n",
    "    date = Stromverbrauch.index\n",
    "\n",
    "df = df.stack().T.droplevel(0,axis=1)\n",
    "\n",
    "fig,ax = plt.subplots(figsize=INDOC)\n",
    "df.plot.bar(ax=ax,cmap = 'Accent')\n",
    "\n",
    "if Normalize:\n",
    "    title = 'Totaler Stromverbrauch (normalisiert)'\n",
    "    fname = 'normalisiert'\n",
    "    ax.set_title(f'{title}\\nZeitraum: {start.strftime(\"%d.%m.%Y\")} bis {date.max().strftime(\"%d.%m.%Y\")}', fontweight = 'bold')\n",
    "else:\n",
    "    title = 'Totaler Stromverbrauch (absolut)'\n",
    "    fname = 'absolut'\n",
    "    ax.set_title(f'{title}\\nletztes Ablesedatum: {date.max().strftime(\"%d.%m.%Y\")}', fontweight = 'bold')\n",
    "ax.set_ylabel('[kWh / m²]')\n",
    "ax.set_xticklabels(['Leichtbeton', 'Holzmassiv', 'Ziegelmauerwerk'], rotation=0)\n",
    "ax.grid(False)\n",
    "ax.legend(labels=['Nord','Ost','Süd'],loc='center right',ncol=99,bbox_to_anchor=(1,1.03),frameon=False)\n",
    "xticks=[]\n",
    "for bar in ax.patches:\n",
    "    xticks.append(bar.get_x())\n",
    "\n",
    "    ax.text(\n",
    "        bar.get_x() + bar.get_width() / 2,\n",
    "        bar.get_height()*0.5 + bar.get_y(),\n",
    "        f\"{round(bar.get_height(),0):.0f}\",\n",
    "        ha='center',\n",
    "        color='w',\n",
    "        weight='bold',\n",
    "        )\n",
    "\n",
    "fig.tight_layout()\n",
    "if ex:\n",
    "    export(fig,exdir,f'Stromverbrauch_total_{fname}',extlist=['pdf'], show=True)"
   ]
  },
  {
   "cell_type": "markdown",
   "metadata": {},
   "source": [
    "### Stromverbrauch (Winter)"
   ]
  },
  {
   "cell_type": "code",
   "execution_count": null,
   "metadata": {},
   "outputs": [
    {
     "name": "stdout",
     "output_type": "stream",
     "text": [
      "\\\\nas.ads.mwn.de\\tuar\\l15\\private\\DATA\\FORSCHUNG\\04_Projekte\\2021\\Einfach_Bauen_3\\Daten\\3_auswertung\\Energiebedarf\\Stromverbrauch_total_Winter.pdf saved!\n"
     ]
    },
    {
     "data": {
      "image/png": "[encoded data removed]",
      "text/plain": [
       "<Figure size 453.543x340.157 with 1 Axes>"
      ]
     },
     "metadata": {
      "needs_background": "light"
     },
     "output_type": "display_data"
    }
   ],
   "source": [
    "Normalize = True\n",
    "\n",
    "Stromverbrauch = pd.read_csv('.\\src\\Stromzähler.csv', header=[0,1], index_col=[0], sep=';')\n",
    "Stromverbrauch.index = pd.to_datetime(Stromverbrauch.index,format='%d.%m.%Y')\n",
    "if Normalize:\n",
    "    start = dt.datetime(2021,9,2)\n",
    "    sollT = dt.date.today()-start.date()\n",
    "    dfs=[]\n",
    "    idx=[]\n",
    "    for name, group in Stromverbrauch.groupby(level=[0,1],axis=1):\n",
    "        group = group.dropna()\n",
    "        deltaT = group.index.max()-group.index.min()\n",
    "        df = (group.max() / deltaT.days) * sollT.days\n",
    "        cols = df.index\n",
    "        idx.extend(cols)\n",
    "        dfs.append(df.values)\n",
    "    idx = pd.MultiIndex.from_tuples(idx)\n",
    "    date = group.index\n",
    "    df = pd.DataFrame(dfs, index=idx, columns=[group.index.max()]).T\n",
    "else:\n",
    "    df = pd.DataFrame(Stromverbrauch.loc[Stromverbrauch.index.max(),:]).T\n",
    "    date = Stromverbrauch.index\n",
    "\n",
    "df = df.stack().T.droplevel(0,axis=1)\n",
    "\n",
    "fig,ax = plt.subplots(figsize=INDOC)\n",
    "df.plot.bar(ax=ax,cmap = 'Accent')\n",
    "\n",
    "if Normalize:\n",
    "    title = 'Totaler Stromverbrauch (Winter)'\n",
    "    fname = 'Winter'\n",
    "    ax.set_title(f'{title}\\nZeitraum: {start.strftime(\"%d.%m.%Y\")} bis {date.max().strftime(\"%d.%m.%Y\")}', fontweight = 'bold')\n",
    "else:\n",
    "    title = 'Totaler Stromverbrauch (absolut)'\n",
    "    fname = 'absolut'\n",
    "    ax.set_title(f'{title}\\nletztes Ablesedatum: {date.max().strftime(\"%d.%m.%Y\")}', fontweight = 'bold')\n",
    "ax.set_ylabel('[kWh / m²]')\n",
    "ax.set_xticklabels(['Leichtbeton', 'Holzmassiv', 'Ziegelmauerwerk'], rotation=0)\n",
    "ax.grid(False)\n",
    "ax.legend(labels=['Nord','Ost','Süd'],loc='center right',ncol=99,bbox_to_anchor=(1,1.03),frameon=False)\n",
    "xticks=[]\n",
    "for bar in ax.patches:\n",
    "    xticks.append(bar.get_x())\n",
    "\n",
    "    ax.text(\n",
    "        bar.get_x() + bar.get_width() / 2,\n",
    "        bar.get_height()*0.5 + bar.get_y(),\n",
    "        f\"{round(bar.get_height(),0):.0f}\",\n",
    "        ha='center',\n",
    "        color='w',\n",
    "        weight='bold',\n",
    "        )\n",
    "\n",
    "fig.tight_layout()\n",
    "if ex:\n",
    "    export(fig,exdir,f'Stromverbrauch_total_{fname}',extlist=['pdf'], show=True)"
   ]
  },
  {
   "cell_type": "code",
   "execution_count": null,
   "metadata": {},
   "outputs": [
    {
     "data": {
      "text/html": [
       "<div>\n",
       "<style scoped>\n",
       "    .dataframe tbody tr th:only-of-type {\n",
       "        vertical-align: middle;\n",
       "    }\n",
       "\n",
       "    .dataframe tbody tr th {\n",
       "        vertical-align: top;\n",
       "    }\n",
       "\n",
       "    .dataframe thead tr th {\n",
       "        text-align: left;\n",
       "    }\n",
       "</style>\n",
       "<table border=\"1\" class=\"dataframe\">\n",
       "  <thead>\n",
       "    <tr>\n",
       "      <th></th>\n",
       "      <th>MH</th>\n",
       "      <th>MW</th>\n",
       "      <th>LB</th>\n",
       "      <th>MH</th>\n",
       "      <th>MW</th>\n",
       "      <th>LB</th>\n",
       "      <th>MH</th>\n",
       "      <th>MW</th>\n",
       "      <th>LB</th>\n",
       "    </tr>\n",
       "    <tr>\n",
       "      <th>Datetime</th>\n",
       "      <th>N</th>\n",
       "      <th>N</th>\n",
       "      <th>N</th>\n",
       "      <th>O</th>\n",
       "      <th>O</th>\n",
       "      <th>O</th>\n",
       "      <th>S</th>\n",
       "      <th>S</th>\n",
       "      <th>S</th>\n",
       "    </tr>\n",
       "  </thead>\n",
       "  <tbody>\n",
       "    <tr>\n",
       "      <th>2020-07-01</th>\n",
       "      <td>NaN</td>\n",
       "      <td>NaN</td>\n",
       "      <td>0.0</td>\n",
       "      <td>NaN</td>\n",
       "      <td>NaN</td>\n",
       "      <td>0.0</td>\n",
       "      <td>NaN</td>\n",
       "      <td>NaN</td>\n",
       "      <td>0.0</td>\n",
       "    </tr>\n",
       "    <tr>\n",
       "      <th>2020-10-01</th>\n",
       "      <td>NaN</td>\n",
       "      <td>NaN</td>\n",
       "      <td>NaN</td>\n",
       "      <td>0.0</td>\n",
       "      <td>0.0</td>\n",
       "      <td>NaN</td>\n",
       "      <td>NaN</td>\n",
       "      <td>NaN</td>\n",
       "      <td>NaN</td>\n",
       "    </tr>\n",
       "    <tr>\n",
       "      <th>2021-03-01</th>\n",
       "      <td>NaN</td>\n",
       "      <td>NaN</td>\n",
       "      <td>NaN</td>\n",
       "      <td>NaN</td>\n",
       "      <td>NaN</td>\n",
       "      <td>NaN</td>\n",
       "      <td>NaN</td>\n",
       "      <td>0.0</td>\n",
       "      <td>NaN</td>\n",
       "    </tr>\n",
       "    <tr>\n",
       "      <th>2021-04-01</th>\n",
       "      <td>NaN</td>\n",
       "      <td>0.0</td>\n",
       "      <td>NaN</td>\n",
       "      <td>NaN</td>\n",
       "      <td>NaN</td>\n",
       "      <td>NaN</td>\n",
       "      <td>NaN</td>\n",
       "      <td>NaN</td>\n",
       "      <td>NaN</td>\n",
       "    </tr>\n",
       "    <tr>\n",
       "      <th>2021-05-01</th>\n",
       "      <td>0.0</td>\n",
       "      <td>NaN</td>\n",
       "      <td>NaN</td>\n",
       "      <td>NaN</td>\n",
       "      <td>NaN</td>\n",
       "      <td>NaN</td>\n",
       "      <td>NaN</td>\n",
       "      <td>NaN</td>\n",
       "      <td>NaN</td>\n",
       "    </tr>\n",
       "    <tr>\n",
       "      <th>2021-06-01</th>\n",
       "      <td>NaN</td>\n",
       "      <td>NaN</td>\n",
       "      <td>NaN</td>\n",
       "      <td>NaN</td>\n",
       "      <td>NaN</td>\n",
       "      <td>NaN</td>\n",
       "      <td>0.0</td>\n",
       "      <td>NaN</td>\n",
       "      <td>NaN</td>\n",
       "    </tr>\n",
       "    <tr>\n",
       "      <th>2022-02-22</th>\n",
       "      <td>670.0</td>\n",
       "      <td>1567.0</td>\n",
       "      <td>1716.0</td>\n",
       "      <td>1066.0</td>\n",
       "      <td>985.0</td>\n",
       "      <td>1138.0</td>\n",
       "      <td>629.0</td>\n",
       "      <td>935.0</td>\n",
       "      <td>1656.0</td>\n",
       "    </tr>\n",
       "    <tr>\n",
       "      <th>2022-03-31</th>\n",
       "      <td>761.0</td>\n",
       "      <td>1753.0</td>\n",
       "      <td>1844.0</td>\n",
       "      <td>1165.0</td>\n",
       "      <td>1085.0</td>\n",
       "      <td>1244.0</td>\n",
       "      <td>720.0</td>\n",
       "      <td>1051.0</td>\n",
       "      <td>1794.0</td>\n",
       "    </tr>\n",
       "  </tbody>\n",
       "</table>\n",
       "</div>"
      ],
      "text/plain": [
       "               MH      MW      LB      MH      MW      LB     MH      MW  \\\n",
       "Datetime        N       N       N       O       O       O      S       S   \n",
       "2020-07-01    NaN     NaN     0.0     NaN     NaN     0.0    NaN     NaN   \n",
       "2020-10-01    NaN     NaN     NaN     0.0     0.0     NaN    NaN     NaN   \n",
       "2021-03-01    NaN     NaN     NaN     NaN     NaN     NaN    NaN     0.0   \n",
       "2021-04-01    NaN     0.0     NaN     NaN     NaN     NaN    NaN     NaN   \n",
       "2021-05-01    0.0     NaN     NaN     NaN     NaN     NaN    NaN     NaN   \n",
       "2021-06-01    NaN     NaN     NaN     NaN     NaN     NaN    0.0     NaN   \n",
       "2022-02-22  670.0  1567.0  1716.0  1066.0   985.0  1138.0  629.0   935.0   \n",
       "2022-03-31  761.0  1753.0  1844.0  1165.0  1085.0  1244.0  720.0  1051.0   \n",
       "\n",
       "                LB  \n",
       "Datetime         S  \n",
       "2020-07-01     0.0  \n",
       "2020-10-01     NaN  \n",
       "2021-03-01     NaN  \n",
       "2021-04-01     NaN  \n",
       "2021-05-01     NaN  \n",
       "2021-06-01     NaN  \n",
       "2022-02-22  1656.0  \n",
       "2022-03-31  1794.0  "
      ]
     },
     "execution_count": 9,
     "metadata": {},
     "output_type": "execute_result"
    }
   ],
   "source": [
    "Stromverbrauch"
   ]
  },
  {
   "cell_type": "code",
   "execution_count": null,
   "metadata": {},
   "outputs": [],
   "source": [
    "plt.style.use('./src/stylesheets/eb3_präsi.mplstyle')"
   ]
  },
  {
   "cell_type": "code",
   "execution_count": null,
   "metadata": {},
   "outputs": [
    {
     "name": "stderr",
     "output_type": "stream",
     "text": [
      "C:\\Users\\gu98zes\\AppData\\Local\\Temp/ipykernel_11036/3038328937.py:9: FutureWarning: Indexing a timezone-aware DatetimeIndex with a timezone-naive datetime is deprecated and will raise KeyError in a future version.  Use a timezone-aware object instead.\n",
      "  df1 = df1.loc[startdate:enddate]\n"
     ]
    },
    {
     "name": "stdout",
     "output_type": "stream",
     "text": [
      "\\\\nas.ads.mwn.de\\tuar\\l15\\private\\DATA\\FORSCHUNG\\04_Projekte\\2021\\Einfach_Bauen_3\\Daten\\3_auswertung\\Energiebedarf\\Spez.Energieverbrauch_App.png saved!\n"
     ]
    },
    {
     "data": {
      "image/png": "[encoded data removed]",
      "text/plain": [
       "<Figure size 432x288 with 1 Axes>"
      ]
     },
     "metadata": {
      "needs_background": "light"
     },
     "output_type": "display_data"
    }
   ],
   "source": [
    "Normalize = True\n",
    "\n",
    "idx = pd.IndexSlice\n",
    "\n",
    "startdate = dt.datetime(2021,9,2)\n",
    "enddate = dt.datetime(2022,3,31)\n",
    "\n",
    "df1 = EM.loc(axis=1)[idx[:, [\"N\", \"O\", 'S'],'HQ','H']].droplevel([2,3],axis=1)\n",
    "df1 = df1.loc[startdate:enddate]\n",
    "df1 = df1.resample('5000d').last() - df1.resample('5000d').first()\n",
    "df1 = df1.reset_index(drop=True).div(AREA,level=1).round(2)\n",
    "df1 = df1.stack().T.droplevel(0,axis=1)\n",
    "Stromverbrauch = pd.read_csv('.\\src\\Stromzähler.csv', header=[0,1], index_col=[0], sep=';')\n",
    "Stromverbrauch.index = pd.to_datetime(Stromverbrauch.index,format='%d.%m.%Y')\n",
    "if Normalize:\n",
    "    sollT = dt.date.today() - startdate.date()\n",
    "    dfs=[]\n",
    "    idx=[]\n",
    "    for name, group in Stromverbrauch.groupby(level=[0,1],axis=1):\n",
    "        group = group.dropna()\n",
    "        deltaT = group.index.max()-group.index.min()\n",
    "        df = (group.max() / deltaT.days) * sollT.days\n",
    "        cols = df.index\n",
    "        idx.extend(cols)\n",
    "        dfs.append(df.values)\n",
    "    idx = pd.MultiIndex.from_tuples(idx)\n",
    "    df = pd.DataFrame(dfs, index=idx, columns=[group.index.max()]).T\n",
    "else:\n",
    "    df = pd.DataFrame(Stromverbrauch.loc[Stromverbrauch.index.max(),:]).T\n",
    "\n",
    "df = df.reset_index(drop=True).div(AREA,level=1).round(2)\n",
    "\n",
    "\n",
    "df = df.stack().T.droplevel(0,axis=1)\n",
    "df = pd.concat([df1.unstack(), df.unstack()], axis=1, keys=['Wärme','Strom'])\n",
    "\n",
    "fig, ax = plt.subplots()\n",
    "xticks = []\n",
    "xlabels = []\n",
    "xmajor = []\n",
    "for i, app in enumerate(df.index.get_level_values(0).unique()):\n",
    "    xmajor.append(WOHNUNGEN[app])\n",
    "    for j, bui in zip([-0.25,0,0.25], BUID):\n",
    "        w1, = ax.bar(i+j, df.loc[(app, bui)]['Wärme'], width=0.25, color=mpl.cm.Accent(0))\n",
    "        w2, = ax.bar(i+j, df.loc[(app, bui)]['Strom'], width=0.25, bottom=df.loc[(app, bui)]['Wärme'], color=mpl.cm.Accent(100))\n",
    "        xticks.append(i+j)\n",
    "        xlabels.append(bui)\n",
    "\n",
    "for bar in ax.patches:\n",
    "    ax.text(\n",
    "        bar.get_x() + bar.get_width() / 2,\n",
    "        bar.get_height()*0.5 + bar.get_y(),\n",
    "        f\"{round(bar.get_height(),0):.0f}\",\n",
    "        ha='center',\n",
    "        va='center',\n",
    "        color='w',\n",
    "        weight='bold',\n",
    "        )\n",
    "        \n",
    "ax.set_xticks(xticks, minor=True)\n",
    "ax.set_xticklabels(xlabels, minor=True)\n",
    "ax.xaxis.remove_overlapping_locs = False\n",
    "ax.set_xticks([0,1,2], minor=False)\n",
    "ax.set_xticklabels(xmajor, minor=False)\n",
    "ax.tick_params(axis='x', which='major', length=16, width=0)\n",
    "\n",
    "ax.grid(False, which='both')\n",
    "ax.legend(handles=[w1, w2], labels = ['Heizung + TWW', 'Geräte'], loc='center right',ncol=99,bbox_to_anchor=(1,1.03),frameon=False)\n",
    "fig.suptitle(f'Thermischer Energieverbrauch Winter 2021/22')\n",
    "ax.set_title(f'Zeitraum: {startdate.strftime(\"%d.%m.%Y\")} bis {enddate.strftime(\"%d.%m.%Y\")}', fontweight = 'normal', fontsize = \"medium\")\n",
    "ax.set_ylabel('[kWh / m²]', fontsize = \"medium\")\n",
    "fig.tight_layout()\n",
    "\n",
    "if ex:\n",
    "    export(fig,exdir,f'Spez.Energieverbrauch_App',extlist=['png'], show=True)"
   ]
  },
  {
   "cell_type": "code",
   "execution_count": 7,
   "metadata": {},
   "outputs": [
    {
     "ename": "KeyError",
     "evalue": "'Wärme'",
     "output_type": "error",
     "traceback": [
      "\u001b[1;31m---------------------------------------------------------------------------\u001b[0m",
      "\u001b[1;31mKeyError\u001b[0m                                  Traceback (most recent call last)",
      "\u001b[1;32m~\\.conda\\envs\\einfach-bauen\\lib\\site-packages\\pandas\\core\\indexes\\base.py\u001b[0m in \u001b[0;36mget_loc\u001b[1;34m(self, key, method, tolerance)\u001b[0m\n\u001b[0;32m   3360\u001b[0m             \u001b[1;32mtry\u001b[0m\u001b[1;33m:\u001b[0m\u001b[1;33m\u001b[0m\u001b[1;33m\u001b[0m\u001b[0m\n\u001b[1;32m-> 3361\u001b[1;33m                 \u001b[1;32mreturn\u001b[0m \u001b[0mself\u001b[0m\u001b[1;33m.\u001b[0m\u001b[0m_engine\u001b[0m\u001b[1;33m.\u001b[0m\u001b[0mget_loc\u001b[0m\u001b[1;33m(\u001b[0m\u001b[0mcasted_key\u001b[0m\u001b[1;33m)\u001b[0m\u001b[1;33m\u001b[0m\u001b[1;33m\u001b[0m\u001b[0m\n\u001b[0m\u001b[0;32m   3362\u001b[0m             \u001b[1;32mexcept\u001b[0m \u001b[0mKeyError\u001b[0m \u001b[1;32mas\u001b[0m \u001b[0merr\u001b[0m\u001b[1;33m:\u001b[0m\u001b[1;33m\u001b[0m\u001b[1;33m\u001b[0m\u001b[0m\n",
      "\u001b[1;32m~\\.conda\\envs\\einfach-bauen\\lib\\site-packages\\pandas\\_libs\\index.pyx\u001b[0m in \u001b[0;36mpandas._libs.index.IndexEngine.get_loc\u001b[1;34m()\u001b[0m\n",
      "\u001b[1;32m~\\.conda\\envs\\einfach-bauen\\lib\\site-packages\\pandas\\_libs\\index.pyx\u001b[0m in \u001b[0;36mpandas._libs.index.IndexEngine.get_loc\u001b[1;34m()\u001b[0m\n",
      "\u001b[1;32mpandas\\_libs\\hashtable_class_helper.pxi\u001b[0m in \u001b[0;36mpandas._libs.hashtable.PyObjectHashTable.get_item\u001b[1;34m()\u001b[0m\n",
      "\u001b[1;32mpandas\\_libs\\hashtable_class_helper.pxi\u001b[0m in \u001b[0;36mpandas._libs.hashtable.PyObjectHashTable.get_item\u001b[1;34m()\u001b[0m\n",
      "\u001b[1;31mKeyError\u001b[0m: 'Wärme'",
      "\nThe above exception was the direct cause of the following exception:\n",
      "\u001b[1;31mKeyError\u001b[0m                                  Traceback (most recent call last)",
      "\u001b[1;32m~\\AppData\\Local\\Temp/ipykernel_8524/4005313402.py\u001b[0m in \u001b[0;36m<module>\u001b[1;34m\u001b[0m\n\u001b[0;32m      6\u001b[0m \u001b[1;33m\u001b[0m\u001b[0m\n\u001b[0;32m      7\u001b[0m     \u001b[1;32mfor\u001b[0m \u001b[0mj\u001b[0m\u001b[1;33m,\u001b[0m \u001b[0mbui\u001b[0m \u001b[1;32min\u001b[0m \u001b[0menumerate\u001b[0m\u001b[1;33m(\u001b[0m\u001b[0mBUID\u001b[0m\u001b[1;33m)\u001b[0m\u001b[1;33m:\u001b[0m\u001b[1;33m\u001b[0m\u001b[1;33m\u001b[0m\u001b[0m\n\u001b[1;32m----> 8\u001b[1;33m         \u001b[0mw1\u001b[0m\u001b[1;33m,\u001b[0m \u001b[1;33m=\u001b[0m \u001b[0max\u001b[0m\u001b[1;33m.\u001b[0m\u001b[0mbar\u001b[0m\u001b[1;33m(\u001b[0m\u001b[0mi\u001b[0m\u001b[1;33m+\u001b[0m\u001b[0mj\u001b[0m\u001b[1;33m,\u001b[0m \u001b[0mdf\u001b[0m\u001b[1;33m.\u001b[0m\u001b[0mloc\u001b[0m\u001b[1;33m[\u001b[0m\u001b[1;33m(\u001b[0m\u001b[0mapp\u001b[0m\u001b[1;33m,\u001b[0m \u001b[0mbui\u001b[0m\u001b[1;33m)\u001b[0m\u001b[1;33m]\u001b[0m\u001b[1;33m[\u001b[0m\u001b[1;34m'Wärme'\u001b[0m\u001b[1;33m]\u001b[0m\u001b[1;33m,\u001b[0m \u001b[0mwidth\u001b[0m\u001b[1;33m=\u001b[0m\u001b[1;36m0.25\u001b[0m\u001b[1;33m,\u001b[0m \u001b[0mcolor\u001b[0m\u001b[1;33m=\u001b[0m\u001b[0mmpl\u001b[0m\u001b[1;33m.\u001b[0m\u001b[0mcm\u001b[0m\u001b[1;33m.\u001b[0m\u001b[0mAccent\u001b[0m\u001b[1;33m(\u001b[0m\u001b[1;36m0\u001b[0m\u001b[1;33m)\u001b[0m\u001b[1;33m)\u001b[0m\u001b[1;33m\u001b[0m\u001b[1;33m\u001b[0m\u001b[0m\n\u001b[0m\u001b[0;32m      9\u001b[0m         \u001b[0mw2\u001b[0m\u001b[1;33m,\u001b[0m \u001b[1;33m=\u001b[0m \u001b[0max\u001b[0m\u001b[1;33m.\u001b[0m\u001b[0mbar\u001b[0m\u001b[1;33m(\u001b[0m\u001b[0mi\u001b[0m\u001b[1;33m+\u001b[0m\u001b[0mj\u001b[0m\u001b[1;33m,\u001b[0m \u001b[0mdf\u001b[0m\u001b[1;33m.\u001b[0m\u001b[0mloc\u001b[0m\u001b[1;33m[\u001b[0m\u001b[1;33m(\u001b[0m\u001b[0mapp\u001b[0m\u001b[1;33m,\u001b[0m \u001b[0mbui\u001b[0m\u001b[1;33m)\u001b[0m\u001b[1;33m]\u001b[0m\u001b[1;33m[\u001b[0m\u001b[1;34m'Strom'\u001b[0m\u001b[1;33m]\u001b[0m\u001b[1;33m,\u001b[0m \u001b[0mwidth\u001b[0m\u001b[1;33m=\u001b[0m\u001b[1;36m0.25\u001b[0m\u001b[1;33m,\u001b[0m \u001b[0mbottom\u001b[0m\u001b[1;33m=\u001b[0m\u001b[0mdf\u001b[0m\u001b[1;33m.\u001b[0m\u001b[0mloc\u001b[0m\u001b[1;33m[\u001b[0m\u001b[1;33m(\u001b[0m\u001b[0mapp\u001b[0m\u001b[1;33m,\u001b[0m \u001b[0mbui\u001b[0m\u001b[1;33m)\u001b[0m\u001b[1;33m]\u001b[0m\u001b[1;33m[\u001b[0m\u001b[1;34m'Wärme'\u001b[0m\u001b[1;33m]\u001b[0m\u001b[1;33m,\u001b[0m \u001b[0mcolor\u001b[0m\u001b[1;33m=\u001b[0m\u001b[0mmpl\u001b[0m\u001b[1;33m.\u001b[0m\u001b[0mcm\u001b[0m\u001b[1;33m.\u001b[0m\u001b[0mAccent\u001b[0m\u001b[1;33m(\u001b[0m\u001b[1;36m100\u001b[0m\u001b[1;33m)\u001b[0m\u001b[1;33m)\u001b[0m\u001b[1;33m\u001b[0m\u001b[1;33m\u001b[0m\u001b[0m\n\u001b[0;32m     10\u001b[0m         \u001b[0mxticks\u001b[0m\u001b[1;33m.\u001b[0m\u001b[0mappend\u001b[0m\u001b[1;33m(\u001b[0m\u001b[0mi\u001b[0m\u001b[1;33m+\u001b[0m\u001b[0mj\u001b[0m\u001b[1;33m)\u001b[0m\u001b[1;33m\u001b[0m\u001b[1;33m\u001b[0m\u001b[0m\n",
      "\u001b[1;32m~\\.conda\\envs\\einfach-bauen\\lib\\site-packages\\pandas\\core\\series.py\u001b[0m in \u001b[0;36m__getitem__\u001b[1;34m(self, key)\u001b[0m\n\u001b[0;32m    940\u001b[0m \u001b[1;33m\u001b[0m\u001b[0m\n\u001b[0;32m    941\u001b[0m         \u001b[1;32melif\u001b[0m \u001b[0mkey_is_scalar\u001b[0m\u001b[1;33m:\u001b[0m\u001b[1;33m\u001b[0m\u001b[1;33m\u001b[0m\u001b[0m\n\u001b[1;32m--> 942\u001b[1;33m             \u001b[1;32mreturn\u001b[0m \u001b[0mself\u001b[0m\u001b[1;33m.\u001b[0m\u001b[0m_get_value\u001b[0m\u001b[1;33m(\u001b[0m\u001b[0mkey\u001b[0m\u001b[1;33m)\u001b[0m\u001b[1;33m\u001b[0m\u001b[1;33m\u001b[0m\u001b[0m\n\u001b[0m\u001b[0;32m    943\u001b[0m \u001b[1;33m\u001b[0m\u001b[0m\n\u001b[0;32m    944\u001b[0m         \u001b[1;32mif\u001b[0m \u001b[0mis_hashable\u001b[0m\u001b[1;33m(\u001b[0m\u001b[0mkey\u001b[0m\u001b[1;33m)\u001b[0m\u001b[1;33m:\u001b[0m\u001b[1;33m\u001b[0m\u001b[1;33m\u001b[0m\u001b[0m\n",
      "\u001b[1;32m~\\.conda\\envs\\einfach-bauen\\lib\\site-packages\\pandas\\core\\series.py\u001b[0m in \u001b[0;36m_get_value\u001b[1;34m(self, label, takeable)\u001b[0m\n\u001b[0;32m   1049\u001b[0m \u001b[1;33m\u001b[0m\u001b[0m\n\u001b[0;32m   1050\u001b[0m         \u001b[1;31m# Similar to Index.get_value, but we do not fall back to positional\u001b[0m\u001b[1;33m\u001b[0m\u001b[1;33m\u001b[0m\u001b[0m\n\u001b[1;32m-> 1051\u001b[1;33m         \u001b[0mloc\u001b[0m \u001b[1;33m=\u001b[0m \u001b[0mself\u001b[0m\u001b[1;33m.\u001b[0m\u001b[0mindex\u001b[0m\u001b[1;33m.\u001b[0m\u001b[0mget_loc\u001b[0m\u001b[1;33m(\u001b[0m\u001b[0mlabel\u001b[0m\u001b[1;33m)\u001b[0m\u001b[1;33m\u001b[0m\u001b[1;33m\u001b[0m\u001b[0m\n\u001b[0m\u001b[0;32m   1052\u001b[0m         \u001b[1;32mreturn\u001b[0m \u001b[0mself\u001b[0m\u001b[1;33m.\u001b[0m\u001b[0mindex\u001b[0m\u001b[1;33m.\u001b[0m\u001b[0m_get_values_for_loc\u001b[0m\u001b[1;33m(\u001b[0m\u001b[0mself\u001b[0m\u001b[1;33m,\u001b[0m \u001b[0mloc\u001b[0m\u001b[1;33m,\u001b[0m \u001b[0mlabel\u001b[0m\u001b[1;33m)\u001b[0m\u001b[1;33m\u001b[0m\u001b[1;33m\u001b[0m\u001b[0m\n\u001b[0;32m   1053\u001b[0m \u001b[1;33m\u001b[0m\u001b[0m\n",
      "\u001b[1;32m~\\.conda\\envs\\einfach-bauen\\lib\\site-packages\\pandas\\core\\indexes\\base.py\u001b[0m in \u001b[0;36mget_loc\u001b[1;34m(self, key, method, tolerance)\u001b[0m\n\u001b[0;32m   3361\u001b[0m                 \u001b[1;32mreturn\u001b[0m \u001b[0mself\u001b[0m\u001b[1;33m.\u001b[0m\u001b[0m_engine\u001b[0m\u001b[1;33m.\u001b[0m\u001b[0mget_loc\u001b[0m\u001b[1;33m(\u001b[0m\u001b[0mcasted_key\u001b[0m\u001b[1;33m)\u001b[0m\u001b[1;33m\u001b[0m\u001b[1;33m\u001b[0m\u001b[0m\n\u001b[0;32m   3362\u001b[0m             \u001b[1;32mexcept\u001b[0m \u001b[0mKeyError\u001b[0m \u001b[1;32mas\u001b[0m \u001b[0merr\u001b[0m\u001b[1;33m:\u001b[0m\u001b[1;33m\u001b[0m\u001b[1;33m\u001b[0m\u001b[0m\n\u001b[1;32m-> 3363\u001b[1;33m                 \u001b[1;32mraise\u001b[0m \u001b[0mKeyError\u001b[0m\u001b[1;33m(\u001b[0m\u001b[0mkey\u001b[0m\u001b[1;33m)\u001b[0m \u001b[1;32mfrom\u001b[0m \u001b[0merr\u001b[0m\u001b[1;33m\u001b[0m\u001b[1;33m\u001b[0m\u001b[0m\n\u001b[0m\u001b[0;32m   3364\u001b[0m \u001b[1;33m\u001b[0m\u001b[0m\n\u001b[0;32m   3365\u001b[0m         \u001b[1;32mif\u001b[0m \u001b[0mis_scalar\u001b[0m\u001b[1;33m(\u001b[0m\u001b[0mkey\u001b[0m\u001b[1;33m)\u001b[0m \u001b[1;32mand\u001b[0m \u001b[0misna\u001b[0m\u001b[1;33m(\u001b[0m\u001b[0mkey\u001b[0m\u001b[1;33m)\u001b[0m \u001b[1;32mand\u001b[0m \u001b[1;32mnot\u001b[0m \u001b[0mself\u001b[0m\u001b[1;33m.\u001b[0m\u001b[0mhasnans\u001b[0m\u001b[1;33m:\u001b[0m\u001b[1;33m\u001b[0m\u001b[1;33m\u001b[0m\u001b[0m\n",
      "\u001b[1;31mKeyError\u001b[0m: 'Wärme'"
     ]
    },
    {
     "data": {
      "image/png": "[encoded data removed]",
      "text/plain": [
       "<Figure size 432x288 with 1 Axes>"
      ]
     },
     "metadata": {
      "needs_background": "light"
     },
     "output_type": "display_data"
    }
   ],
   "source": [
    "fig, ax = plt.subplots()\n",
    "xticks = []\n",
    "xlabels = []\n",
    "xmajor = []\n",
    "for i, app in zip([-0.25,0,0.25], df.index.get_level_values(0).unique()):\n",
    "    \n",
    "    for j, bui in enumerate(BUID):\n",
    "        w1, = ax.bar(i+j, df.loc[(app, bui)]['Wärme'], width=0.25, color=mpl.cm.Accent(0))\n",
    "        w2, = ax.bar(i+j, df.loc[(app, bui)]['Strom'], width=0.25, bottom=df.loc[(app, bui)]['Wärme'], color=mpl.cm.Accent(100))\n",
    "        xticks.append(i+j)\n",
    "        xlabels.append(app)\n",
    "        xmajor.append(BUID[bui])\n",
    "\n",
    "for bar in ax.patches:\n",
    "    ax.text(\n",
    "        bar.get_x() + bar.get_width() / 2,\n",
    "        bar.get_height()*0.5 + bar.get_y(),\n",
    "        f\"{round(bar.get_height(),0):.0f}\",\n",
    "        ha='center',\n",
    "        va='center',\n",
    "        color='w',\n",
    "        weight='bold',\n",
    "        )\n",
    "\n",
    "ax.set_xticks(xticks, minor=True)\n",
    "ax.set_xticklabels(xlabels, minor=True)\n",
    "ax.xaxis.remove_overlapping_locs = False\n",
    "\n",
    "ax.set_xticks([0,1,2], minor=False)\n",
    "ax.set_xticklabels(list(set(xmajor)), minor=False)\n",
    "ax.tick_params(axis='x', which='major', length=16, width=0)\n",
    "\n",
    "ax.grid(False, which='both')\n",
    "ax.legend(handles=[w1, w2], labels = ['Heizung + TWW', 'Geräte'], loc='center right',ncol=99,bbox_to_anchor=(1,1.03),frameon=False)\n",
    "fig.suptitle(f'Thermischer Energieverbrauch Winter 2021/22')\n",
    "ax.set_title(f'Zeitraum: {startdate.strftime(\"%d.%m.%Y\")} bis {enddate.strftime(\"%d.%m.%Y\")}', fontweight = 'normal')\n",
    "ax.set_ylabel('[kWh / m²]')\n",
    "fig.tight_layout()\n",
    "\n",
    "if ex:\n",
    "    export(fig,exdir,f'Spez.Energieverbrauch_Bui',extlist=['png'], show=True)"
   ]
  }
 ],
 "metadata": {
  "interpreter": {
   "hash": "5a5fe53256759dcdd48ffbd2c915e7ab490daaf277174ef64b4f449a91655156"
  },
  "kernelspec": {
   "display_name": "Python 3.8.8 64-bit ('base': conda)",
   "language": "python",
   "name": "python3"
  },
  "language_info": {
   "codemirror_mode": {
    "name": "ipython",
    "version": 3
   },
   "file_extension": ".py",
   "mimetype": "text/x-python",
   "name": "python",
   "nbconvert_exporter": "python",
   "pygments_lexer": "ipython3",
   "version": "3.10.0"
  },
  "orig_nbformat": 4
 },
 "nbformat": 4,
 "nbformat_minor": 2
}
