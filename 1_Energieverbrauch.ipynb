{
 "cells": [
  {
   "cell_type": "markdown",
   "metadata": {},
   "source": [
    "# **Auswertung der Energieverbrauchsmessung**\n",
    "___"
   ]
  },
  {
   "cell_type": "code",
   "execution_count": 1,
   "metadata": {},
   "outputs": [
    {
     "name": "stderr",
     "output_type": "stream",
     "text": [
      "12.05.2022 16:02:39 -- INFO -- ------ Starte TinkerForge Update------\n",
      "12.05.2022 16:02:39 -- INFO -- MH: Suche vorhandene Datenbank.\n",
      "12.05.2022 16:02:54 -- INFO -- MH: Datenbank geöffnet, letzter Eintrag vom 2022-04-05!\n",
      "12.05.2022 16:02:54 -- INFO -- MH: Durchsuche Dropbox nach neuen Datensätzen.\n"
     ]
    },
    {
     "name": "stdout",
     "output_type": "stream",
     "text": [
      "loading <||||||||||||||||||----------------------------------------------------------------------------------> 18 %       \r"
     ]
    },
    {
     "name": "stderr",
     "output_type": "stream",
     "text": [
      "12.05.2022 16:03:09 -- INFO -- MH: Neue Messdaten vom 2022-04-06 gefunden!\n"
     ]
    },
    {
     "name": "stdout",
     "output_type": "stream",
     "text": [
      "loading <||||||||||||||||||||--------------------------------------------------------------------------------> 20 %       \r"
     ]
    },
    {
     "name": "stderr",
     "output_type": "stream",
     "text": [
      "12.05.2022 16:03:10 -- INFO -- MH: Neue Messdaten vom 2022-04-07 gefunden!\n"
     ]
    },
    {
     "name": "stdout",
     "output_type": "stream",
     "text": [
      "loading <|||||||||||||||||||||||-----------------------------------------------------------------------------> 23 %       \r"
     ]
    },
    {
     "name": "stderr",
     "output_type": "stream",
     "text": [
      "12.05.2022 16:03:11 -- INFO -- MH: Neue Messdaten vom 2022-04-08 gefunden!\n"
     ]
    },
    {
     "name": "stdout",
     "output_type": "stream",
     "text": [
      "loading <|||||||||||||||||||||||||---------------------------------------------------------------------------> 25 %       \r"
     ]
    },
    {
     "name": "stderr",
     "output_type": "stream",
     "text": [
      "12.05.2022 16:03:12 -- INFO -- MH: Neue Messdaten vom 2022-04-09 gefunden!\n"
     ]
    },
    {
     "name": "stdout",
     "output_type": "stream",
     "text": [
      "loading <|||||||||||||||||||||||||||-------------------------------------------------------------------------> 27 %       \r"
     ]
    },
    {
     "name": "stderr",
     "output_type": "stream",
     "text": [
      "12.05.2022 16:03:14 -- INFO -- MH: Neue Messdaten vom 2022-04-10 gefunden!\n"
     ]
    },
    {
     "name": "stdout",
     "output_type": "stream",
     "text": [
      "loading <||||||||||||||||||||||||||||||----------------------------------------------------------------------> 30 %       \r"
     ]
    },
    {
     "name": "stderr",
     "output_type": "stream",
     "text": [
      "12.05.2022 16:03:15 -- INFO -- MH: Neue Messdaten vom 2022-04-11 gefunden!\n"
     ]
    },
    {
     "name": "stdout",
     "output_type": "stream",
     "text": [
      "loading <||||||||||||||||||||||||||||||||--------------------------------------------------------------------> 32 %       \r"
     ]
    },
    {
     "name": "stderr",
     "output_type": "stream",
     "text": [
      "12.05.2022 16:03:16 -- INFO -- MH: Neue Messdaten vom 2022-04-12 gefunden!\n"
     ]
    },
    {
     "name": "stdout",
     "output_type": "stream",
     "text": [
      "loading <||||||||||||||||||||||||||||||||||------------------------------------------------------------------> 34 %       \r"
     ]
    },
    {
     "name": "stderr",
     "output_type": "stream",
     "text": [
      "12.05.2022 16:03:17 -- INFO -- MH: Neue Messdaten vom 2022-04-13 gefunden!\n"
     ]
    },
    {
     "name": "stdout",
     "output_type": "stream",
     "text": [
      "loading <|||||||||||||||||||||||||||||||||||||---------------------------------------------------------------> 37 %       \r"
     ]
    },
    {
     "name": "stderr",
     "output_type": "stream",
     "text": [
      "12.05.2022 16:03:18 -- INFO -- MH: Neue Messdaten vom 2022-04-14 gefunden!\n"
     ]
    },
    {
     "name": "stdout",
     "output_type": "stream",
     "text": [
      "loading <|||||||||||||||||||||||||||||||||||||||-------------------------------------------------------------> 39 %       \r"
     ]
    },
    {
     "name": "stderr",
     "output_type": "stream",
     "text": [
      "12.05.2022 16:03:19 -- INFO -- MH: Neue Messdaten vom 2022-04-15 gefunden!\n"
     ]
    },
    {
     "name": "stdout",
     "output_type": "stream",
     "text": [
      "loading <|||||||||||||||||||||||||||||||||||||||||-----------------------------------------------------------> 41 %       \r"
     ]
    },
    {
     "name": "stderr",
     "output_type": "stream",
     "text": [
      "12.05.2022 16:03:21 -- INFO -- MH: Neue Messdaten vom 2022-04-16 gefunden!\n"
     ]
    },
    {
     "name": "stdout",
     "output_type": "stream",
     "text": [
      "loading <||||||||||||||||||||||||||||||||||||||||||||--------------------------------------------------------> 44 %       \r"
     ]
    },
    {
     "name": "stderr",
     "output_type": "stream",
     "text": [
      "12.05.2022 16:03:22 -- INFO -- MH: Neue Messdaten vom 2022-04-17 gefunden!\n"
     ]
    },
    {
     "name": "stdout",
     "output_type": "stream",
     "text": [
      "loading <||||||||||||||||||||||||||||||||||||||||||||||------------------------------------------------------> 46 %       \r"
     ]
    },
    {
     "name": "stderr",
     "output_type": "stream",
     "text": [
      "12.05.2022 16:03:23 -- INFO -- MH: Neue Messdaten vom 2022-04-18 gefunden!\n"
     ]
    },
    {
     "name": "stdout",
     "output_type": "stream",
     "text": [
      "loading <||||||||||||||||||||||||||||||||||||||||||||||||----------------------------------------------------> 48 %       \r"
     ]
    },
    {
     "name": "stderr",
     "output_type": "stream",
     "text": [
      "12.05.2022 16:03:24 -- INFO -- MH: Neue Messdaten vom 2022-04-19 gefunden!\n"
     ]
    },
    {
     "name": "stdout",
     "output_type": "stream",
     "text": [
      "loading <|||||||||||||||||||||||||||||||||||||||||||||||||||-------------------------------------------------> 51 %       \r"
     ]
    },
    {
     "name": "stderr",
     "output_type": "stream",
     "text": [
      "12.05.2022 16:03:25 -- INFO -- MH: Neue Messdaten vom 2022-04-20 gefunden!\n"
     ]
    },
    {
     "name": "stdout",
     "output_type": "stream",
     "text": [
      "loading <|||||||||||||||||||||||||||||||||||||||||||||||||||||-----------------------------------------------> 53 %       \r"
     ]
    },
    {
     "name": "stderr",
     "output_type": "stream",
     "text": [
      "12.05.2022 16:03:26 -- INFO -- MH: Neue Messdaten vom 2022-04-21 gefunden!\n"
     ]
    },
    {
     "name": "stdout",
     "output_type": "stream",
     "text": [
      "loading <|||||||||||||||||||||||||||||||||||||||||||||||||||||||---------------------------------------------> 55 %       \r"
     ]
    },
    {
     "name": "stderr",
     "output_type": "stream",
     "text": [
      "12.05.2022 16:03:27 -- INFO -- MH: Neue Messdaten vom 2022-04-22 gefunden!\n"
     ]
    },
    {
     "name": "stdout",
     "output_type": "stream",
     "text": [
      "loading <||||||||||||||||||||||||||||||||||||||||||||||||||||||||||------------------------------------------> 58 %       \r"
     ]
    },
    {
     "name": "stderr",
     "output_type": "stream",
     "text": [
      "12.05.2022 16:03:29 -- INFO -- MH: Neue Messdaten vom 2022-04-23 gefunden!\n"
     ]
    },
    {
     "name": "stdout",
     "output_type": "stream",
     "text": [
      "loading <||||||||||||||||||||||||||||||||||||||||||||||||||||||||||||----------------------------------------> 60 %       \r"
     ]
    },
    {
     "name": "stderr",
     "output_type": "stream",
     "text": [
      "12.05.2022 16:03:30 -- INFO -- MH: Neue Messdaten vom 2022-04-24 gefunden!\n"
     ]
    },
    {
     "name": "stdout",
     "output_type": "stream",
     "text": [
      "loading <||||||||||||||||||||||||||||||||||||||||||||||||||||||||||||||--------------------------------------> 62 %       \r"
     ]
    },
    {
     "name": "stderr",
     "output_type": "stream",
     "text": [
      "12.05.2022 16:03:31 -- INFO -- MH: Neue Messdaten vom 2022-04-25 gefunden!\n"
     ]
    },
    {
     "name": "stdout",
     "output_type": "stream",
     "text": [
      "loading <|||||||||||||||||||||||||||||||||||||||||||||||||||||||||||||||||-----------------------------------> 65 %       \r"
     ]
    },
    {
     "name": "stderr",
     "output_type": "stream",
     "text": [
      "12.05.2022 16:03:32 -- INFO -- MH: Neue Messdaten vom 2022-04-26 gefunden!\n"
     ]
    },
    {
     "name": "stdout",
     "output_type": "stream",
     "text": [
      "loading <|||||||||||||||||||||||||||||||||||||||||||||||||||||||||||||||||||---------------------------------> 67 %       \r"
     ]
    },
    {
     "name": "stderr",
     "output_type": "stream",
     "text": [
      "12.05.2022 16:03:34 -- INFO -- MH: Neue Messdaten vom 2022-04-27 gefunden!\n"
     ]
    },
    {
     "name": "stdout",
     "output_type": "stream",
     "text": [
      "loading <|||||||||||||||||||||||||||||||||||||||||||||||||||||||||||||||||||||-------------------------------> 69 %       \r"
     ]
    },
    {
     "name": "stderr",
     "output_type": "stream",
     "text": [
      "12.05.2022 16:03:35 -- INFO -- MH: Neue Messdaten vom 2022-04-28 gefunden!\n"
     ]
    },
    {
     "name": "stdout",
     "output_type": "stream",
     "text": [
      "loading <||||||||||||||||||||||||||||||||||||||||||||||||||||||||||||||||||||||||----------------------------> 72 %       \r"
     ]
    },
    {
     "name": "stderr",
     "output_type": "stream",
     "text": [
      "12.05.2022 16:03:36 -- INFO -- MH: Neue Messdaten vom 2022-04-29 gefunden!\n"
     ]
    },
    {
     "name": "stdout",
     "output_type": "stream",
     "text": [
      "loading <||||||||||||||||||||||||||||||||||||||||||||||||||||||||||||||||||||||||||--------------------------> 74 %       \r"
     ]
    },
    {
     "name": "stderr",
     "output_type": "stream",
     "text": [
      "12.05.2022 16:03:37 -- INFO -- MH: Neue Messdaten vom 2022-04-30 gefunden!\n"
     ]
    },
    {
     "name": "stdout",
     "output_type": "stream",
     "text": [
      "loading <||||||||||||||||||||||||||||||||||||||||||||||||||||||||||||||||||||||||||||------------------------> 76 %       \r"
     ]
    },
    {
     "name": "stderr",
     "output_type": "stream",
     "text": [
      "12.05.2022 16:03:39 -- INFO -- MH: Neue Messdaten vom 2022-05-01 gefunden!\n"
     ]
    },
    {
     "name": "stdout",
     "output_type": "stream",
     "text": [
      "loading <|||||||||||||||||||||||||||||||||||||||||||||||||||||||||||||||||||||||||||||||---------------------> 79 %       \r"
     ]
    },
    {
     "name": "stderr",
     "output_type": "stream",
     "text": [
      "12.05.2022 16:03:40 -- INFO -- MH: Neue Messdaten vom 2022-05-02 gefunden!\n"
     ]
    },
    {
     "name": "stdout",
     "output_type": "stream",
     "text": [
      "loading <|||||||||||||||||||||||||||||||||||||||||||||||||||||||||||||||||||||||||||||||||-------------------> 81 %       \r"
     ]
    },
    {
     "name": "stderr",
     "output_type": "stream",
     "text": [
      "12.05.2022 16:03:41 -- INFO -- MH: Neue Messdaten vom 2022-05-03 gefunden!\n"
     ]
    },
    {
     "name": "stdout",
     "output_type": "stream",
     "text": [
      "loading <|||||||||||||||||||||||||||||||||||||||||||||||||||||||||||||||||||||||||||||||||||-----------------> 83 %       \r"
     ]
    },
    {
     "name": "stderr",
     "output_type": "stream",
     "text": [
      "12.05.2022 16:03:42 -- INFO -- MH: Neue Messdaten vom 2022-05-04 gefunden!\n"
     ]
    },
    {
     "name": "stdout",
     "output_type": "stream",
     "text": [
      "loading <||||||||||||||||||||||||||||||||||||||||||||||||||||||||||||||||||||||||||||||||||||||--------------> 86 %       \r"
     ]
    },
    {
     "name": "stderr",
     "output_type": "stream",
     "text": [
      "12.05.2022 16:03:43 -- INFO -- MH: Neue Messdaten vom 2022-05-05 gefunden!\n"
     ]
    },
    {
     "name": "stdout",
     "output_type": "stream",
     "text": [
      "loading <||||||||||||||||||||||||||||||||||||||||||||||||||||||||||||||||||||||||||||||||||||||||------------> 88 %       \r"
     ]
    },
    {
     "name": "stderr",
     "output_type": "stream",
     "text": [
      "12.05.2022 16:03:44 -- INFO -- MH: Neue Messdaten vom 2022-05-06 gefunden!\n"
     ]
    },
    {
     "name": "stdout",
     "output_type": "stream",
     "text": [
      "loading <||||||||||||||||||||||||||||||||||||||||||||||||||||||||||||||||||||||||||||||||||||||||||----------> 90 %       \r"
     ]
    },
    {
     "name": "stderr",
     "output_type": "stream",
     "text": [
      "12.05.2022 16:03:46 -- INFO -- MH: Neue Messdaten vom 2022-05-07 gefunden!\n"
     ]
    },
    {
     "name": "stdout",
     "output_type": "stream",
     "text": [
      "loading <|||||||||||||||||||||||||||||||||||||||||||||||||||||||||||||||||||||||||||||||||||||||||||||-------> 93 %       \r"
     ]
    },
    {
     "name": "stderr",
     "output_type": "stream",
     "text": [
      "12.05.2022 16:03:47 -- INFO -- MH: Neue Messdaten vom 2022-05-08 gefunden!\n"
     ]
    },
    {
     "name": "stdout",
     "output_type": "stream",
     "text": [
      "loading <|||||||||||||||||||||||||||||||||||||||||||||||||||||||||||||||||||||||||||||||||||||||||||||||-----> 95 %       \r"
     ]
    },
    {
     "name": "stderr",
     "output_type": "stream",
     "text": [
      "12.05.2022 16:03:48 -- INFO -- MH: Neue Messdaten vom 2022-05-09 gefunden!\n"
     ]
    },
    {
     "name": "stdout",
     "output_type": "stream",
     "text": [
      "loading <|||||||||||||||||||||||||||||||||||||||||||||||||||||||||||||||||||||||||||||||||||||||||||||||||---> 97 %       \r"
     ]
    },
    {
     "name": "stderr",
     "output_type": "stream",
     "text": [
      "12.05.2022 16:03:49 -- INFO -- MH: Neue Messdaten vom 2022-05-10 gefunden!\n"
     ]
    },
    {
     "name": "stdout",
     "output_type": "stream",
     "text": [
      "finished!                                                                                                                  \r"
     ]
    },
    {
     "name": "stderr",
     "output_type": "stream",
     "text": [
      "12.05.2022 16:03:50 -- INFO -- MH: Neue Messdaten vom 2022-05-11 gefunden!\n",
      "12.05.2022 16:05:33 -- INFO -- MH: Führe Post Processing durch\n",
      "12.05.2022 16:05:48 -- INFO -- MH: Starte Export!\n",
      "12.05.2022 16:07:54 -- INFO -- MH: TinkerForge Datenbank exportiert! | 2021-02-08 | 2022-05-12\n",
      "12.05.2022 16:07:54 -- INFO -- MW: Suche vorhandene Datenbank.\n",
      "12.05.2022 16:08:09 -- INFO -- MW: Datenbank geöffnet, letzter Eintrag vom 2022-04-05!\n",
      "12.05.2022 16:08:09 -- INFO -- MW: Durchsuche Dropbox nach neuen Datensätzen.\n"
     ]
    },
    {
     "name": "stdout",
     "output_type": "stream",
     "text": [
      "loading <||||||||||||||||||----------------------------------------------------------------------------------> 18 %       \r"
     ]
    },
    {
     "name": "stderr",
     "output_type": "stream",
     "text": [
      "12.05.2022 16:08:13 -- INFO -- MW: Neue Messdaten vom 2022-04-06 gefunden!\n"
     ]
    },
    {
     "name": "stdout",
     "output_type": "stream",
     "text": [
      "loading <||||||||||||||||||||--------------------------------------------------------------------------------> 20 %       \r"
     ]
    },
    {
     "name": "stderr",
     "output_type": "stream",
     "text": [
      "12.05.2022 16:08:14 -- INFO -- MW: Neue Messdaten vom 2022-04-07 gefunden!\n"
     ]
    },
    {
     "name": "stdout",
     "output_type": "stream",
     "text": [
      "loading <|||||||||||||||||||||||-----------------------------------------------------------------------------> 23 %       \r"
     ]
    },
    {
     "name": "stderr",
     "output_type": "stream",
     "text": [
      "12.05.2022 16:08:15 -- INFO -- MW: Neue Messdaten vom 2022-04-08 gefunden!\n"
     ]
    },
    {
     "name": "stdout",
     "output_type": "stream",
     "text": [
      "loading <|||||||||||||||||||||||||---------------------------------------------------------------------------> 25 %       \r"
     ]
    },
    {
     "name": "stderr",
     "output_type": "stream",
     "text": [
      "12.05.2022 16:08:16 -- INFO -- MW: Neue Messdaten vom 2022-04-09 gefunden!\n"
     ]
    },
    {
     "name": "stdout",
     "output_type": "stream",
     "text": [
      "loading <|||||||||||||||||||||||||||-------------------------------------------------------------------------> 27 %       \r"
     ]
    },
    {
     "name": "stderr",
     "output_type": "stream",
     "text": [
      "12.05.2022 16:08:18 -- INFO -- MW: Neue Messdaten vom 2022-04-10 gefunden!\n"
     ]
    },
    {
     "name": "stdout",
     "output_type": "stream",
     "text": [
      "loading <||||||||||||||||||||||||||||||----------------------------------------------------------------------> 30 %       \r"
     ]
    },
    {
     "name": "stderr",
     "output_type": "stream",
     "text": [
      "12.05.2022 16:08:19 -- INFO -- MW: Neue Messdaten vom 2022-04-11 gefunden!\n"
     ]
    },
    {
     "name": "stdout",
     "output_type": "stream",
     "text": [
      "loading <||||||||||||||||||||||||||||||||--------------------------------------------------------------------> 32 %       \r"
     ]
    },
    {
     "name": "stderr",
     "output_type": "stream",
     "text": [
      "12.05.2022 16:08:20 -- INFO -- MW: Neue Messdaten vom 2022-04-12 gefunden!\n"
     ]
    },
    {
     "name": "stdout",
     "output_type": "stream",
     "text": [
      "loading <||||||||||||||||||||||||||||||||||------------------------------------------------------------------> 34 %       \r"
     ]
    },
    {
     "name": "stderr",
     "output_type": "stream",
     "text": [
      "12.05.2022 16:08:21 -- INFO -- MW: Neue Messdaten vom 2022-04-13 gefunden!\n"
     ]
    },
    {
     "name": "stdout",
     "output_type": "stream",
     "text": [
      "loading <|||||||||||||||||||||||||||||||||||||---------------------------------------------------------------> 37 %       \r"
     ]
    },
    {
     "name": "stderr",
     "output_type": "stream",
     "text": [
      "12.05.2022 16:08:23 -- INFO -- MW: Neue Messdaten vom 2022-04-14 gefunden!\n"
     ]
    },
    {
     "name": "stdout",
     "output_type": "stream",
     "text": [
      "loading <|||||||||||||||||||||||||||||||||||||||-------------------------------------------------------------> 39 %       \r"
     ]
    },
    {
     "name": "stderr",
     "output_type": "stream",
     "text": [
      "12.05.2022 16:08:24 -- INFO -- MW: Neue Messdaten vom 2022-04-15 gefunden!\n"
     ]
    },
    {
     "name": "stdout",
     "output_type": "stream",
     "text": [
      "loading <|||||||||||||||||||||||||||||||||||||||||-----------------------------------------------------------> 41 %       \r"
     ]
    },
    {
     "name": "stderr",
     "output_type": "stream",
     "text": [
      "12.05.2022 16:08:25 -- INFO -- MW: Neue Messdaten vom 2022-04-16 gefunden!\n"
     ]
    },
    {
     "name": "stdout",
     "output_type": "stream",
     "text": [
      "loading <||||||||||||||||||||||||||||||||||||||||||||--------------------------------------------------------> 44 %       \r"
     ]
    },
    {
     "name": "stderr",
     "output_type": "stream",
     "text": [
      "12.05.2022 16:08:26 -- INFO -- MW: Neue Messdaten vom 2022-04-17 gefunden!\n"
     ]
    },
    {
     "name": "stdout",
     "output_type": "stream",
     "text": [
      "loading <||||||||||||||||||||||||||||||||||||||||||||||------------------------------------------------------> 46 %       \r"
     ]
    },
    {
     "name": "stderr",
     "output_type": "stream",
     "text": [
      "12.05.2022 16:08:27 -- INFO -- MW: Neue Messdaten vom 2022-04-18 gefunden!\n"
     ]
    },
    {
     "name": "stdout",
     "output_type": "stream",
     "text": [
      "loading <||||||||||||||||||||||||||||||||||||||||||||||||----------------------------------------------------> 48 %       \r"
     ]
    },
    {
     "name": "stderr",
     "output_type": "stream",
     "text": [
      "12.05.2022 16:08:28 -- INFO -- MW: Neue Messdaten vom 2022-04-19 gefunden!\n"
     ]
    },
    {
     "name": "stdout",
     "output_type": "stream",
     "text": [
      "loading <|||||||||||||||||||||||||||||||||||||||||||||||||||-------------------------------------------------> 51 %       \r"
     ]
    },
    {
     "name": "stderr",
     "output_type": "stream",
     "text": [
      "12.05.2022 16:08:30 -- INFO -- MW: Neue Messdaten vom 2022-04-20 gefunden!\n"
     ]
    },
    {
     "name": "stdout",
     "output_type": "stream",
     "text": [
      "loading <|||||||||||||||||||||||||||||||||||||||||||||||||||||-----------------------------------------------> 53 %       \r"
     ]
    },
    {
     "name": "stderr",
     "output_type": "stream",
     "text": [
      "12.05.2022 16:08:31 -- INFO -- MW: Neue Messdaten vom 2022-04-21 gefunden!\n"
     ]
    },
    {
     "name": "stdout",
     "output_type": "stream",
     "text": [
      "loading <|||||||||||||||||||||||||||||||||||||||||||||||||||||||---------------------------------------------> 55 %       \r"
     ]
    },
    {
     "name": "stderr",
     "output_type": "stream",
     "text": [
      "12.05.2022 16:08:32 -- INFO -- MW: Neue Messdaten vom 2022-04-22 gefunden!\n"
     ]
    },
    {
     "name": "stdout",
     "output_type": "stream",
     "text": [
      "loading <||||||||||||||||||||||||||||||||||||||||||||||||||||||||||------------------------------------------> 58 %       \r"
     ]
    },
    {
     "name": "stderr",
     "output_type": "stream",
     "text": [
      "12.05.2022 16:08:33 -- INFO -- MW: Neue Messdaten vom 2022-04-23 gefunden!\n"
     ]
    },
    {
     "name": "stdout",
     "output_type": "stream",
     "text": [
      "loading <||||||||||||||||||||||||||||||||||||||||||||||||||||||||||||----------------------------------------> 60 %       \r"
     ]
    },
    {
     "name": "stderr",
     "output_type": "stream",
     "text": [
      "12.05.2022 16:08:34 -- INFO -- MW: Neue Messdaten vom 2022-04-24 gefunden!\n"
     ]
    },
    {
     "name": "stdout",
     "output_type": "stream",
     "text": [
      "loading <||||||||||||||||||||||||||||||||||||||||||||||||||||||||||||||--------------------------------------> 62 %       \r"
     ]
    },
    {
     "name": "stderr",
     "output_type": "stream",
     "text": [
      "12.05.2022 16:08:36 -- INFO -- MW: Neue Messdaten vom 2022-04-25 gefunden!\n"
     ]
    },
    {
     "name": "stdout",
     "output_type": "stream",
     "text": [
      "loading <|||||||||||||||||||||||||||||||||||||||||||||||||||||||||||||||||-----------------------------------> 65 %       \r"
     ]
    },
    {
     "name": "stderr",
     "output_type": "stream",
     "text": [
      "12.05.2022 16:08:37 -- INFO -- MW: Neue Messdaten vom 2022-04-26 gefunden!\n"
     ]
    },
    {
     "name": "stdout",
     "output_type": "stream",
     "text": [
      "loading <|||||||||||||||||||||||||||||||||||||||||||||||||||||||||||||||||||---------------------------------> 67 %       \r"
     ]
    },
    {
     "name": "stderr",
     "output_type": "stream",
     "text": [
      "12.05.2022 16:08:38 -- INFO -- MW: Neue Messdaten vom 2022-04-27 gefunden!\n"
     ]
    },
    {
     "name": "stdout",
     "output_type": "stream",
     "text": [
      "loading <|||||||||||||||||||||||||||||||||||||||||||||||||||||||||||||||||||||-------------------------------> 69 %       \r"
     ]
    },
    {
     "name": "stderr",
     "output_type": "stream",
     "text": [
      "12.05.2022 16:08:39 -- INFO -- MW: Neue Messdaten vom 2022-04-28 gefunden!\n"
     ]
    },
    {
     "name": "stdout",
     "output_type": "stream",
     "text": [
      "loading <||||||||||||||||||||||||||||||||||||||||||||||||||||||||||||||||||||||||----------------------------> 72 %       \r"
     ]
    },
    {
     "name": "stderr",
     "output_type": "stream",
     "text": [
      "12.05.2022 16:08:40 -- INFO -- MW: Neue Messdaten vom 2022-04-29 gefunden!\n"
     ]
    },
    {
     "name": "stdout",
     "output_type": "stream",
     "text": [
      "loading <||||||||||||||||||||||||||||||||||||||||||||||||||||||||||||||||||||||||||--------------------------> 74 %       \r"
     ]
    },
    {
     "name": "stderr",
     "output_type": "stream",
     "text": [
      "12.05.2022 16:08:42 -- INFO -- MW: Neue Messdaten vom 2022-04-30 gefunden!\n"
     ]
    },
    {
     "name": "stdout",
     "output_type": "stream",
     "text": [
      "loading <||||||||||||||||||||||||||||||||||||||||||||||||||||||||||||||||||||||||||||------------------------> 76 %       \r"
     ]
    },
    {
     "name": "stderr",
     "output_type": "stream",
     "text": [
      "12.05.2022 16:08:44 -- INFO -- MW: Neue Messdaten vom 2022-05-01 gefunden!\n"
     ]
    },
    {
     "name": "stdout",
     "output_type": "stream",
     "text": [
      "loading <|||||||||||||||||||||||||||||||||||||||||||||||||||||||||||||||||||||||||||||||---------------------> 79 %       \r"
     ]
    },
    {
     "name": "stderr",
     "output_type": "stream",
     "text": [
      "12.05.2022 16:08:45 -- INFO -- MW: Neue Messdaten vom 2022-05-02 gefunden!\n"
     ]
    },
    {
     "name": "stdout",
     "output_type": "stream",
     "text": [
      "loading <|||||||||||||||||||||||||||||||||||||||||||||||||||||||||||||||||||||||||||||||||-------------------> 81 %       \r"
     ]
    },
    {
     "name": "stderr",
     "output_type": "stream",
     "text": [
      "12.05.2022 16:08:46 -- INFO -- MW: Neue Messdaten vom 2022-05-03 gefunden!\n"
     ]
    },
    {
     "name": "stdout",
     "output_type": "stream",
     "text": [
      "loading <|||||||||||||||||||||||||||||||||||||||||||||||||||||||||||||||||||||||||||||||||||-----------------> 83 %       \r"
     ]
    },
    {
     "name": "stderr",
     "output_type": "stream",
     "text": [
      "12.05.2022 16:08:47 -- INFO -- MW: Neue Messdaten vom 2022-05-04 gefunden!\n"
     ]
    },
    {
     "name": "stdout",
     "output_type": "stream",
     "text": [
      "loading <||||||||||||||||||||||||||||||||||||||||||||||||||||||||||||||||||||||||||||||||||||||--------------> 86 %       \r"
     ]
    },
    {
     "name": "stderr",
     "output_type": "stream",
     "text": [
      "12.05.2022 16:08:48 -- INFO -- MW: Neue Messdaten vom 2022-05-05 gefunden!\n"
     ]
    },
    {
     "name": "stdout",
     "output_type": "stream",
     "text": [
      "loading <||||||||||||||||||||||||||||||||||||||||||||||||||||||||||||||||||||||||||||||||||||||||------------> 88 %       \r"
     ]
    },
    {
     "name": "stderr",
     "output_type": "stream",
     "text": [
      "12.05.2022 16:08:49 -- INFO -- MW: Neue Messdaten vom 2022-05-06 gefunden!\n"
     ]
    },
    {
     "name": "stdout",
     "output_type": "stream",
     "text": [
      "loading <||||||||||||||||||||||||||||||||||||||||||||||||||||||||||||||||||||||||||||||||||||||||||----------> 90 %       \r"
     ]
    },
    {
     "name": "stderr",
     "output_type": "stream",
     "text": [
      "12.05.2022 16:08:51 -- INFO -- MW: Neue Messdaten vom 2022-05-07 gefunden!\n"
     ]
    },
    {
     "name": "stdout",
     "output_type": "stream",
     "text": [
      "loading <|||||||||||||||||||||||||||||||||||||||||||||||||||||||||||||||||||||||||||||||||||||||||||||-------> 93 %       \r"
     ]
    },
    {
     "name": "stderr",
     "output_type": "stream",
     "text": [
      "12.05.2022 16:08:52 -- INFO -- MW: Neue Messdaten vom 2022-05-08 gefunden!\n"
     ]
    },
    {
     "name": "stdout",
     "output_type": "stream",
     "text": [
      "loading <|||||||||||||||||||||||||||||||||||||||||||||||||||||||||||||||||||||||||||||||||||||||||||||||-----> 95 %       \r"
     ]
    },
    {
     "name": "stderr",
     "output_type": "stream",
     "text": [
      "12.05.2022 16:08:54 -- INFO -- MW: Neue Messdaten vom 2022-05-09 gefunden!\n"
     ]
    },
    {
     "name": "stdout",
     "output_type": "stream",
     "text": [
      "loading <|||||||||||||||||||||||||||||||||||||||||||||||||||||||||||||||||||||||||||||||||||||||||||||||||---> 97 %       \r"
     ]
    },
    {
     "name": "stderr",
     "output_type": "stream",
     "text": [
      "12.05.2022 16:08:55 -- INFO -- MW: Neue Messdaten vom 2022-05-10 gefunden!\n"
     ]
    },
    {
     "name": "stdout",
     "output_type": "stream",
     "text": [
      "finished!                                                                                                                  \r"
     ]
    },
    {
     "name": "stderr",
     "output_type": "stream",
     "text": [
      "12.05.2022 16:08:56 -- INFO -- MW: Neue Messdaten vom 2022-05-11 gefunden!\n",
      "12.05.2022 16:10:30 -- INFO -- MW: Führe Post Processing durch\n",
      "12.05.2022 16:10:42 -- INFO -- MW: Starte Export!\n",
      "12.05.2022 16:12:45 -- INFO -- MW: TinkerForge Datenbank exportiert! | 2021-02-23 | 2022-05-12\n",
      "12.05.2022 16:12:45 -- INFO -- LB: Suche vorhandene Datenbank.\n",
      "12.05.2022 16:13:00 -- INFO -- LB: Datenbank geöffnet, letzter Eintrag vom 2022-04-05!\n",
      "12.05.2022 16:13:00 -- INFO -- LB: Durchsuche Dropbox nach neuen Datensätzen.\n"
     ]
    },
    {
     "name": "stdout",
     "output_type": "stream",
     "text": [
      "loading <||||||||||||||||||----------------------------------------------------------------------------------> 18 %       \r"
     ]
    },
    {
     "name": "stderr",
     "output_type": "stream",
     "text": [
      "12.05.2022 16:13:04 -- INFO -- LB: Neue Messdaten vom 2022-04-06 gefunden!\n"
     ]
    },
    {
     "name": "stdout",
     "output_type": "stream",
     "text": [
      "loading <||||||||||||||||||||--------------------------------------------------------------------------------> 20 %       \r"
     ]
    },
    {
     "name": "stderr",
     "output_type": "stream",
     "text": [
      "12.05.2022 16:13:05 -- INFO -- LB: Neue Messdaten vom 2022-04-07 gefunden!\n"
     ]
    },
    {
     "name": "stdout",
     "output_type": "stream",
     "text": [
      "loading <|||||||||||||||||||||||-----------------------------------------------------------------------------> 23 %       \r"
     ]
    },
    {
     "name": "stderr",
     "output_type": "stream",
     "text": [
      "12.05.2022 16:13:06 -- INFO -- LB: Neue Messdaten vom 2022-04-08 gefunden!\n"
     ]
    },
    {
     "name": "stdout",
     "output_type": "stream",
     "text": [
      "loading <|||||||||||||||||||||||||---------------------------------------------------------------------------> 25 %       \r"
     ]
    },
    {
     "name": "stderr",
     "output_type": "stream",
     "text": [
      "12.05.2022 16:13:07 -- INFO -- LB: Neue Messdaten vom 2022-04-09 gefunden!\n"
     ]
    },
    {
     "name": "stdout",
     "output_type": "stream",
     "text": [
      "loading <|||||||||||||||||||||||||||-------------------------------------------------------------------------> 27 %       \r"
     ]
    },
    {
     "name": "stderr",
     "output_type": "stream",
     "text": [
      "12.05.2022 16:13:08 -- INFO -- LB: Neue Messdaten vom 2022-04-10 gefunden!\n"
     ]
    },
    {
     "name": "stdout",
     "output_type": "stream",
     "text": [
      "loading <||||||||||||||||||||||||||||||----------------------------------------------------------------------> 30 %       \r"
     ]
    },
    {
     "name": "stderr",
     "output_type": "stream",
     "text": [
      "12.05.2022 16:13:09 -- INFO -- LB: Neue Messdaten vom 2022-04-11 gefunden!\n"
     ]
    },
    {
     "name": "stdout",
     "output_type": "stream",
     "text": [
      "loading <||||||||||||||||||||||||||||||||--------------------------------------------------------------------> 32 %       \r"
     ]
    },
    {
     "name": "stderr",
     "output_type": "stream",
     "text": [
      "12.05.2022 16:13:11 -- INFO -- LB: Neue Messdaten vom 2022-04-12 gefunden!\n"
     ]
    },
    {
     "name": "stdout",
     "output_type": "stream",
     "text": [
      "loading <||||||||||||||||||||||||||||||||||------------------------------------------------------------------> 34 %       \r"
     ]
    },
    {
     "name": "stderr",
     "output_type": "stream",
     "text": [
      "12.05.2022 16:13:12 -- INFO -- LB: Neue Messdaten vom 2022-04-13 gefunden!\n"
     ]
    },
    {
     "name": "stdout",
     "output_type": "stream",
     "text": [
      "loading <|||||||||||||||||||||||||||||||||||||---------------------------------------------------------------> 37 %       \r"
     ]
    },
    {
     "name": "stderr",
     "output_type": "stream",
     "text": [
      "12.05.2022 16:13:13 -- INFO -- LB: Neue Messdaten vom 2022-04-14 gefunden!\n"
     ]
    },
    {
     "name": "stdout",
     "output_type": "stream",
     "text": [
      "loading <|||||||||||||||||||||||||||||||||||||||-------------------------------------------------------------> 39 %       \r"
     ]
    },
    {
     "name": "stderr",
     "output_type": "stream",
     "text": [
      "12.05.2022 16:13:14 -- INFO -- LB: Neue Messdaten vom 2022-04-15 gefunden!\n"
     ]
    },
    {
     "name": "stdout",
     "output_type": "stream",
     "text": [
      "loading <|||||||||||||||||||||||||||||||||||||||||-----------------------------------------------------------> 41 %       \r"
     ]
    },
    {
     "name": "stderr",
     "output_type": "stream",
     "text": [
      "12.05.2022 16:13:15 -- INFO -- LB: Neue Messdaten vom 2022-04-16 gefunden!\n"
     ]
    },
    {
     "name": "stdout",
     "output_type": "stream",
     "text": [
      "loading <||||||||||||||||||||||||||||||||||||||||||||--------------------------------------------------------> 44 %       \r"
     ]
    },
    {
     "name": "stderr",
     "output_type": "stream",
     "text": [
      "12.05.2022 16:13:16 -- INFO -- LB: Neue Messdaten vom 2022-04-17 gefunden!\n"
     ]
    },
    {
     "name": "stdout",
     "output_type": "stream",
     "text": [
      "loading <||||||||||||||||||||||||||||||||||||||||||||||------------------------------------------------------> 46 %       \r"
     ]
    },
    {
     "name": "stderr",
     "output_type": "stream",
     "text": [
      "12.05.2022 16:13:17 -- INFO -- LB: Neue Messdaten vom 2022-04-18 gefunden!\n"
     ]
    },
    {
     "name": "stdout",
     "output_type": "stream",
     "text": [
      "loading <||||||||||||||||||||||||||||||||||||||||||||||||----------------------------------------------------> 48 %       \r"
     ]
    },
    {
     "name": "stderr",
     "output_type": "stream",
     "text": [
      "12.05.2022 16:13:18 -- INFO -- LB: Neue Messdaten vom 2022-04-19 gefunden!\n"
     ]
    },
    {
     "name": "stdout",
     "output_type": "stream",
     "text": [
      "loading <|||||||||||||||||||||||||||||||||||||||||||||||||||-------------------------------------------------> 51 %       \r"
     ]
    },
    {
     "name": "stderr",
     "output_type": "stream",
     "text": [
      "12.05.2022 16:13:20 -- INFO -- LB: Neue Messdaten vom 2022-04-20 gefunden!\n"
     ]
    },
    {
     "name": "stdout",
     "output_type": "stream",
     "text": [
      "loading <|||||||||||||||||||||||||||||||||||||||||||||||||||||-----------------------------------------------> 53 %       \r"
     ]
    },
    {
     "name": "stderr",
     "output_type": "stream",
     "text": [
      "12.05.2022 16:13:21 -- INFO -- LB: Neue Messdaten vom 2022-04-21 gefunden!\n"
     ]
    },
    {
     "name": "stdout",
     "output_type": "stream",
     "text": [
      "loading <|||||||||||||||||||||||||||||||||||||||||||||||||||||||---------------------------------------------> 55 %       \r"
     ]
    },
    {
     "name": "stderr",
     "output_type": "stream",
     "text": [
      "12.05.2022 16:13:22 -- INFO -- LB: Neue Messdaten vom 2022-04-22 gefunden!\n"
     ]
    },
    {
     "name": "stdout",
     "output_type": "stream",
     "text": [
      "loading <||||||||||||||||||||||||||||||||||||||||||||||||||||||||||------------------------------------------> 58 %       \r"
     ]
    },
    {
     "name": "stderr",
     "output_type": "stream",
     "text": [
      "12.05.2022 16:13:24 -- INFO -- LB: Neue Messdaten vom 2022-04-23 gefunden!\n"
     ]
    },
    {
     "name": "stdout",
     "output_type": "stream",
     "text": [
      "loading <||||||||||||||||||||||||||||||||||||||||||||||||||||||||||||----------------------------------------> 60 %       \r"
     ]
    },
    {
     "name": "stderr",
     "output_type": "stream",
     "text": [
      "12.05.2022 16:13:25 -- INFO -- LB: Neue Messdaten vom 2022-04-24 gefunden!\n"
     ]
    },
    {
     "name": "stdout",
     "output_type": "stream",
     "text": [
      "loading <||||||||||||||||||||||||||||||||||||||||||||||||||||||||||||||--------------------------------------> 62 %       \r"
     ]
    },
    {
     "name": "stderr",
     "output_type": "stream",
     "text": [
      "12.05.2022 16:13:26 -- INFO -- LB: Neue Messdaten vom 2022-04-25 gefunden!\n"
     ]
    },
    {
     "name": "stdout",
     "output_type": "stream",
     "text": [
      "loading <|||||||||||||||||||||||||||||||||||||||||||||||||||||||||||||||||-----------------------------------> 65 %       \r"
     ]
    },
    {
     "name": "stderr",
     "output_type": "stream",
     "text": [
      "12.05.2022 16:13:28 -- INFO -- LB: Neue Messdaten vom 2022-04-26 gefunden!\n"
     ]
    },
    {
     "name": "stdout",
     "output_type": "stream",
     "text": [
      "loading <|||||||||||||||||||||||||||||||||||||||||||||||||||||||||||||||||||---------------------------------> 67 %       \r"
     ]
    },
    {
     "name": "stderr",
     "output_type": "stream",
     "text": [
      "12.05.2022 16:13:29 -- INFO -- LB: Neue Messdaten vom 2022-04-27 gefunden!\n"
     ]
    },
    {
     "name": "stdout",
     "output_type": "stream",
     "text": [
      "loading <|||||||||||||||||||||||||||||||||||||||||||||||||||||||||||||||||||||-------------------------------> 69 %       \r"
     ]
    },
    {
     "name": "stderr",
     "output_type": "stream",
     "text": [
      "12.05.2022 16:13:30 -- INFO -- LB: Neue Messdaten vom 2022-04-28 gefunden!\n"
     ]
    },
    {
     "name": "stdout",
     "output_type": "stream",
     "text": [
      "loading <||||||||||||||||||||||||||||||||||||||||||||||||||||||||||||||||||||||||----------------------------> 72 %       \r"
     ]
    },
    {
     "name": "stderr",
     "output_type": "stream",
     "text": [
      "12.05.2022 16:13:31 -- INFO -- LB: Neue Messdaten vom 2022-04-29 gefunden!\n"
     ]
    },
    {
     "name": "stdout",
     "output_type": "stream",
     "text": [
      "loading <||||||||||||||||||||||||||||||||||||||||||||||||||||||||||||||||||||||||||--------------------------> 74 %       \r"
     ]
    },
    {
     "name": "stderr",
     "output_type": "stream",
     "text": [
      "12.05.2022 16:13:32 -- INFO -- LB: Neue Messdaten vom 2022-04-30 gefunden!\n"
     ]
    },
    {
     "name": "stdout",
     "output_type": "stream",
     "text": [
      "loading <||||||||||||||||||||||||||||||||||||||||||||||||||||||||||||||||||||||||||||------------------------> 76 %       \r"
     ]
    },
    {
     "name": "stderr",
     "output_type": "stream",
     "text": [
      "12.05.2022 16:13:33 -- INFO -- LB: Neue Messdaten vom 2022-05-01 gefunden!\n"
     ]
    },
    {
     "name": "stdout",
     "output_type": "stream",
     "text": [
      "loading <|||||||||||||||||||||||||||||||||||||||||||||||||||||||||||||||||||||||||||||||---------------------> 79 %       \r"
     ]
    },
    {
     "name": "stderr",
     "output_type": "stream",
     "text": [
      "12.05.2022 16:13:34 -- INFO -- LB: Neue Messdaten vom 2022-05-02 gefunden!\n"
     ]
    },
    {
     "name": "stdout",
     "output_type": "stream",
     "text": [
      "loading <|||||||||||||||||||||||||||||||||||||||||||||||||||||||||||||||||||||||||||||||||-------------------> 81 %       \r"
     ]
    },
    {
     "name": "stderr",
     "output_type": "stream",
     "text": [
      "12.05.2022 16:13:36 -- INFO -- LB: Neue Messdaten vom 2022-05-03 gefunden!\n"
     ]
    },
    {
     "name": "stdout",
     "output_type": "stream",
     "text": [
      "loading <|||||||||||||||||||||||||||||||||||||||||||||||||||||||||||||||||||||||||||||||||||-----------------> 83 %       \r"
     ]
    },
    {
     "name": "stderr",
     "output_type": "stream",
     "text": [
      "12.05.2022 16:13:37 -- INFO -- LB: Neue Messdaten vom 2022-05-04 gefunden!\n"
     ]
    },
    {
     "name": "stdout",
     "output_type": "stream",
     "text": [
      "loading <||||||||||||||||||||||||||||||||||||||||||||||||||||||||||||||||||||||||||||||||||||||--------------> 86 %       \r"
     ]
    },
    {
     "name": "stderr",
     "output_type": "stream",
     "text": [
      "12.05.2022 16:13:38 -- INFO -- LB: Neue Messdaten vom 2022-05-05 gefunden!\n"
     ]
    },
    {
     "name": "stdout",
     "output_type": "stream",
     "text": [
      "loading <||||||||||||||||||||||||||||||||||||||||||||||||||||||||||||||||||||||||||||||||||||||||------------> 88 %       \r"
     ]
    },
    {
     "name": "stderr",
     "output_type": "stream",
     "text": [
      "12.05.2022 16:13:40 -- INFO -- LB: Neue Messdaten vom 2022-05-06 gefunden!\n"
     ]
    },
    {
     "name": "stdout",
     "output_type": "stream",
     "text": [
      "loading <||||||||||||||||||||||||||||||||||||||||||||||||||||||||||||||||||||||||||||||||||||||||||----------> 90 %       \r"
     ]
    },
    {
     "name": "stderr",
     "output_type": "stream",
     "text": [
      "12.05.2022 16:13:41 -- INFO -- LB: Neue Messdaten vom 2022-05-07 gefunden!\n"
     ]
    },
    {
     "name": "stdout",
     "output_type": "stream",
     "text": [
      "loading <|||||||||||||||||||||||||||||||||||||||||||||||||||||||||||||||||||||||||||||||||||||||||||||-------> 93 %       \r"
     ]
    },
    {
     "name": "stderr",
     "output_type": "stream",
     "text": [
      "12.05.2022 16:13:42 -- INFO -- LB: Neue Messdaten vom 2022-05-08 gefunden!\n"
     ]
    },
    {
     "name": "stdout",
     "output_type": "stream",
     "text": [
      "loading <|||||||||||||||||||||||||||||||||||||||||||||||||||||||||||||||||||||||||||||||||||||||||||||||-----> 95 %       \r"
     ]
    },
    {
     "name": "stderr",
     "output_type": "stream",
     "text": [
      "12.05.2022 16:13:43 -- INFO -- LB: Neue Messdaten vom 2022-05-09 gefunden!\n"
     ]
    },
    {
     "name": "stdout",
     "output_type": "stream",
     "text": [
      "loading <|||||||||||||||||||||||||||||||||||||||||||||||||||||||||||||||||||||||||||||||||||||||||||||||||---> 97 %       \r"
     ]
    },
    {
     "name": "stderr",
     "output_type": "stream",
     "text": [
      "12.05.2022 16:13:44 -- INFO -- LB: Neue Messdaten vom 2022-05-10 gefunden!\n"
     ]
    },
    {
     "name": "stdout",
     "output_type": "stream",
     "text": [
      "finished!                                                                                                                  \r"
     ]
    },
    {
     "name": "stderr",
     "output_type": "stream",
     "text": [
      "12.05.2022 16:13:45 -- INFO -- LB: Neue Messdaten vom 2022-05-11 gefunden!\n",
      "12.05.2022 16:15:24 -- INFO -- LB: Führe Post Processing durch\n",
      "12.05.2022 16:15:27 -- INFO -- LB: Starte Export!\n",
      "12.05.2022 16:17:32 -- INFO -- LB: TinkerForge Datenbank exportiert! | 2021-03-08 | 2022-05-12\n",
      "12.05.2022 16:17:32 -- INFO -- PM: Suche vorhandene Datenbank.\n",
      "12.05.2022 16:17:34 -- INFO -- PM: Datenbank geöffnet, letzter Eintrag vom 2022-04-05!\n",
      "12.05.2022 16:17:34 -- INFO -- PM: Durchsuche Dropbox nach neuen Datensätzen.\n"
     ]
    },
    {
     "name": "stdout",
     "output_type": "stream",
     "text": [
      "loading <||||||||||||||||||----------------------------------------------------------------------------------> 18 %       \r"
     ]
    },
    {
     "name": "stderr",
     "output_type": "stream",
     "text": [
      "12.05.2022 16:17:39 -- INFO -- PM: Neue Messdaten vom 2022-04-06 gefunden!\n"
     ]
    },
    {
     "name": "stdout",
     "output_type": "stream",
     "text": [
      "loading <||||||||||||||||||||--------------------------------------------------------------------------------> 20 %       \r"
     ]
    },
    {
     "name": "stderr",
     "output_type": "stream",
     "text": [
      "12.05.2022 16:17:40 -- INFO -- PM: Neue Messdaten vom 2022-04-07 gefunden!\n"
     ]
    },
    {
     "name": "stdout",
     "output_type": "stream",
     "text": [
      "loading <|||||||||||||||||||||||-----------------------------------------------------------------------------> 23 %       \r"
     ]
    },
    {
     "name": "stderr",
     "output_type": "stream",
     "text": [
      "12.05.2022 16:17:41 -- INFO -- PM: Neue Messdaten vom 2022-04-08 gefunden!\n"
     ]
    },
    {
     "name": "stdout",
     "output_type": "stream",
     "text": [
      "loading <|||||||||||||||||||||||||---------------------------------------------------------------------------> 25 %       \r"
     ]
    },
    {
     "name": "stderr",
     "output_type": "stream",
     "text": [
      "12.05.2022 16:17:41 -- INFO -- PM: Neue Messdaten vom 2022-04-09 gefunden!\n"
     ]
    },
    {
     "name": "stdout",
     "output_type": "stream",
     "text": [
      "loading <|||||||||||||||||||||||||||-------------------------------------------------------------------------> 27 %       \r"
     ]
    },
    {
     "name": "stderr",
     "output_type": "stream",
     "text": [
      "12.05.2022 16:17:42 -- INFO -- PM: Neue Messdaten vom 2022-04-10 gefunden!\n"
     ]
    },
    {
     "name": "stdout",
     "output_type": "stream",
     "text": [
      "loading <||||||||||||||||||||||||||||||----------------------------------------------------------------------> 30 %       \r"
     ]
    },
    {
     "name": "stderr",
     "output_type": "stream",
     "text": [
      "12.05.2022 16:17:43 -- INFO -- PM: Neue Messdaten vom 2022-04-11 gefunden!\n"
     ]
    },
    {
     "name": "stdout",
     "output_type": "stream",
     "text": [
      "loading <||||||||||||||||||||||||||||||||--------------------------------------------------------------------> 32 %       \r"
     ]
    },
    {
     "name": "stderr",
     "output_type": "stream",
     "text": [
      "12.05.2022 16:17:43 -- INFO -- PM: Neue Messdaten vom 2022-04-12 gefunden!\n"
     ]
    },
    {
     "name": "stdout",
     "output_type": "stream",
     "text": [
      "loading <||||||||||||||||||||||||||||||||||------------------------------------------------------------------> 34 %       \r"
     ]
    },
    {
     "name": "stderr",
     "output_type": "stream",
     "text": [
      "12.05.2022 16:17:44 -- INFO -- PM: Neue Messdaten vom 2022-04-13 gefunden!\n"
     ]
    },
    {
     "name": "stdout",
     "output_type": "stream",
     "text": [
      "loading <|||||||||||||||||||||||||||||||||||||---------------------------------------------------------------> 37 %       \r"
     ]
    },
    {
     "name": "stderr",
     "output_type": "stream",
     "text": [
      "12.05.2022 16:17:44 -- INFO -- PM: Neue Messdaten vom 2022-04-14 gefunden!\n"
     ]
    },
    {
     "name": "stdout",
     "output_type": "stream",
     "text": [
      "loading <|||||||||||||||||||||||||||||||||||||||-------------------------------------------------------------> 39 %       \r"
     ]
    },
    {
     "name": "stderr",
     "output_type": "stream",
     "text": [
      "12.05.2022 16:17:45 -- INFO -- PM: Neue Messdaten vom 2022-04-15 gefunden!\n"
     ]
    },
    {
     "name": "stdout",
     "output_type": "stream",
     "text": [
      "loading <|||||||||||||||||||||||||||||||||||||||||-----------------------------------------------------------> 41 %       \r"
     ]
    },
    {
     "name": "stderr",
     "output_type": "stream",
     "text": [
      "12.05.2022 16:17:46 -- INFO -- PM: Neue Messdaten vom 2022-04-16 gefunden!\n"
     ]
    },
    {
     "name": "stdout",
     "output_type": "stream",
     "text": [
      "loading <||||||||||||||||||||||||||||||||||||||||||||--------------------------------------------------------> 44 %       \r"
     ]
    },
    {
     "name": "stderr",
     "output_type": "stream",
     "text": [
      "12.05.2022 16:17:46 -- INFO -- PM: Neue Messdaten vom 2022-04-17 gefunden!\n"
     ]
    },
    {
     "name": "stdout",
     "output_type": "stream",
     "text": [
      "loading <||||||||||||||||||||||||||||||||||||||||||||||------------------------------------------------------> 46 %       \r"
     ]
    },
    {
     "name": "stderr",
     "output_type": "stream",
     "text": [
      "12.05.2022 16:17:47 -- INFO -- PM: Neue Messdaten vom 2022-04-18 gefunden!\n"
     ]
    },
    {
     "name": "stdout",
     "output_type": "stream",
     "text": [
      "loading <||||||||||||||||||||||||||||||||||||||||||||||||----------------------------------------------------> 48 %       \r"
     ]
    },
    {
     "name": "stderr",
     "output_type": "stream",
     "text": [
      "12.05.2022 16:17:48 -- INFO -- PM: Neue Messdaten vom 2022-04-19 gefunden!\n"
     ]
    },
    {
     "name": "stdout",
     "output_type": "stream",
     "text": [
      "loading <|||||||||||||||||||||||||||||||||||||||||||||||||||-------------------------------------------------> 51 %       \r"
     ]
    },
    {
     "name": "stderr",
     "output_type": "stream",
     "text": [
      "12.05.2022 16:17:48 -- INFO -- PM: Neue Messdaten vom 2022-04-20 gefunden!\n"
     ]
    },
    {
     "name": "stdout",
     "output_type": "stream",
     "text": [
      "loading <|||||||||||||||||||||||||||||||||||||||||||||||||||||-----------------------------------------------> 53 %       \r"
     ]
    },
    {
     "name": "stderr",
     "output_type": "stream",
     "text": [
      "12.05.2022 16:17:49 -- INFO -- PM: Neue Messdaten vom 2022-04-21 gefunden!\n"
     ]
    },
    {
     "name": "stdout",
     "output_type": "stream",
     "text": [
      "loading <|||||||||||||||||||||||||||||||||||||||||||||||||||||||---------------------------------------------> 55 %       \r"
     ]
    },
    {
     "name": "stderr",
     "output_type": "stream",
     "text": [
      "12.05.2022 16:17:50 -- INFO -- PM: Neue Messdaten vom 2022-04-22 gefunden!\n"
     ]
    },
    {
     "name": "stdout",
     "output_type": "stream",
     "text": [
      "loading <||||||||||||||||||||||||||||||||||||||||||||||||||||||||||------------------------------------------> 58 %       \r"
     ]
    },
    {
     "name": "stderr",
     "output_type": "stream",
     "text": [
      "12.05.2022 16:17:50 -- INFO -- PM: Neue Messdaten vom 2022-04-23 gefunden!\n"
     ]
    },
    {
     "name": "stdout",
     "output_type": "stream",
     "text": [
      "loading <||||||||||||||||||||||||||||||||||||||||||||||||||||||||||||----------------------------------------> 60 %       \r"
     ]
    },
    {
     "name": "stderr",
     "output_type": "stream",
     "text": [
      "12.05.2022 16:17:51 -- INFO -- PM: Neue Messdaten vom 2022-04-24 gefunden!\n"
     ]
    },
    {
     "name": "stdout",
     "output_type": "stream",
     "text": [
      "loading <||||||||||||||||||||||||||||||||||||||||||||||||||||||||||||||--------------------------------------> 62 %       \r"
     ]
    },
    {
     "name": "stderr",
     "output_type": "stream",
     "text": [
      "12.05.2022 16:17:51 -- INFO -- PM: Neue Messdaten vom 2022-04-25 gefunden!\n"
     ]
    },
    {
     "name": "stdout",
     "output_type": "stream",
     "text": [
      "loading <|||||||||||||||||||||||||||||||||||||||||||||||||||||||||||||||||-----------------------------------> 65 %       \r"
     ]
    },
    {
     "name": "stderr",
     "output_type": "stream",
     "text": [
      "12.05.2022 16:17:52 -- INFO -- PM: Neue Messdaten vom 2022-04-26 gefunden!\n"
     ]
    },
    {
     "name": "stdout",
     "output_type": "stream",
     "text": [
      "loading <|||||||||||||||||||||||||||||||||||||||||||||||||||||||||||||||||||---------------------------------> 67 %       \r"
     ]
    },
    {
     "name": "stderr",
     "output_type": "stream",
     "text": [
      "12.05.2022 16:17:52 -- INFO -- PM: Neue Messdaten vom 2022-04-27 gefunden!\n"
     ]
    },
    {
     "name": "stdout",
     "output_type": "stream",
     "text": [
      "loading <|||||||||||||||||||||||||||||||||||||||||||||||||||||||||||||||||||||-------------------------------> 69 %       \r"
     ]
    },
    {
     "name": "stderr",
     "output_type": "stream",
     "text": [
      "12.05.2022 16:17:53 -- INFO -- PM: Neue Messdaten vom 2022-04-28 gefunden!\n"
     ]
    },
    {
     "name": "stdout",
     "output_type": "stream",
     "text": [
      "loading <||||||||||||||||||||||||||||||||||||||||||||||||||||||||||||||||||||||||----------------------------> 72 %       \r"
     ]
    },
    {
     "name": "stderr",
     "output_type": "stream",
     "text": [
      "12.05.2022 16:17:54 -- INFO -- PM: Neue Messdaten vom 2022-04-29 gefunden!\n"
     ]
    },
    {
     "name": "stdout",
     "output_type": "stream",
     "text": [
      "loading <||||||||||||||||||||||||||||||||||||||||||||||||||||||||||||||||||||||||||--------------------------> 74 %       \r"
     ]
    },
    {
     "name": "stderr",
     "output_type": "stream",
     "text": [
      "12.05.2022 16:17:54 -- INFO -- PM: Neue Messdaten vom 2022-04-30 gefunden!\n"
     ]
    },
    {
     "name": "stdout",
     "output_type": "stream",
     "text": [
      "loading <||||||||||||||||||||||||||||||||||||||||||||||||||||||||||||||||||||||||||||------------------------> 76 %       \r"
     ]
    },
    {
     "name": "stderr",
     "output_type": "stream",
     "text": [
      "12.05.2022 16:17:55 -- INFO -- PM: Neue Messdaten vom 2022-05-01 gefunden!\n"
     ]
    },
    {
     "name": "stdout",
     "output_type": "stream",
     "text": [
      "loading <|||||||||||||||||||||||||||||||||||||||||||||||||||||||||||||||||||||||||||||||---------------------> 79 %       \r"
     ]
    },
    {
     "name": "stderr",
     "output_type": "stream",
     "text": [
      "12.05.2022 16:17:55 -- INFO -- PM: Neue Messdaten vom 2022-05-02 gefunden!\n"
     ]
    },
    {
     "name": "stdout",
     "output_type": "stream",
     "text": [
      "loading <|||||||||||||||||||||||||||||||||||||||||||||||||||||||||||||||||||||||||||||||||-------------------> 81 %       \r"
     ]
    },
    {
     "name": "stderr",
     "output_type": "stream",
     "text": [
      "12.05.2022 16:17:56 -- INFO -- PM: Neue Messdaten vom 2022-05-03 gefunden!\n"
     ]
    },
    {
     "name": "stdout",
     "output_type": "stream",
     "text": [
      "loading <|||||||||||||||||||||||||||||||||||||||||||||||||||||||||||||||||||||||||||||||||||-----------------> 83 %       \r"
     ]
    },
    {
     "name": "stderr",
     "output_type": "stream",
     "text": [
      "12.05.2022 16:17:56 -- INFO -- PM: Neue Messdaten vom 2022-05-04 gefunden!\n"
     ]
    },
    {
     "name": "stdout",
     "output_type": "stream",
     "text": [
      "loading <||||||||||||||||||||||||||||||||||||||||||||||||||||||||||||||||||||||||||||||||||||||--------------> 86 %       \r"
     ]
    },
    {
     "name": "stderr",
     "output_type": "stream",
     "text": [
      "12.05.2022 16:17:57 -- INFO -- PM: Neue Messdaten vom 2022-05-05 gefunden!\n"
     ]
    },
    {
     "name": "stdout",
     "output_type": "stream",
     "text": [
      "loading <||||||||||||||||||||||||||||||||||||||||||||||||||||||||||||||||||||||||||||||||||||||||------------> 88 %       \r"
     ]
    },
    {
     "name": "stderr",
     "output_type": "stream",
     "text": [
      "12.05.2022 16:17:58 -- INFO -- PM: Neue Messdaten vom 2022-05-06 gefunden!\n"
     ]
    },
    {
     "name": "stdout",
     "output_type": "stream",
     "text": [
      "loading <||||||||||||||||||||||||||||||||||||||||||||||||||||||||||||||||||||||||||||||||||||||||||----------> 90 %       \r"
     ]
    },
    {
     "name": "stderr",
     "output_type": "stream",
     "text": [
      "12.05.2022 16:17:58 -- INFO -- PM: Neue Messdaten vom 2022-05-07 gefunden!\n"
     ]
    },
    {
     "name": "stdout",
     "output_type": "stream",
     "text": [
      "loading <|||||||||||||||||||||||||||||||||||||||||||||||||||||||||||||||||||||||||||||||||||||||||||||-------> 93 %       \r"
     ]
    },
    {
     "name": "stderr",
     "output_type": "stream",
     "text": [
      "12.05.2022 16:17:59 -- INFO -- PM: Neue Messdaten vom 2022-05-08 gefunden!\n"
     ]
    },
    {
     "name": "stdout",
     "output_type": "stream",
     "text": [
      "loading <|||||||||||||||||||||||||||||||||||||||||||||||||||||||||||||||||||||||||||||||||||||||||||||||-----> 95 %       \r"
     ]
    },
    {
     "name": "stderr",
     "output_type": "stream",
     "text": [
      "12.05.2022 16:17:59 -- INFO -- PM: Neue Messdaten vom 2022-05-09 gefunden!\n"
     ]
    },
    {
     "name": "stdout",
     "output_type": "stream",
     "text": [
      "loading <|||||||||||||||||||||||||||||||||||||||||||||||||||||||||||||||||||||||||||||||||||||||||||||||||---> 97 %       \r"
     ]
    },
    {
     "name": "stderr",
     "output_type": "stream",
     "text": [
      "12.05.2022 16:18:00 -- INFO -- PM: Neue Messdaten vom 2022-05-10 gefunden!\n"
     ]
    },
    {
     "name": "stdout",
     "output_type": "stream",
     "text": [
      "finished!                                                                                                                  \r"
     ]
    },
    {
     "name": "stderr",
     "output_type": "stream",
     "text": [
      "12.05.2022 16:18:01 -- INFO -- PM: Neue Messdaten vom 2022-05-11 gefunden!\n",
      "12.05.2022 16:18:09 -- INFO -- PM: Führe Post Processing durch\n",
      "12.05.2022 16:18:10 -- INFO -- PM: Starte Export!\n",
      "12.05.2022 16:18:29 -- INFO -- PM: TinkerForge Datenbank exportiert! | 2021-03-08 | 2022-05-12\n",
      "12.05.2022 16:18:29 -- INFO -- WD: Suche vorhandene Datenbank.\n",
      "12.05.2022 16:18:31 -- INFO -- WD: Datenbank geöffnet, letzter Eintrag vom 2022-04-05!\n",
      "12.05.2022 16:18:31 -- INFO -- WD: Durchsuche Dropbox nach neuen Datensätzen.\n"
     ]
    },
    {
     "name": "stdout",
     "output_type": "stream",
     "text": [
      "loading <||||||||||||||||||----------------------------------------------------------------------------------> 18 %       \r"
     ]
    },
    {
     "name": "stderr",
     "output_type": "stream",
     "text": [
      "12.05.2022 16:18:35 -- INFO -- WD: Neue Messdaten vom 2022-04-06 gefunden!\n"
     ]
    },
    {
     "name": "stdout",
     "output_type": "stream",
     "text": [
      "loading <||||||||||||||||||||--------------------------------------------------------------------------------> 20 %       \r"
     ]
    },
    {
     "name": "stderr",
     "output_type": "stream",
     "text": [
      "12.05.2022 16:18:35 -- INFO -- WD: Neue Messdaten vom 2022-04-07 gefunden!\n"
     ]
    },
    {
     "name": "stdout",
     "output_type": "stream",
     "text": [
      "loading <|||||||||||||||||||||||-----------------------------------------------------------------------------> 23 %       \r"
     ]
    },
    {
     "name": "stderr",
     "output_type": "stream",
     "text": [
      "12.05.2022 16:18:36 -- INFO -- WD: Neue Messdaten vom 2022-04-08 gefunden!\n"
     ]
    },
    {
     "name": "stdout",
     "output_type": "stream",
     "text": [
      "loading <|||||||||||||||||||||||||---------------------------------------------------------------------------> 25 %       \r"
     ]
    },
    {
     "name": "stderr",
     "output_type": "stream",
     "text": [
      "12.05.2022 16:18:36 -- INFO -- WD: Neue Messdaten vom 2022-04-09 gefunden!\n"
     ]
    },
    {
     "name": "stdout",
     "output_type": "stream",
     "text": [
      "loading <|||||||||||||||||||||||||||-------------------------------------------------------------------------> 27 %       \r"
     ]
    },
    {
     "name": "stderr",
     "output_type": "stream",
     "text": [
      "12.05.2022 16:18:37 -- INFO -- WD: Neue Messdaten vom 2022-04-10 gefunden!\n"
     ]
    },
    {
     "name": "stdout",
     "output_type": "stream",
     "text": [
      "loading <||||||||||||||||||||||||||||||----------------------------------------------------------------------> 30 %       \r"
     ]
    },
    {
     "name": "stderr",
     "output_type": "stream",
     "text": [
      "12.05.2022 16:18:37 -- INFO -- WD: Neue Messdaten vom 2022-04-11 gefunden!\n"
     ]
    },
    {
     "name": "stdout",
     "output_type": "stream",
     "text": [
      "loading <||||||||||||||||||||||||||||||||--------------------------------------------------------------------> 32 %       \r"
     ]
    },
    {
     "name": "stderr",
     "output_type": "stream",
     "text": [
      "12.05.2022 16:18:38 -- INFO -- WD: Neue Messdaten vom 2022-04-12 gefunden!\n"
     ]
    },
    {
     "name": "stdout",
     "output_type": "stream",
     "text": [
      "loading <||||||||||||||||||||||||||||||||||------------------------------------------------------------------> 34 %       \r"
     ]
    },
    {
     "name": "stderr",
     "output_type": "stream",
     "text": [
      "12.05.2022 16:18:38 -- INFO -- WD: Neue Messdaten vom 2022-04-13 gefunden!\n"
     ]
    },
    {
     "name": "stdout",
     "output_type": "stream",
     "text": [
      "loading <|||||||||||||||||||||||||||||||||||||---------------------------------------------------------------> 37 %       \r"
     ]
    },
    {
     "name": "stderr",
     "output_type": "stream",
     "text": [
      "12.05.2022 16:18:39 -- INFO -- WD: Neue Messdaten vom 2022-04-14 gefunden!\n"
     ]
    },
    {
     "name": "stdout",
     "output_type": "stream",
     "text": [
      "loading <|||||||||||||||||||||||||||||||||||||||-------------------------------------------------------------> 39 %       \r"
     ]
    },
    {
     "name": "stderr",
     "output_type": "stream",
     "text": [
      "12.05.2022 16:18:39 -- INFO -- WD: Neue Messdaten vom 2022-04-15 gefunden!\n"
     ]
    },
    {
     "name": "stdout",
     "output_type": "stream",
     "text": [
      "loading <|||||||||||||||||||||||||||||||||||||||||-----------------------------------------------------------> 41 %       \r"
     ]
    },
    {
     "name": "stderr",
     "output_type": "stream",
     "text": [
      "12.05.2022 16:18:40 -- INFO -- WD: Neue Messdaten vom 2022-04-16 gefunden!\n"
     ]
    },
    {
     "name": "stdout",
     "output_type": "stream",
     "text": [
      "loading <||||||||||||||||||||||||||||||||||||||||||||--------------------------------------------------------> 44 %       \r"
     ]
    },
    {
     "name": "stderr",
     "output_type": "stream",
     "text": [
      "12.05.2022 16:18:40 -- INFO -- WD: Neue Messdaten vom 2022-04-17 gefunden!\n"
     ]
    },
    {
     "name": "stdout",
     "output_type": "stream",
     "text": [
      "loading <||||||||||||||||||||||||||||||||||||||||||||||------------------------------------------------------> 46 %       \r"
     ]
    },
    {
     "name": "stderr",
     "output_type": "stream",
     "text": [
      "12.05.2022 16:18:41 -- INFO -- WD: Neue Messdaten vom 2022-04-18 gefunden!\n"
     ]
    },
    {
     "name": "stdout",
     "output_type": "stream",
     "text": [
      "loading <||||||||||||||||||||||||||||||||||||||||||||||||----------------------------------------------------> 48 %       \r"
     ]
    },
    {
     "name": "stderr",
     "output_type": "stream",
     "text": [
      "12.05.2022 16:18:41 -- INFO -- WD: Neue Messdaten vom 2022-04-19 gefunden!\n"
     ]
    },
    {
     "name": "stdout",
     "output_type": "stream",
     "text": [
      "loading <|||||||||||||||||||||||||||||||||||||||||||||||||||-------------------------------------------------> 51 %       \r"
     ]
    },
    {
     "name": "stderr",
     "output_type": "stream",
     "text": [
      "12.05.2022 16:18:42 -- INFO -- WD: Neue Messdaten vom 2022-04-20 gefunden!\n"
     ]
    },
    {
     "name": "stdout",
     "output_type": "stream",
     "text": [
      "loading <|||||||||||||||||||||||||||||||||||||||||||||||||||||-----------------------------------------------> 53 %       \r"
     ]
    },
    {
     "name": "stderr",
     "output_type": "stream",
     "text": [
      "12.05.2022 16:18:42 -- INFO -- WD: Neue Messdaten vom 2022-04-21 gefunden!\n"
     ]
    },
    {
     "name": "stdout",
     "output_type": "stream",
     "text": [
      "loading <|||||||||||||||||||||||||||||||||||||||||||||||||||||||---------------------------------------------> 55 %       \r"
     ]
    },
    {
     "name": "stderr",
     "output_type": "stream",
     "text": [
      "12.05.2022 16:18:43 -- INFO -- WD: Neue Messdaten vom 2022-04-22 gefunden!\n"
     ]
    },
    {
     "name": "stdout",
     "output_type": "stream",
     "text": [
      "loading <||||||||||||||||||||||||||||||||||||||||||||||||||||||||||------------------------------------------> 58 %       \r"
     ]
    },
    {
     "name": "stderr",
     "output_type": "stream",
     "text": [
      "12.05.2022 16:18:43 -- INFO -- WD: Neue Messdaten vom 2022-04-23 gefunden!\n"
     ]
    },
    {
     "name": "stdout",
     "output_type": "stream",
     "text": [
      "loading <||||||||||||||||||||||||||||||||||||||||||||||||||||||||||||----------------------------------------> 60 %       \r"
     ]
    },
    {
     "name": "stderr",
     "output_type": "stream",
     "text": [
      "12.05.2022 16:18:44 -- INFO -- WD: Neue Messdaten vom 2022-04-24 gefunden!\n"
     ]
    },
    {
     "name": "stdout",
     "output_type": "stream",
     "text": [
      "loading <||||||||||||||||||||||||||||||||||||||||||||||||||||||||||||||--------------------------------------> 62 %       \r"
     ]
    },
    {
     "name": "stderr",
     "output_type": "stream",
     "text": [
      "12.05.2022 16:18:44 -- INFO -- WD: Neue Messdaten vom 2022-04-25 gefunden!\n"
     ]
    },
    {
     "name": "stdout",
     "output_type": "stream",
     "text": [
      "loading <|||||||||||||||||||||||||||||||||||||||||||||||||||||||||||||||||-----------------------------------> 65 %       \r"
     ]
    },
    {
     "name": "stderr",
     "output_type": "stream",
     "text": [
      "12.05.2022 16:18:45 -- INFO -- WD: Neue Messdaten vom 2022-04-26 gefunden!\n"
     ]
    },
    {
     "name": "stdout",
     "output_type": "stream",
     "text": [
      "loading <|||||||||||||||||||||||||||||||||||||||||||||||||||||||||||||||||||---------------------------------> 67 %       \r"
     ]
    },
    {
     "name": "stderr",
     "output_type": "stream",
     "text": [
      "12.05.2022 16:18:45 -- INFO -- WD: Neue Messdaten vom 2022-04-27 gefunden!\n"
     ]
    },
    {
     "name": "stdout",
     "output_type": "stream",
     "text": [
      "loading <|||||||||||||||||||||||||||||||||||||||||||||||||||||||||||||||||||||-------------------------------> 69 %       \r"
     ]
    },
    {
     "name": "stderr",
     "output_type": "stream",
     "text": [
      "12.05.2022 16:18:46 -- INFO -- WD: Neue Messdaten vom 2022-04-28 gefunden!\n"
     ]
    },
    {
     "name": "stdout",
     "output_type": "stream",
     "text": [
      "loading <||||||||||||||||||||||||||||||||||||||||||||||||||||||||||||||||||||||||----------------------------> 72 %       \r"
     ]
    },
    {
     "name": "stderr",
     "output_type": "stream",
     "text": [
      "12.05.2022 16:18:46 -- INFO -- WD: Neue Messdaten vom 2022-04-29 gefunden!\n"
     ]
    },
    {
     "name": "stdout",
     "output_type": "stream",
     "text": [
      "loading <||||||||||||||||||||||||||||||||||||||||||||||||||||||||||||||||||||||||||--------------------------> 74 %       \r"
     ]
    },
    {
     "name": "stderr",
     "output_type": "stream",
     "text": [
      "12.05.2022 16:18:47 -- INFO -- WD: Neue Messdaten vom 2022-04-30 gefunden!\n"
     ]
    },
    {
     "name": "stdout",
     "output_type": "stream",
     "text": [
      "loading <||||||||||||||||||||||||||||||||||||||||||||||||||||||||||||||||||||||||||||------------------------> 76 %       \r"
     ]
    },
    {
     "name": "stderr",
     "output_type": "stream",
     "text": [
      "12.05.2022 16:18:47 -- INFO -- WD: Neue Messdaten vom 2022-05-01 gefunden!\n"
     ]
    },
    {
     "name": "stdout",
     "output_type": "stream",
     "text": [
      "loading <|||||||||||||||||||||||||||||||||||||||||||||||||||||||||||||||||||||||||||||||---------------------> 79 %       \r"
     ]
    },
    {
     "name": "stderr",
     "output_type": "stream",
     "text": [
      "12.05.2022 16:18:48 -- INFO -- WD: Neue Messdaten vom 2022-05-02 gefunden!\n"
     ]
    },
    {
     "name": "stdout",
     "output_type": "stream",
     "text": [
      "loading <|||||||||||||||||||||||||||||||||||||||||||||||||||||||||||||||||||||||||||||||||-------------------> 81 %       \r"
     ]
    },
    {
     "name": "stderr",
     "output_type": "stream",
     "text": [
      "12.05.2022 16:18:48 -- INFO -- WD: Neue Messdaten vom 2022-05-03 gefunden!\n"
     ]
    },
    {
     "name": "stdout",
     "output_type": "stream",
     "text": [
      "loading <|||||||||||||||||||||||||||||||||||||||||||||||||||||||||||||||||||||||||||||||||||-----------------> 83 %       \r"
     ]
    },
    {
     "name": "stderr",
     "output_type": "stream",
     "text": [
      "12.05.2022 16:18:49 -- INFO -- WD: Neue Messdaten vom 2022-05-04 gefunden!\n"
     ]
    },
    {
     "name": "stdout",
     "output_type": "stream",
     "text": [
      "loading <||||||||||||||||||||||||||||||||||||||||||||||||||||||||||||||||||||||||||||||||||||||--------------> 86 %       \r"
     ]
    },
    {
     "name": "stderr",
     "output_type": "stream",
     "text": [
      "12.05.2022 16:18:49 -- INFO -- WD: Neue Messdaten vom 2022-05-05 gefunden!\n"
     ]
    },
    {
     "name": "stdout",
     "output_type": "stream",
     "text": [
      "loading <||||||||||||||||||||||||||||||||||||||||||||||||||||||||||||||||||||||||||||||||||||||||------------> 88 %       \r"
     ]
    },
    {
     "name": "stderr",
     "output_type": "stream",
     "text": [
      "12.05.2022 16:18:50 -- INFO -- WD: Neue Messdaten vom 2022-05-06 gefunden!\n"
     ]
    },
    {
     "name": "stdout",
     "output_type": "stream",
     "text": [
      "loading <||||||||||||||||||||||||||||||||||||||||||||||||||||||||||||||||||||||||||||||||||||||||||----------> 90 %       \r"
     ]
    },
    {
     "name": "stderr",
     "output_type": "stream",
     "text": [
      "12.05.2022 16:18:50 -- INFO -- WD: Neue Messdaten vom 2022-05-07 gefunden!\n"
     ]
    },
    {
     "name": "stdout",
     "output_type": "stream",
     "text": [
      "loading <|||||||||||||||||||||||||||||||||||||||||||||||||||||||||||||||||||||||||||||||||||||||||||||-------> 93 %       \r"
     ]
    },
    {
     "name": "stderr",
     "output_type": "stream",
     "text": [
      "12.05.2022 16:18:51 -- INFO -- WD: Neue Messdaten vom 2022-05-08 gefunden!\n"
     ]
    },
    {
     "name": "stdout",
     "output_type": "stream",
     "text": [
      "loading <|||||||||||||||||||||||||||||||||||||||||||||||||||||||||||||||||||||||||||||||||||||||||||||||-----> 95 %       \r"
     ]
    },
    {
     "name": "stderr",
     "output_type": "stream",
     "text": [
      "12.05.2022 16:18:51 -- INFO -- WD: Neue Messdaten vom 2022-05-09 gefunden!\n"
     ]
    },
    {
     "name": "stdout",
     "output_type": "stream",
     "text": [
      "loading <|||||||||||||||||||||||||||||||||||||||||||||||||||||||||||||||||||||||||||||||||||||||||||||||||---> 97 %       \r"
     ]
    },
    {
     "name": "stderr",
     "output_type": "stream",
     "text": [
      "12.05.2022 16:18:52 -- INFO -- WD: Neue Messdaten vom 2022-05-10 gefunden!\n"
     ]
    },
    {
     "name": "stdout",
     "output_type": "stream",
     "text": [
      "finished!                                                                                                                  \r"
     ]
    },
    {
     "name": "stderr",
     "output_type": "stream",
     "text": [
      "12.05.2022 16:18:52 -- INFO -- WD: Neue Messdaten vom 2022-05-11 gefunden!\n",
      "12.05.2022 16:19:01 -- INFO -- WD: Führe Post Processing durch\n",
      "12.05.2022 16:19:02 -- INFO -- WD: Starte Export!\n",
      "12.05.2022 16:19:25 -- INFO -- WD: TinkerForge Datenbank exportiert! | 2021-03-08 | 2022-05-12\n",
      "12.05.2022 16:19:25 -- WARNING -- Senden der Nachricht fehlgeschlagen: (535, b'5.7.8 Username and Password not accepted. Learn more at\\n5.7.8  https://support.google.com/mail/?p=BadCredentials k20-20020a05600c1c9400b003942a244f38sm3206200wms.17 - gsmtp')\n",
      "12.05.2022 16:19:25 -- INFO -- ------TinkerForge Update beendet!------\n",
      "12.05.2022 16:19:25 -- INFO -- ------ Starte Moline Update ------\n",
      "12.05.2022 16:19:25 -- INFO -- Reading files...\n"
     ]
    },
    {
     "name": "stdout",
     "output_type": "stream",
     "text": [
      "finished!                                                                                                                  \r"
     ]
    },
    {
     "name": "stderr",
     "output_type": "stream",
     "text": [
      "12.05.2022 16:20:34 -- INFO -- Reading files finished.\n",
      "12.05.2022 16:20:34 -- INFO -- Starting postprocessing.\n",
      "12.05.2022 16:22:03 -- INFO -- Postprocessing finished.\n",
      "12.05.2022 16:22:03 -- INFO -- Starting export to directory: \\\\nas.ads.mwn.de\\tuar\\l15\\private\\DATA\\FORSCHUNG\\04_Projekte\\2021\\Einfach_Bauen_3\\Daten\\2_datenbank.\n",
      "12.05.2022 16:22:58 -- INFO -- Molline Datenbanken exportiert! | 2021-09-02 | 2022-05-12\n",
      "12.05.2022 16:22:58 -- INFO -- ------ Molline Update beendet ------\n"
     ]
    }
   ],
   "source": [
    "#fuer graphische Darstellung\n",
    "%matplotlib inline\n",
    "\n",
    "#automatische Aktualisierung von Bibliotheken\n",
    "%load_ext autoreload    \n",
    "%autoreload 2\n",
    "\n",
    "import datetime as dt\n",
    "import os               #Pfade\n",
    "import locale           #Spracheinstellung: Deutsch (DE)\n",
    "locale.setlocale(locale.LC_ALL,'de_DE')\n",
    "from zoneinfo import ZoneInfo\n",
    "tz = ZoneInfo('Europe/Berlin')\n",
    "\n",
    "import numpy as np      #Datenmanagement Bibliothek (matritx operationen)\n",
    "import pandas as pd     #Datenmanagement Bibliothek (wie excel)\n",
    "\n",
    "import matplotlib as mpl\n",
    "import matplotlib.pyplot as plt\n",
    "plt.style.use(\".\\src\\stylesheets\\eb3.mplstyle\")     #Style-Vorlagendatei (z.B. Grids, Achsen, Schriftgroeße, etc.)\n",
    "\n",
    "#eigene Bibliotheken (importiert aus src)\n",
    "from src.project_definitions import BUID, AREA, WOHNUNGEN, ROOMS, dir_results, area\n",
    "from src.utilities import recolor_lines, export, truncate_colormap, DIN, INDOC, eb_bbox\n",
    "from src.update_databases import up\n",
    "from src.sensor_reader import import_data\n",
    "\n",
    "### update databases ###\n",
    "up()\n",
    "\n",
    "### import databases ###\n",
    "IND, AMB, EM = import_data()\n",
    "\n",
    "### export results? True = Export Graphiken für alle Räume + Bauweisen (dauert!) / False = macht nur eine definierte Variante ###\n",
    "ex  = True\n",
    "\n",
    "### result path ###\n",
    "exdir = os.path.join(dir_results,'Energiebedarf')\n",
    "if not os.path.isdir(exdir):\n",
    "    os.makedirs(exdir)"
   ]
  },
  {
   "cell_type": "markdown",
   "metadata": {},
   "source": [
    "# **Energieverbrauch**"
   ]
  },
  {
   "cell_type": "markdown",
   "metadata": {},
   "source": [
    "## **WÄRME**"
   ]
  },
  {
   "cell_type": "markdown",
   "metadata": {},
   "source": [
    "### **Wärmeenergie (total)**\n"
   ]
  },
  {
   "cell_type": "markdown",
   "metadata": {},
   "source": [
    "gesamter Zeitraum\n",
    "____"
   ]
  },
  {
   "cell_type": "code",
   "execution_count": 2,
   "metadata": {},
   "outputs": [
    {
     "name": "stdout",
     "output_type": "stream",
     "text": [
      "\\\\nas.ads.mwn.de\\tuar\\l15\\private\\DATA\\FORSCHUNG\\04_Projekte\\2021\\Einfach_Bauen_3\\Daten\\3_auswertung\\Energiebedarf\\Wärmeenergieverbrauch.pdf saved!\n"
     ]
    },
    {
     "data": {
      "image/png": "[encoded data removed]",
      "text/plain": [
       "<Figure size 453.543x340.157 with 1 Axes>"
      ]
     },
     "metadata": {
      "needs_background": "light"
     },
     "output_type": "display_data"
    }
   ],
   "source": [
    "idx = pd.IndexSlice\n",
    "df = EM.loc(axis=1)[idx[:, [\"N\", \"O\", 'S'],'HQ','H']].droplevel([2,3],axis=1)\n",
    "df = df.resample('365d').last() - df.resample('365d').first()\n",
    "df.reset_index(drop=True).round(2)\n",
    "fig,ax = plt.subplots(figsize=INDOC)\n",
    "df.stack().T.droplevel(0,axis=1).plot.bar(ax=ax,cmap = 'Accent')\n",
    "ax.set_title(f'Totaler Energieverbrauch\\nZeitraum: {(EM.index.min().strftime(\"%d.%m.%Y\"))} bis {EM.index.max().strftime(\"%d.%m.%Y\")}', fontweight = 'bold')\n",
    "ax.set_ylabel('[kWh]')\n",
    "ax.set_xticklabels(['Leichtbeton', 'Holzmassiv', 'Ziegelmauerwerk'], rotation=0)\n",
    "ax.grid(False)\n",
    "ax.legend(labels=['Nord','Ost','Süd'],loc='center right',ncol=99,bbox_to_anchor=(1,1.03),frameon=False)\n",
    "xticks=[]\n",
    "for bar in ax.patches:\n",
    "    xticks.append(bar.get_x())\n",
    "    ax.text(\n",
    "        bar.get_x() + bar.get_width() / 2,\n",
    "        bar.get_height()*0.5 + bar.get_y(),\n",
    "        f\"{round(bar.get_height(),0):.0f}\",\n",
    "        ha='center',\n",
    "        color='w',\n",
    "        weight='bold',\n",
    "        )\n",
    "\n",
    "fig.tight_layout()\n",
    "if ex:\n",
    "    export(fig,exdir,'Wärmeenergieverbrauch',extlist=['pdf'], show=True)"
   ]
  },
  {
   "cell_type": "markdown",
   "metadata": {},
   "source": [
    "### **Wärmeenergie (spezifisch)**\n"
   ]
  },
  {
   "cell_type": "markdown",
   "metadata": {},
   "source": [
    "Winter\n",
    "____"
   ]
  },
  {
   "cell_type": "code",
   "execution_count": 3,
   "metadata": {},
   "outputs": [
    {
     "name": "stdout",
     "output_type": "stream",
     "text": [
      "\\\\nas.ads.mwn.de\\tuar\\l15\\private\\DATA\\FORSCHUNG\\04_Projekte\\2021\\Einfach_Bauen_3\\Daten\\3_auswertung\\Energiebedarf\\Wärmeenergieverbrauch_spezifisch_Winter.pdf saved!\n"
     ]
    },
    {
     "data": {
      "image/png": "[encoded data removed]",
      "text/plain": [
       "<Figure size 453.543x340.157 with 1 Axes>"
      ]
     },
     "metadata": {
      "needs_background": "light"
     },
     "output_type": "display_data"
    }
   ],
   "source": [
    "idx = pd.IndexSlice\n",
    "startdate = dt.datetime(2021,9,2,tzinfo=tz)\n",
    "enddate = dt.datetime(2022,2,22, tzinfo=tz)\n",
    "df = EM.loc(axis=1)[idx[:, [\"N\", \"O\", 'S'],'HQ','H']].droplevel([2,3],axis=1)\n",
    "df = df.loc[startdate:enddate]\n",
    "df = df.resample('5000d').last() - df.resample('5000d').first()\n",
    "df = df.reset_index(drop=True).div(AREA,level=1).round(2)\n",
    "fig,ax = plt.subplots(figsize=INDOC)\n",
    "df.stack().T.droplevel(0,axis=1).plot.bar(ax=ax,cmap = 'Accent')\n",
    "ax.set_title(f'Spezifischer Energieverbrauch\\nZeitraum: {(startdate.strftime(\"%d.%m.%Y\"))} bis {enddate.strftime(\"%d.%m.%Y\")}', fontweight = 'bold')\n",
    "ax.set_ylabel('[kWh]')\n",
    "ax.set_xticklabels(['Leichtbeton', 'Holzmassiv', 'Ziegelmauerwerk'], rotation=0)\n",
    "ax.grid(False)\n",
    "ax.legend(labels=['Nord','Ost','Süd'],loc='center right',ncol=99,bbox_to_anchor=(1,1.03),frameon=False)\n",
    "xticks=[]\n",
    "for bar in ax.patches:\n",
    "    xticks.append(bar.get_x())\n",
    "    ax.text(\n",
    "        bar.get_x() + bar.get_width() / 2,\n",
    "        bar.get_height()*0.5 + bar.get_y(),\n",
    "        f\"{round(bar.get_height(),0):.0f}\",\n",
    "        ha='center',\n",
    "        color='w',\n",
    "        weight='bold',\n",
    "        )\n",
    "\n",
    "fig.tight_layout()\n",
    "if ex:\n",
    "    export(fig,exdir,'Wärmeenergieverbrauch_spezifisch_Winter',extlist=['pdf'], show=True)"
   ]
  },
  {
   "cell_type": "markdown",
   "metadata": {},
   "source": [
    "gesamter Zeitraum\n",
    "___"
   ]
  },
  {
   "cell_type": "code",
   "execution_count": 4,
   "metadata": {},
   "outputs": [
    {
     "name": "stdout",
     "output_type": "stream",
     "text": [
      "\\\\nas.ads.mwn.de\\tuar\\l15\\private\\DATA\\FORSCHUNG\\04_Projekte\\2021\\Einfach_Bauen_3\\Daten\\3_auswertung\\Energiebedarf\\spezifischer_Wärmeenergieverbrauch.pdf saved!\n"
     ]
    },
    {
     "data": {
      "image/png": "[encoded data removed]",
      "text/plain": [
       "<Figure size 453.543x340.157 with 1 Axes>"
      ]
     },
     "metadata": {
      "needs_background": "light"
     },
     "output_type": "display_data"
    }
   ],
   "source": [
    "idx = pd.IndexSlice\n",
    "df = EM.loc(axis=1)[idx[:, [\"N\", \"O\",'S'],'HQ','H']].droplevel([2,3],axis=1)\n",
    "df = df.resample('365d').last() - df.resample('365d').first()\n",
    "df = df.reset_index(drop=True).div(AREA,level=1).round(2)\n",
    "fig,ax = plt.subplots(figsize=INDOC)\n",
    "df.stack().T.droplevel(0,axis=1).plot.bar(ax=ax,cmap = 'Accent')\n",
    "ax.set_title(f'Spezifischer Energieverbrauch\\nZeitraum: {(EM.index.min().strftime(\"%d.%m.%Y\"))} bis {EM.index.max().strftime(\"%d.%m.%Y\")}', fontweight = 'bold', y=1.08)\n",
    "ax.set_ylabel('[kWh / m²]')\n",
    "ax.set_xticklabels(['Leichtbeton', 'Holzmassiv', 'Ziegelmauerwerk'], rotation=0)\n",
    "ax.grid(False)\n",
    "ax.legend(labels=['Nord','Ost','Süd'],loc='center right',ncol=99,bbox_to_anchor=(1,1.03),frameon=False)\n",
    "xticks=[]\n",
    "for bar in ax.patches:\n",
    "    xticks.append(bar.get_x())\n",
    "    ax.text(\n",
    "        bar.get_x() + bar.get_width() / 2,\n",
    "        bar.get_height()*0.5 + bar.get_y(),\n",
    "        f\"{bar.get_height():.0f}\",\n",
    "        ha='center',\n",
    "        color='w',\n",
    "        weight='bold',\n",
    "        )\n",
    "\n",
    "fig.tight_layout()\n",
    "if ex:\n",
    "    export(fig,exdir,'spezifischer_Wärmeenergieverbrauch',extlist=['pdf'], show=True)"
   ]
  },
  {
   "cell_type": "markdown",
   "metadata": {},
   "source": [
    "### **Wärmeenergie (kumuliert)**"
   ]
  },
  {
   "cell_type": "markdown",
   "metadata": {},
   "source": [
    "gesamter Zeitraum\n",
    "____"
   ]
  },
  {
   "cell_type": "code",
   "execution_count": 5,
   "metadata": {},
   "outputs": [
    {
     "name": "stdout",
     "output_type": "stream",
     "text": [
      "\\\\nas.ads.mwn.de\\tuar\\l15\\private\\DATA\\FORSCHUNG\\04_Projekte\\2021\\Einfach_Bauen_3\\Daten\\3_auswertung\\Energiebedarf\\Wärmeenergieverbrauch_kumuliert.pdf saved!\n"
     ]
    },
    {
     "data": {
      "image/png": "[encoded data removed]",
      "text/plain": [
       "<Figure size 453.543x340.157 with 3 Axes>"
      ]
     },
     "metadata": {
      "needs_background": "light"
     },
     "output_type": "display_data"
    }
   ],
   "source": [
    "fig, axs = plt.subplots(1,3,sharex=True, sharey=True,figsize=INDOC)\n",
    "fig.suptitle(f'Wärmemengenzähler',y=1.01)\n",
    "for b, bui in enumerate(BUID):\n",
    "    df = EM.loc(axis=1)[idx[bui,['N','O','S'],'HQ','H']].droplevel([0,2,3],axis=1).resample('H').last()\n",
    "    (df - df.min()).plot(ax=axs[b], cmap = 'Accent')\n",
    "    axs[b].legend(labels=['Nord','Ost','Süd'],loc='center right',ncol=99,bbox_to_anchor=(1,1.03),frameon=False)\n",
    "    axs[b].set_title(f'{BUID[bui]}',y=1.05)\n",
    "axs[0].set_ylabel(f'[kWh]')\n",
    "if ex:\n",
    "    export(fig,exdir,'Wärmeenergieverbrauch_kumuliert',extlist=['pdf'], show=True)"
   ]
  },
  {
   "cell_type": "markdown",
   "metadata": {},
   "source": [
    "## **STROM**"
   ]
  },
  {
   "cell_type": "markdown",
   "metadata": {},
   "source": [
    "### Stromverbrauch (spezifisch)"
   ]
  },
  {
   "cell_type": "code",
   "execution_count": 6,
   "metadata": {},
   "outputs": [
    {
     "name": "stdout",
     "output_type": "stream",
     "text": [
      "\\\\nas.ads.mwn.de\\tuar\\l15\\private\\DATA\\FORSCHUNG\\04_Projekte\\2021\\Einfach_Bauen_3\\Daten\\3_auswertung\\Energiebedarf\\Stromverbrauch_spezifisch_normalisiert.pdf saved!\n"
     ]
    },
    {
     "data": {
      "image/png": "[encoded data removed]",
      "text/plain": [
       "<Figure size 453.543x340.157 with 1 Axes>"
      ]
     },
     "metadata": {
      "needs_background": "light"
     },
     "output_type": "display_data"
    }
   ],
   "source": [
    "Normalize = True\n",
    "\n",
    "Stromverbrauch = pd.read_csv('.\\src\\Stromzähler.csv', header=[0,1], index_col=[0], sep=';')\n",
    "Stromverbrauch.index = pd.to_datetime(Stromverbrauch.index,format='%d.%m.%Y')\n",
    "if Normalize:\n",
    "    start = dt.datetime(2021,6,1)\n",
    "    sollT = dt.date.today()-start.date()\n",
    "    dfs=[]\n",
    "    idx=[]\n",
    "    for name, group in Stromverbrauch.groupby(level=[0,1],axis=1):\n",
    "        group = group.dropna()\n",
    "        deltaT = group.index.max()-group.index.min()\n",
    "        df = (group.max() / deltaT.days) * sollT.days\n",
    "        cols = df.index\n",
    "        idx.extend(cols)\n",
    "        dfs.append(df.values)\n",
    "    idx = pd.MultiIndex.from_tuples(idx)\n",
    "    date = group.index\n",
    "    df = pd.DataFrame(dfs, index=idx, columns=[group.index.max()]).T\n",
    "else:\n",
    "    df = pd.DataFrame(Stromverbrauch.loc[Stromverbrauch.index.max(),:]).T\n",
    "    date = Stromverbrauch.index\n",
    "\n",
    "df = df.reset_index(drop=True).div(AREA,level=1).round(2)\n",
    "\n",
    "\n",
    "df = df.stack().T.droplevel(0,axis=1)\n",
    "\n",
    "fig,ax = plt.subplots(figsize=INDOC)\n",
    "df.plot.bar(ax=ax,cmap = 'Accent')\n",
    "\n",
    "if Normalize:\n",
    "    title = 'Spezifischer Stromverbrauch (normalisiert)'\n",
    "    fname = 'normalisiert'\n",
    "    ax.set_title(f'{title}\\nZeitraum: {start.strftime(\"%d.%m.%Y\")} bis {date.max().strftime(\"%d.%m.%Y\")}', fontweight = 'bold')\n",
    "else:\n",
    "    title = 'Spezifischer Stromverbrauch (absolut)'\n",
    "    fname = 'absolut'\n",
    "    ax.set_title(f'{title}\\nletztes Ablesedatum: {date.max().strftime(\"%d.%m.%Y\")}', fontweight = 'bold')\n",
    "ax.set_ylabel('[kWh / m²]')\n",
    "ax.set_xticklabels(['Leichtbeton', 'Holzmassiv', 'Ziegelmauerwerk'], rotation=0)\n",
    "ax.grid(False)\n",
    "ax.legend(labels=['Nord','Ost','Süd'],loc='center right',ncol=99,bbox_to_anchor=(1,1.03),frameon=False)\n",
    "xticks=[]\n",
    "for bar in ax.patches:\n",
    "    xticks.append(bar.get_x())\n",
    "\n",
    "    ax.text(\n",
    "        bar.get_x() + bar.get_width() / 2,\n",
    "        bar.get_height()*0.5 + bar.get_y(),\n",
    "        f\"{round(bar.get_height(),0):.0f}\",\n",
    "        ha='center',\n",
    "        color='w',\n",
    "        weight='bold',\n",
    "        )\n",
    "\n",
    "fig.tight_layout()\n",
    "if ex:\n",
    "    export(fig,exdir,f'Stromverbrauch_spezifisch_{fname}',extlist=['pdf'], show=True)"
   ]
  },
  {
   "cell_type": "markdown",
   "metadata": {},
   "source": [
    "### Stromverbrauch (gesamt)"
   ]
  },
  {
   "cell_type": "code",
   "execution_count": 7,
   "metadata": {},
   "outputs": [
    {
     "name": "stdout",
     "output_type": "stream",
     "text": [
      "\\\\nas.ads.mwn.de\\tuar\\l15\\private\\DATA\\FORSCHUNG\\04_Projekte\\2021\\Einfach_Bauen_3\\Daten\\3_auswertung\\Energiebedarf\\Stromverbrauch_total_normalisiert.pdf saved!\n"
     ]
    },
    {
     "data": {
      "image/png": "[encoded data removed]",
      "text/plain": [
       "<Figure size 453.543x340.157 with 1 Axes>"
      ]
     },
     "metadata": {
      "needs_background": "light"
     },
     "output_type": "display_data"
    }
   ],
   "source": [
    "Normalize = True\n",
    "\n",
    "Stromverbrauch = pd.read_csv('.\\src\\Stromzähler.csv', header=[0,1], index_col=[0], sep=';')\n",
    "Stromverbrauch.index = pd.to_datetime(Stromverbrauch.index,format='%d.%m.%Y')\n",
    "if Normalize:\n",
    "    start = dt.datetime(2021,6,1)\n",
    "    sollT = dt.date.today()-start.date()\n",
    "    dfs=[]\n",
    "    idx=[]\n",
    "    for name, group in Stromverbrauch.groupby(level=[0,1],axis=1):\n",
    "        group = group.dropna()\n",
    "        deltaT = group.index.max()-group.index.min()\n",
    "        df = (group.max() / deltaT.days) * sollT.days\n",
    "        cols = df.index\n",
    "        idx.extend(cols)\n",
    "        dfs.append(df.values)\n",
    "    idx = pd.MultiIndex.from_tuples(idx)\n",
    "    date = group.index\n",
    "    df = pd.DataFrame(dfs, index=idx, columns=[group.index.max()]).T\n",
    "else:\n",
    "    df = pd.DataFrame(Stromverbrauch.loc[Stromverbrauch.index.max(),:]).T\n",
    "    date = Stromverbrauch.index\n",
    "\n",
    "df = df.stack().T.droplevel(0,axis=1)\n",
    "\n",
    "fig,ax = plt.subplots(figsize=INDOC)\n",
    "df.plot.bar(ax=ax,cmap = 'Accent')\n",
    "\n",
    "if Normalize:\n",
    "    title = 'Totaler Stromverbrauch (normalisiert)'\n",
    "    fname = 'normalisiert'\n",
    "    ax.set_title(f'{title}\\nZeitraum: {start.strftime(\"%d.%m.%Y\")} bis {date.max().strftime(\"%d.%m.%Y\")}', fontweight = 'bold')\n",
    "else:\n",
    "    title = 'Totaler Stromverbrauch (absolut)'\n",
    "    fname = 'absolut'\n",
    "    ax.set_title(f'{title}\\nletztes Ablesedatum: {date.max().strftime(\"%d.%m.%Y\")}', fontweight = 'bold')\n",
    "ax.set_ylabel('[kWh / m²]')\n",
    "ax.set_xticklabels(['Leichtbeton', 'Holzmassiv', 'Ziegelmauerwerk'], rotation=0)\n",
    "ax.grid(False)\n",
    "ax.legend(labels=['Nord','Ost','Süd'],loc='center right',ncol=99,bbox_to_anchor=(1,1.03),frameon=False)\n",
    "xticks=[]\n",
    "for bar in ax.patches:\n",
    "    xticks.append(bar.get_x())\n",
    "\n",
    "    ax.text(\n",
    "        bar.get_x() + bar.get_width() / 2,\n",
    "        bar.get_height()*0.5 + bar.get_y(),\n",
    "        f\"{round(bar.get_height(),0):.0f}\",\n",
    "        ha='center',\n",
    "        color='w',\n",
    "        weight='bold',\n",
    "        )\n",
    "\n",
    "fig.tight_layout()\n",
    "if ex:\n",
    "    export(fig,exdir,f'Stromverbrauch_total_{fname}',extlist=['pdf'], show=True)"
   ]
  },
  {
   "cell_type": "markdown",
   "metadata": {},
   "source": [
    "### Stromverbrauch (Winter)"
   ]
  },
  {
   "cell_type": "code",
   "execution_count": 8,
   "metadata": {},
   "outputs": [
    {
     "name": "stdout",
     "output_type": "stream",
     "text": [
      "\\\\nas.ads.mwn.de\\tuar\\l15\\private\\DATA\\FORSCHUNG\\04_Projekte\\2021\\Einfach_Bauen_3\\Daten\\3_auswertung\\Energiebedarf\\Stromverbrauch_total_Winter.pdf saved!\n"
     ]
    },
    {
     "data": {
      "image/png": "[encoded data removed]",
      "text/plain": [
       "<Figure size 453.543x340.157 with 1 Axes>"
      ]
     },
     "metadata": {
      "needs_background": "light"
     },
     "output_type": "display_data"
    }
   ],
   "source": [
    "Normalize = True\n",
    "\n",
    "Stromverbrauch = pd.read_csv('.\\src\\Stromzähler.csv', header=[0,1], index_col=[0], sep=';')\n",
    "Stromverbrauch.index = pd.to_datetime(Stromverbrauch.index,format='%d.%m.%Y')\n",
    "if Normalize:\n",
    "    start = dt.datetime(2021,9,2)\n",
    "    sollT = dt.date.today()-start.date()\n",
    "    dfs=[]\n",
    "    idx=[]\n",
    "    for name, group in Stromverbrauch.groupby(level=[0,1],axis=1):\n",
    "        group = group.dropna()\n",
    "        deltaT = group.index.max()-group.index.min()\n",
    "        df = (group.max() / deltaT.days) * sollT.days\n",
    "        cols = df.index\n",
    "        idx.extend(cols)\n",
    "        dfs.append(df.values)\n",
    "    idx = pd.MultiIndex.from_tuples(idx)\n",
    "    date = group.index\n",
    "    df = pd.DataFrame(dfs, index=idx, columns=[group.index.max()]).T\n",
    "else:\n",
    "    df = pd.DataFrame(Stromverbrauch.loc[Stromverbrauch.index.max(),:]).T\n",
    "    date = Stromverbrauch.index\n",
    "\n",
    "df = df.stack().T.droplevel(0,axis=1)\n",
    "\n",
    "fig,ax = plt.subplots(figsize=INDOC)\n",
    "df.plot.bar(ax=ax,cmap = 'Accent')\n",
    "\n",
    "if Normalize:\n",
    "    title = 'Totaler Stromverbrauch (Winter)'\n",
    "    fname = 'Winter'\n",
    "    ax.set_title(f'{title}\\nZeitraum: {start.strftime(\"%d.%m.%Y\")} bis {date.max().strftime(\"%d.%m.%Y\")}', fontweight = 'bold')\n",
    "else:\n",
    "    title = 'Totaler Stromverbrauch (absolut)'\n",
    "    fname = 'absolut'\n",
    "    ax.set_title(f'{title}\\nletztes Ablesedatum: {date.max().strftime(\"%d.%m.%Y\")}', fontweight = 'bold')\n",
    "ax.set_ylabel('[kWh / m²]')\n",
    "ax.set_xticklabels(['Leichtbeton', 'Holzmassiv', 'Ziegelmauerwerk'], rotation=0)\n",
    "ax.grid(False)\n",
    "ax.legend(labels=['Nord','Ost','Süd'],loc='center right',ncol=99,bbox_to_anchor=(1,1.03),frameon=False)\n",
    "xticks=[]\n",
    "for bar in ax.patches:\n",
    "    xticks.append(bar.get_x())\n",
    "\n",
    "    ax.text(\n",
    "        bar.get_x() + bar.get_width() / 2,\n",
    "        bar.get_height()*0.5 + bar.get_y(),\n",
    "        f\"{round(bar.get_height(),0):.0f}\",\n",
    "        ha='center',\n",
    "        color='w',\n",
    "        weight='bold',\n",
    "        )\n",
    "\n",
    "fig.tight_layout()\n",
    "if ex:\n",
    "    export(fig,exdir,f'Stromverbrauch_total_{fname}',extlist=['pdf'], show=True)"
   ]
  },
  {
   "cell_type": "code",
   "execution_count": 9,
   "metadata": {},
   "outputs": [
    {
     "data": {
      "text/html": [
       "<div>\n",
       "<style scoped>\n",
       "    .dataframe tbody tr th:only-of-type {\n",
       "        vertical-align: middle;\n",
       "    }\n",
       "\n",
       "    .dataframe tbody tr th {\n",
       "        vertical-align: top;\n",
       "    }\n",
       "\n",
       "    .dataframe thead tr th {\n",
       "        text-align: left;\n",
       "    }\n",
       "</style>\n",
       "<table border=\"1\" class=\"dataframe\">\n",
       "  <thead>\n",
       "    <tr>\n",
       "      <th></th>\n",
       "      <th>MH</th>\n",
       "      <th>MW</th>\n",
       "      <th>LB</th>\n",
       "      <th>MH</th>\n",
       "      <th>MW</th>\n",
       "      <th>LB</th>\n",
       "      <th>MH</th>\n",
       "      <th>MW</th>\n",
       "      <th>LB</th>\n",
       "    </tr>\n",
       "    <tr>\n",
       "      <th>Datetime</th>\n",
       "      <th>N</th>\n",
       "      <th>N</th>\n",
       "      <th>N</th>\n",
       "      <th>O</th>\n",
       "      <th>O</th>\n",
       "      <th>O</th>\n",
       "      <th>S</th>\n",
       "      <th>S</th>\n",
       "      <th>S</th>\n",
       "    </tr>\n",
       "  </thead>\n",
       "  <tbody>\n",
       "    <tr>\n",
       "      <th>2020-07-01</th>\n",
       "      <td>NaN</td>\n",
       "      <td>NaN</td>\n",
       "      <td>0.0</td>\n",
       "      <td>NaN</td>\n",
       "      <td>NaN</td>\n",
       "      <td>0.0</td>\n",
       "      <td>NaN</td>\n",
       "      <td>NaN</td>\n",
       "      <td>0.0</td>\n",
       "    </tr>\n",
       "    <tr>\n",
       "      <th>2020-10-01</th>\n",
       "      <td>NaN</td>\n",
       "      <td>NaN</td>\n",
       "      <td>NaN</td>\n",
       "      <td>0.0</td>\n",
       "      <td>0.0</td>\n",
       "      <td>NaN</td>\n",
       "      <td>NaN</td>\n",
       "      <td>NaN</td>\n",
       "      <td>NaN</td>\n",
       "    </tr>\n",
       "    <tr>\n",
       "      <th>2021-03-01</th>\n",
       "      <td>NaN</td>\n",
       "      <td>NaN</td>\n",
       "      <td>NaN</td>\n",
       "      <td>NaN</td>\n",
       "      <td>NaN</td>\n",
       "      <td>NaN</td>\n",
       "      <td>NaN</td>\n",
       "      <td>0.0</td>\n",
       "      <td>NaN</td>\n",
       "    </tr>\n",
       "    <tr>\n",
       "      <th>2021-04-01</th>\n",
       "      <td>NaN</td>\n",
       "      <td>0.0</td>\n",
       "      <td>NaN</td>\n",
       "      <td>NaN</td>\n",
       "      <td>NaN</td>\n",
       "      <td>NaN</td>\n",
       "      <td>NaN</td>\n",
       "      <td>NaN</td>\n",
       "      <td>NaN</td>\n",
       "    </tr>\n",
       "    <tr>\n",
       "      <th>2021-05-01</th>\n",
       "      <td>0.0</td>\n",
       "      <td>NaN</td>\n",
       "      <td>NaN</td>\n",
       "      <td>NaN</td>\n",
       "      <td>NaN</td>\n",
       "      <td>NaN</td>\n",
       "      <td>NaN</td>\n",
       "      <td>NaN</td>\n",
       "      <td>NaN</td>\n",
       "    </tr>\n",
       "    <tr>\n",
       "      <th>2021-06-01</th>\n",
       "      <td>NaN</td>\n",
       "      <td>NaN</td>\n",
       "      <td>NaN</td>\n",
       "      <td>NaN</td>\n",
       "      <td>NaN</td>\n",
       "      <td>NaN</td>\n",
       "      <td>0.0</td>\n",
       "      <td>NaN</td>\n",
       "      <td>NaN</td>\n",
       "    </tr>\n",
       "    <tr>\n",
       "      <th>2022-02-22</th>\n",
       "      <td>670.0</td>\n",
       "      <td>1567.0</td>\n",
       "      <td>1716.0</td>\n",
       "      <td>1066.0</td>\n",
       "      <td>985.0</td>\n",
       "      <td>1138.0</td>\n",
       "      <td>629.0</td>\n",
       "      <td>935.0</td>\n",
       "      <td>1656.0</td>\n",
       "    </tr>\n",
       "    <tr>\n",
       "      <th>2022-03-31</th>\n",
       "      <td>761.0</td>\n",
       "      <td>1753.0</td>\n",
       "      <td>1844.0</td>\n",
       "      <td>1165.0</td>\n",
       "      <td>1085.0</td>\n",
       "      <td>1244.0</td>\n",
       "      <td>720.0</td>\n",
       "      <td>1051.0</td>\n",
       "      <td>1794.0</td>\n",
       "    </tr>\n",
       "  </tbody>\n",
       "</table>\n",
       "</div>"
      ],
      "text/plain": [
       "               MH      MW      LB      MH      MW      LB     MH      MW  \\\n",
       "Datetime        N       N       N       O       O       O      S       S   \n",
       "2020-07-01    NaN     NaN     0.0     NaN     NaN     0.0    NaN     NaN   \n",
       "2020-10-01    NaN     NaN     NaN     0.0     0.0     NaN    NaN     NaN   \n",
       "2021-03-01    NaN     NaN     NaN     NaN     NaN     NaN    NaN     0.0   \n",
       "2021-04-01    NaN     0.0     NaN     NaN     NaN     NaN    NaN     NaN   \n",
       "2021-05-01    0.0     NaN     NaN     NaN     NaN     NaN    NaN     NaN   \n",
       "2021-06-01    NaN     NaN     NaN     NaN     NaN     NaN    0.0     NaN   \n",
       "2022-02-22  670.0  1567.0  1716.0  1066.0   985.0  1138.0  629.0   935.0   \n",
       "2022-03-31  761.0  1753.0  1844.0  1165.0  1085.0  1244.0  720.0  1051.0   \n",
       "\n",
       "                LB  \n",
       "Datetime         S  \n",
       "2020-07-01     0.0  \n",
       "2020-10-01     NaN  \n",
       "2021-03-01     NaN  \n",
       "2021-04-01     NaN  \n",
       "2021-05-01     NaN  \n",
       "2021-06-01     NaN  \n",
       "2022-02-22  1656.0  \n",
       "2022-03-31  1794.0  "
      ]
     },
     "execution_count": 9,
     "metadata": {},
     "output_type": "execute_result"
    }
   ],
   "source": [
    "Stromverbrauch"
   ]
  },
  {
   "cell_type": "code",
   "execution_count": 10,
   "metadata": {},
   "outputs": [],
   "source": [
    "plt.style.use('./src/stylesheets/eb3_präsi.mplstyle')"
   ]
  },
  {
   "cell_type": "code",
   "execution_count": 11,
   "metadata": {},
   "outputs": [
    {
     "name": "stderr",
     "output_type": "stream",
     "text": [
      "C:\\Users\\gu98zes\\AppData\\Local\\Temp/ipykernel_7196/3038328937.py:9: FutureWarning: Indexing a timezone-aware DatetimeIndex with a timezone-naive datetime is deprecated and will raise KeyError in a future version.  Use a timezone-aware object instead.\n",
      "  df1 = df1.loc[startdate:enddate]\n"
     ]
    },
    {
     "name": "stdout",
     "output_type": "stream",
     "text": [
      "\\\\nas.ads.mwn.de\\tuar\\l15\\private\\DATA\\FORSCHUNG\\04_Projekte\\2021\\Einfach_Bauen_3\\Daten\\3_auswertung\\Energiebedarf\\Spez.Energieverbrauch_App.png saved!\n"
     ]
    },
    {
     "data": {
      "image/png": "[encoded data removed]",
      "text/plain": [
       "<Figure size 568.8x338.4 with 1 Axes>"
      ]
     },
     "metadata": {
      "needs_background": "light"
     },
     "output_type": "display_data"
    }
   ],
   "source": [
    "Normalize = True\n",
    "\n",
    "idx = pd.IndexSlice\n",
    "\n",
    "startdate = dt.datetime(2021,9,2)\n",
    "enddate = dt.datetime(2022,3,31)\n",
    "\n",
    "df1 = EM.loc(axis=1)[idx[:, [\"N\", \"O\", 'S'],'HQ','H']].droplevel([2,3],axis=1)\n",
    "df1 = df1.loc[startdate:enddate]\n",
    "df1 = df1.resample('5000d').last() - df1.resample('5000d').first()\n",
    "df1 = df1.reset_index(drop=True).div(AREA,level=1).round(2)\n",
    "df1 = df1.stack().T.droplevel(0,axis=1)\n",
    "Stromverbrauch = pd.read_csv('.\\src\\Stromzähler.csv', header=[0,1], index_col=[0], sep=';')\n",
    "Stromverbrauch.index = pd.to_datetime(Stromverbrauch.index,format='%d.%m.%Y')\n",
    "if Normalize:\n",
    "    sollT = dt.date.today() - startdate.date()\n",
    "    dfs=[]\n",
    "    idx=[]\n",
    "    for name, group in Stromverbrauch.groupby(level=[0,1],axis=1):\n",
    "        group = group.dropna()\n",
    "        deltaT = group.index.max()-group.index.min()\n",
    "        df = (group.max() / deltaT.days) * sollT.days\n",
    "        cols = df.index\n",
    "        idx.extend(cols)\n",
    "        dfs.append(df.values)\n",
    "    idx = pd.MultiIndex.from_tuples(idx)\n",
    "    df = pd.DataFrame(dfs, index=idx, columns=[group.index.max()]).T\n",
    "else:\n",
    "    df = pd.DataFrame(Stromverbrauch.loc[Stromverbrauch.index.max(),:]).T\n",
    "\n",
    "df = df.reset_index(drop=True).div(AREA,level=1).round(2)\n",
    "\n",
    "\n",
    "df = df.stack().T.droplevel(0,axis=1)\n",
    "df = pd.concat([df1.unstack(), df.unstack()], axis=1, keys=['Wärme','Strom'])\n",
    "\n",
    "fig, ax = plt.subplots()\n",
    "xticks = []\n",
    "xlabels = []\n",
    "xmajor = []\n",
    "for i, app in enumerate(df.index.get_level_values(0).unique()):\n",
    "    xmajor.append(WOHNUNGEN[app])\n",
    "    for j, bui in zip([-0.25,0,0.25], BUID):\n",
    "        w1, = ax.bar(i+j, df.loc[(app, bui)]['Wärme'], width=0.25, color=mpl.cm.Accent(0))\n",
    "        w2, = ax.bar(i+j, df.loc[(app, bui)]['Strom'], width=0.25, bottom=df.loc[(app, bui)]['Wärme'], color=mpl.cm.Accent(100))\n",
    "        xticks.append(i+j)\n",
    "        xlabels.append(bui)\n",
    "\n",
    "for bar in ax.patches:\n",
    "    ax.text(\n",
    "        bar.get_x() + bar.get_width() / 2,\n",
    "        bar.get_height()*0.5 + bar.get_y(),\n",
    "        f\"{round(bar.get_height(),0):.0f}\",\n",
    "        ha='center',\n",
    "        va='center',\n",
    "        color='w',\n",
    "        weight='bold',\n",
    "        )\n",
    "        \n",
    "ax.set_xticks(xticks, minor=True)\n",
    "ax.set_xticklabels(xlabels, minor=True)\n",
    "ax.xaxis.remove_overlapping_locs = False\n",
    "ax.set_xticks([0,1,2], minor=False)\n",
    "ax.set_xticklabels(xmajor, minor=False)\n",
    "ax.tick_params(axis='x', which='major', length=16, width=0)\n",
    "\n",
    "ax.grid(False, which='both')\n",
    "ax.legend(handles=[w1, w2], labels = ['Heizung + TWW', 'Geräte'], loc='center right',ncol=99,bbox_to_anchor=(1,1.03),frameon=False)\n",
    "fig.suptitle(f'Thermischer Energieverbrauch Winter 2021/22')\n",
    "ax.set_title(f'Zeitraum: {startdate.strftime(\"%d.%m.%Y\")} bis {enddate.strftime(\"%d.%m.%Y\")}', fontweight = 'normal', fontsize = \"medium\")\n",
    "ax.set_ylabel('[kWh / m²]', fontsize = \"medium\")\n",
    "fig.tight_layout()\n",
    "\n",
    "if ex:\n",
    "    export(fig,exdir,f'Spez.Energieverbrauch_App',extlist=['png'], show=True)"
   ]
  },
  {
   "cell_type": "code",
   "execution_count": 12,
   "metadata": {},
   "outputs": [
    {
     "data": {
      "text/html": [
       "<div>\n",
       "<style scoped>\n",
       "    .dataframe tbody tr th:only-of-type {\n",
       "        vertical-align: middle;\n",
       "    }\n",
       "\n",
       "    .dataframe tbody tr th {\n",
       "        vertical-align: top;\n",
       "    }\n",
       "\n",
       "    .dataframe thead th {\n",
       "        text-align: right;\n",
       "    }\n",
       "</style>\n",
       "<table border=\"1\" class=\"dataframe\">\n",
       "  <thead>\n",
       "    <tr style=\"text-align: right;\">\n",
       "      <th></th>\n",
       "      <th></th>\n",
       "      <th>Wärme</th>\n",
       "      <th>Strom</th>\n",
       "    </tr>\n",
       "  </thead>\n",
       "  <tbody>\n",
       "    <tr>\n",
       "      <th rowspan=\"3\" valign=\"top\">N</th>\n",
       "      <th>LB</th>\n",
       "      <td>65.54</td>\n",
       "      <td>11.79</td>\n",
       "    </tr>\n",
       "    <tr>\n",
       "      <th>MH</th>\n",
       "      <td>41.55</td>\n",
       "      <td>9.30</td>\n",
       "    </tr>\n",
       "    <tr>\n",
       "      <th>MW</th>\n",
       "      <td>61.77</td>\n",
       "      <td>19.65</td>\n",
       "    </tr>\n",
       "    <tr>\n",
       "      <th rowspan=\"3\" valign=\"top\">O</th>\n",
       "      <th>LB</th>\n",
       "      <td>10.22</td>\n",
       "      <td>19.93</td>\n",
       "    </tr>\n",
       "    <tr>\n",
       "      <th>MH</th>\n",
       "      <td>13.75</td>\n",
       "      <td>21.81</td>\n",
       "    </tr>\n",
       "    <tr>\n",
       "      <th>MW</th>\n",
       "      <td>17.36</td>\n",
       "      <td>20.32</td>\n",
       "    </tr>\n",
       "    <tr>\n",
       "      <th rowspan=\"3\" valign=\"top\">S</th>\n",
       "      <th>LB</th>\n",
       "      <td>69.18</td>\n",
       "      <td>11.52</td>\n",
       "    </tr>\n",
       "    <tr>\n",
       "      <th>MH</th>\n",
       "      <td>44.28</td>\n",
       "      <td>9.73</td>\n",
       "    </tr>\n",
       "    <tr>\n",
       "      <th>MW</th>\n",
       "      <td>93.06</td>\n",
       "      <td>10.90</td>\n",
       "    </tr>\n",
       "  </tbody>\n",
       "</table>\n",
       "</div>"
      ],
      "text/plain": [
       "      Wärme  Strom\n",
       "N LB  65.54  11.79\n",
       "  MH  41.55   9.30\n",
       "  MW  61.77  19.65\n",
       "O LB  10.22  19.93\n",
       "  MH  13.75  21.81\n",
       "  MW  17.36  20.32\n",
       "S LB  69.18  11.52\n",
       "  MH  44.28   9.73\n",
       "  MW  93.06  10.90"
      ]
     },
     "execution_count": 12,
     "metadata": {},
     "output_type": "execute_result"
    }
   ],
   "source": [
    "df"
   ]
  },
  {
   "cell_type": "code",
   "execution_count": 13,
   "metadata": {},
   "outputs": [
    {
     "name": "stdout",
     "output_type": "stream",
     "text": [
      "\\\\nas.ads.mwn.de\\tuar\\l15\\private\\DATA\\FORSCHUNG\\04_Projekte\\2021\\Einfach_Bauen_3\\Daten\\3_auswertung\\Energiebedarf\\Therm_Energieverbrauch_Bui.png saved!\n"
     ]
    },
    {
     "data": {
      "image/png": "[encoded data removed]",
      "text/plain": [
       "<Figure size 568.8x338.4 with 1 Axes>"
      ]
     },
     "metadata": {
      "needs_background": "light"
     },
     "output_type": "display_data"
    }
   ],
   "source": [
    "fig, ax = plt.subplots()\n",
    "xticks = []\n",
    "xlabels = []\n",
    "xmajor = []\n",
    "for i, app in zip([-0.25,0,0.25], df.index.get_level_values(0).unique()):\n",
    "    \n",
    "    for j, bui in enumerate(BUID):\n",
    "        w1, = ax.bar(i+j, df.loc[(app, bui)]['Wärme'], width=0.2, color=mpl.cm.Accent(0))\n",
    "        w2, = ax.bar(i+j, df.loc[(app, bui)]['Strom'], width=0.2, bottom=df.loc[(app, bui)]['Wärme'], color=mpl.cm.Accent(100))\n",
    "        xticks.append(i+j)\n",
    "        xlabels.append(app)\n",
    "        xmajor.append(BUID[bui])\n",
    "\n",
    "for bar in ax.patches:\n",
    "    ax.text(\n",
    "        bar.get_x() + bar.get_width() / 2,\n",
    "        bar.get_height()*0.5 + bar.get_y(),\n",
    "        f\"{round(bar.get_height(),0):.0f}\",\n",
    "        ha='center',\n",
    "        va='center',\n",
    "        color='w',\n",
    "        weight='bold',\n",
    "        )\n",
    "\n",
    "ax.set_xticks(xticks, minor=True)\n",
    "ax.set_xticklabels(xlabels, minor=True)\n",
    "ax.xaxis.remove_overlapping_locs = False\n",
    "\n",
    "ax.set_xticks([0,1,2], minor=False)\n",
    "ax.set_xticklabels(list(set(xmajor)), minor=False)\n",
    "ax.tick_params(axis='x', which='major', length=16, width=0)\n",
    "\n",
    "ax.grid(False, which='both')\n",
    "ax.legend(handles=[w1, w2], labels = ['Heizung + TWW', 'Geräte'], loc='center right',ncol=99,bbox_to_anchor=(1,1.03),frameon=False)\n",
    "fig.suptitle(f'Thermischer Energieverbrauch Winter 2021/22')\n",
    "ax.set_title(f'Zeitraum: {startdate.strftime(\"%d.%m.%Y\")} bis {enddate.strftime(\"%d.%m.%Y\")}', fontweight = 'normal')\n",
    "ax.set_ylabel('[kWh / m²]')\n",
    "fig.tight_layout()\n",
    "\n",
    "if ex:\n",
    "    export(fig,exdir,f'Therm_Energieverbrauch_Bui',extlist=['png'], show=True)"
   ]
  }
 ],
 "metadata": {
  "interpreter": {
   "hash": "5a5fe53256759dcdd48ffbd2c915e7ab490daaf277174ef64b4f449a91655156"
  },
  "kernelspec": {
   "display_name": "Python 3.8.8 64-bit ('base': conda)",
   "language": "python",
   "name": "python3"
  },
  "language_info": {
   "codemirror_mode": {
    "name": "ipython",
    "version": 3
   },
   "file_extension": ".py",
   "mimetype": "text/x-python",
   "name": "python",
   "nbconvert_exporter": "python",
   "pygments_lexer": "ipython3",
   "version": "3.10.0"
  },
  "orig_nbformat": 4
 },
 "nbformat": 4,
 "nbformat_minor": 2
}
